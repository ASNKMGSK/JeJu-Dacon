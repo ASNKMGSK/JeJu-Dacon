{
 "cells": [
  {
   "cell_type": "markdown",
   "metadata": {
    "id": "m8yPlw_-VcIa"
   },
   "source": [
    "## Import"
   ]
  },
  {
   "cell_type": "code",
   "execution_count": 25,
   "metadata": {
    "id": "8JsN8l_jVcId"
   },
   "outputs": [],
   "source": [
    "from tqdm import tqdm\n",
    "import glob, os\n",
    "import matplotlib.pyplot as plt\n",
    "import warnings\n",
    "from pandas_profiling import ProfileReport\n",
    "import pandas as pd\n",
    "\n",
    "from sklearn.model_selection import train_test_split\n",
    "from sklearn.feature_selection import SequentialFeatureSelector\n",
    "from sklearn.metrics import mean_absolute_error, r2_score, mean_squared_error, mean_absolute_percentage_error\n",
    "from sklearn.feature_selection import mutual_info_regression, SelectKBest\n",
    "\n",
    "import lightgbm as lgb\n",
    "from catboost import CatBoostRegressor\n",
    "\n",
    "import numpy as np\n",
    "import gc\n",
    "\n",
    "import joblib\n",
    "import scipy.stats as stats\n",
    "\n",
    "%matplotlib inline\n",
    "\n",
    "warnings.filterwarnings('ignore')\n",
    "\n",
    "pd.set_option(\"display.max_columns\", 150)\n",
    "pd.set_option('display.max_colwidth', 150)\n",
    "pd.set_option('display.max_rows', 150)\n",
    "\n",
    "import seaborn as sns\n",
    "if os.name == 'nt' : # Windows OS\n",
    "    font_family= \"Malgun Gothic\"\n",
    "else: # MAC OS\n",
    "    font_family= \"AppleGothic\"\n",
    "# - 값이 깨지는 문제 해결을 위해 파라미터값 설정\n",
    "sns.set(font = font_family, rc = {\"axes.unicode_minus\" : False})"
   ]
  },
  {
   "cell_type": "code",
   "execution_count": 26,
   "metadata": {},
   "outputs": [
    {
     "name": "stdout",
     "output_type": "stream",
     "text": [
      "[name: \"/device:CPU:0\"\n",
      "device_type: \"CPU\"\n",
      "memory_limit: 268435456\n",
      "locality {\n",
      "}\n",
      "incarnation: 7748810921476704492\n",
      "xla_global_id: -1\n",
      ", name: \"/device:GPU:0\"\n",
      "device_type: \"GPU\"\n",
      "memory_limit: 4163895296\n",
      "locality {\n",
      "  bus_id: 1\n",
      "  links {\n",
      "  }\n",
      "}\n",
      "incarnation: 5829048536052406516\n",
      "physical_device_desc: \"device: 0, name: NVIDIA GeForce GTX 1660 Ti with Max-Q Design, pci bus id: 0000:01:00.0, compute capability: 7.5\"\n",
      "xla_global_id: 416903419\n",
      "]\n"
     ]
    }
   ],
   "source": [
    "from tensorflow.python.client import device_lib\n",
    "\n",
    "print(device_lib.list_local_devices())"
   ]
  },
  {
   "cell_type": "markdown",
   "metadata": {
    "id": "YT1oQa9_VcIf"
   },
   "source": [
    "## csv to parquet"
   ]
  },
  {
   "cell_type": "code",
   "execution_count": 27,
   "metadata": {
    "id": "w3qT6DSkVcIf"
   },
   "outputs": [],
   "source": [
    "def csv_to_parquet(csv_path, save_name):\n",
    "    df = pd.read_csv(csv_path)\n",
    "    df.to_parquet(f'./{save_name}.parquet')\n",
    "    del df\n",
    "    gc.collect()\n",
    "    print(save_name, 'Done.')"
   ]
  },
  {
   "cell_type": "code",
   "execution_count": 28,
   "metadata": {
    "id": "o-MdFuF4VcIg",
    "scrolled": true
   },
   "outputs": [
    {
     "name": "stdout",
     "output_type": "stream",
     "text": [
      "train Done.\n",
      "test Done.\n"
     ]
    }
   ],
   "source": [
    "csv_to_parquet('train.csv', 'train')\n",
    "csv_to_parquet('test.csv', 'test')\n",
    "#csv_to_parquet('trainlgbm.csv', 'trainlgbm')"
   ]
  },
  {
   "cell_type": "markdown",
   "metadata": {
    "id": "R3ZuY7koVcIg"
   },
   "source": [
    "## 데이터 불러오기 및 간단한 EDA"
   ]
  },
  {
   "cell_type": "code",
   "execution_count": 29,
   "metadata": {
    "id": "enfTgp1tVcIh"
   },
   "outputs": [],
   "source": [
    "# x->train_data EDA용\n",
    "x = pd.read_parquet('train.parquet')\n",
    "test = pd.read_parquet('test.parquet')\n",
    "#trainlgbm = pd.read_parquet('trainlgbm.parquet')\n",
    "y = x[['target']]"
   ]
  },
  {
   "cell_type": "code",
   "execution_count": 30,
   "metadata": {},
   "outputs": [
    {
     "data": {
      "text/plain": [
       "\"\\ntrainlgbm.columns = ['predict_target']\\nx = pd.concat([x, trainlgbm], axis=1)\\nx['tar_pre_diff'] = x['target']-x['predict_target']\\nx['abs_tar_pre_diff'] = abs(x['target']-x['predict_target'])\\n\""
      ]
     },
     "execution_count": 30,
     "metadata": {},
     "output_type": "execute_result"
    }
   ],
   "source": [
    "'''\n",
    "trainlgbm.columns = ['predict_target']\n",
    "x = pd.concat([x, trainlgbm], axis=1)\n",
    "x['tar_pre_diff'] = x['target']-x['predict_target']\n",
    "x['abs_tar_pre_diff'] = abs(x['target']-x['predict_target'])\n",
    "'''"
   ]
  },
  {
   "cell_type": "code",
   "execution_count": 31,
   "metadata": {},
   "outputs": [
    {
     "data": {
      "text/plain": [
       "<AxesSubplot:xlabel='target'>"
      ]
     },
     "execution_count": 31,
     "metadata": {},
     "output_type": "execute_result"
    },
    {
     "data": {
      "image/png": "[encoded data removed]",
      "text/plain": [
       "<Figure size 700x400 with 1 Axes>"
      ]
     },
     "metadata": {},
     "output_type": "display_data"
    }
   ],
   "source": [
    "plt.figure(figsize=(7, 4))\n",
    "sns.distplot(x['target'], bins=200, kde=False)"
   ]
  },
  {
   "cell_type": "code",
   "execution_count": null,
   "metadata": {},
   "outputs": [],
   "source": [
    "# lgbm이 타겟으로 예측한 값들의 분포\n",
    "plt.figure(figsize=(7, 4))\n",
    "sns.distplot(x['predict_target'], bins=200, kde=False)"
   ]
  },
  {
   "cell_type": "code",
   "execution_count": null,
   "metadata": {},
   "outputs": [],
   "source": [
    "# 모델이 예측한 값의 차이 분포\n",
    "plt.figure(figsize=(7, 4))\n",
    "sns.distplot(x['tar_pre_diff'], bins=200, kde=False)"
   ]
  },
  {
   "cell_type": "code",
   "execution_count": null,
   "metadata": {},
   "outputs": [],
   "source": [
    "x[x['abs_tar_pre_diff']>=40]"
   ]
  },
  {
   "cell_type": "code",
   "execution_count": null,
   "metadata": {},
   "outputs": [],
   "source": [
    "x[x['abs_tar_pre_diff']>=20]['end_node_name'].value_counts()"
   ]
  },
  {
   "cell_type": "code",
   "execution_count": 22,
   "metadata": {},
   "outputs": [
    {
     "data": {
      "text/html": [
       "<div>\n",
       "<style scoped>\n",
       "    .dataframe tbody tr th:only-of-type {\n",
       "        vertical-align: middle;\n",
       "    }\n",
       "\n",
       "    .dataframe tbody tr th {\n",
       "        vertical-align: top;\n",
       "    }\n",
       "\n",
       "    .dataframe thead th {\n",
       "        text-align: right;\n",
       "    }\n",
       "</style>\n",
       "<table border=\"1\" class=\"dataframe\">\n",
       "  <thead>\n",
       "    <tr style=\"text-align: right;\">\n",
       "      <th></th>\n",
       "      <th>target</th>\n",
       "    </tr>\n",
       "    <tr>\n",
       "      <th>day_of_week</th>\n",
       "      <th></th>\n",
       "    </tr>\n",
       "  </thead>\n",
       "  <tbody>\n",
       "    <tr>\n",
       "      <th>금</th>\n",
       "      <td>42.450328</td>\n",
       "    </tr>\n",
       "    <tr>\n",
       "      <th>목</th>\n",
       "      <td>42.768345</td>\n",
       "    </tr>\n",
       "    <tr>\n",
       "      <th>수</th>\n",
       "      <td>42.770372</td>\n",
       "    </tr>\n",
       "    <tr>\n",
       "      <th>월</th>\n",
       "      <td>42.761365</td>\n",
       "    </tr>\n",
       "    <tr>\n",
       "      <th>일</th>\n",
       "      <td>43.179300</td>\n",
       "    </tr>\n",
       "    <tr>\n",
       "      <th>토</th>\n",
       "      <td>42.894117</td>\n",
       "    </tr>\n",
       "    <tr>\n",
       "      <th>화</th>\n",
       "      <td>42.699198</td>\n",
       "    </tr>\n",
       "  </tbody>\n",
       "</table>\n",
       "</div>"
      ],
      "text/plain": [
       "                target\n",
       "day_of_week           \n",
       "금            42.450328\n",
       "목            42.768345\n",
       "수            42.770372\n",
       "월            42.761365\n",
       "일            43.179300\n",
       "토            42.894117\n",
       "화            42.699198"
      ]
     },
     "execution_count": 22,
     "metadata": {},
     "output_type": "execute_result"
    }
   ],
   "source": [
    "basetemp2 = x.groupby('day_of_week').mean()[['target']]\n",
    "basetemp2"
   ]
  },
  {
   "cell_type": "code",
   "execution_count": 23,
   "metadata": {},
   "outputs": [],
   "source": [
    "basetemp = x.groupby('base_date').mean()[['target']]"
   ]
  },
  {
   "cell_type": "code",
   "execution_count": 24,
   "metadata": {},
   "outputs": [],
   "source": [
    "basetemp = basetemp.reset_index()"
   ]
  },
  {
   "cell_type": "code",
   "execution_count": 25,
   "metadata": {},
   "outputs": [],
   "source": [
    "basetemp['base_date'] = basetemp[\"base_date\"].apply(str)\n",
    "basetemp['base_date'] = pd.to_datetime(basetemp['base_date'])"
   ]
  },
  {
   "cell_type": "code",
   "execution_count": 38,
   "metadata": {},
   "outputs": [
    {
     "data": {
      "image/png": "[encoded data removed]",
      "text/plain": [
       "<Figure size 700x500 with 1 Axes>"
      ]
     },
     "metadata": {},
     "output_type": "display_data"
    }
   ],
   "source": [
    "sns.set(rc = {'figure.figsize':(7,5)})\n",
    "sns.lineplot(data=basetemp, x='base_date', y='target')\n",
    "plt.show()"
   ]
  },
  {
   "cell_type": "code",
   "execution_count": 27,
   "metadata": {},
   "outputs": [],
   "source": [
    "temp = x[x['base_date']==20211107]"
   ]
  },
  {
   "cell_type": "code",
   "execution_count": 28,
   "metadata": {},
   "outputs": [
    {
     "data": {
      "text/html": [
       "<div>\n",
       "<style scoped>\n",
       "    .dataframe tbody tr th:only-of-type {\n",
       "        vertical-align: middle;\n",
       "    }\n",
       "\n",
       "    .dataframe tbody tr th {\n",
       "        vertical-align: top;\n",
       "    }\n",
       "\n",
       "    .dataframe thead th {\n",
       "        text-align: right;\n",
       "    }\n",
       "</style>\n",
       "<table border=\"1\" class=\"dataframe\">\n",
       "  <thead>\n",
       "    <tr style=\"text-align: right;\">\n",
       "      <th></th>\n",
       "      <th>id</th>\n",
       "      <th>base_date</th>\n",
       "      <th>day_of_week</th>\n",
       "      <th>base_hour</th>\n",
       "      <th>lane_count</th>\n",
       "      <th>road_rating</th>\n",
       "      <th>road_name</th>\n",
       "      <th>multi_linked</th>\n",
       "      <th>connect_code</th>\n",
       "      <th>maximum_speed_limit</th>\n",
       "      <th>vehicle_restricted</th>\n",
       "      <th>weight_restricted</th>\n",
       "      <th>height_restricted</th>\n",
       "      <th>road_type</th>\n",
       "      <th>start_node_name</th>\n",
       "      <th>start_latitude</th>\n",
       "      <th>start_longitude</th>\n",
       "      <th>start_turn_restricted</th>\n",
       "      <th>end_node_name</th>\n",
       "      <th>end_latitude</th>\n",
       "      <th>end_longitude</th>\n",
       "      <th>end_turn_restricted</th>\n",
       "      <th>target</th>\n",
       "    </tr>\n",
       "  </thead>\n",
       "  <tbody>\n",
       "    <tr>\n",
       "      <th>3465</th>\n",
       "      <td>TRAIN_0003465</td>\n",
       "      <td>20211107</td>\n",
       "      <td>일</td>\n",
       "      <td>0</td>\n",
       "      <td>1</td>\n",
       "      <td>103</td>\n",
       "      <td>일반국도16호선</td>\n",
       "      <td>0</td>\n",
       "      <td>0</td>\n",
       "      <td>60.0</td>\n",
       "      <td>0.0</td>\n",
       "      <td>32400.0</td>\n",
       "      <td>0.0</td>\n",
       "      <td>3</td>\n",
       "      <td>도순3교</td>\n",
       "      <td>33.258900</td>\n",
       "      <td>126.476922</td>\n",
       "      <td>없음</td>\n",
       "      <td>도순3교</td>\n",
       "      <td>33.258960</td>\n",
       "      <td>126.476508</td>\n",
       "      <td>없음</td>\n",
       "      <td>79.0</td>\n",
       "    </tr>\n",
       "    <tr>\n",
       "      <th>4086</th>\n",
       "      <td>TRAIN_0004086</td>\n",
       "      <td>20211107</td>\n",
       "      <td>일</td>\n",
       "      <td>1</td>\n",
       "      <td>3</td>\n",
       "      <td>106</td>\n",
       "      <td>지방도1132호선</td>\n",
       "      <td>0</td>\n",
       "      <td>0</td>\n",
       "      <td>70.0</td>\n",
       "      <td>0.0</td>\n",
       "      <td>0.0</td>\n",
       "      <td>0.0</td>\n",
       "      <td>0</td>\n",
       "      <td>강정교</td>\n",
       "      <td>33.250604</td>\n",
       "      <td>126.489259</td>\n",
       "      <td>없음</td>\n",
       "      <td>도순교</td>\n",
       "      <td>33.250441</td>\n",
       "      <td>126.479773</td>\n",
       "      <td>없음</td>\n",
       "      <td>56.0</td>\n",
       "    </tr>\n",
       "    <tr>\n",
       "      <th>9315</th>\n",
       "      <td>TRAIN_0009315</td>\n",
       "      <td>20211107</td>\n",
       "      <td>일</td>\n",
       "      <td>0</td>\n",
       "      <td>2</td>\n",
       "      <td>103</td>\n",
       "      <td>일반국도95호선</td>\n",
       "      <td>0</td>\n",
       "      <td>0</td>\n",
       "      <td>80.0</td>\n",
       "      <td>0.0</td>\n",
       "      <td>43200.0</td>\n",
       "      <td>0.0</td>\n",
       "      <td>3</td>\n",
       "      <td>경마장교</td>\n",
       "      <td>33.412945</td>\n",
       "      <td>126.396511</td>\n",
       "      <td>없음</td>\n",
       "      <td>경마장교</td>\n",
       "      <td>33.413158</td>\n",
       "      <td>126.396837</td>\n",
       "      <td>없음</td>\n",
       "      <td>74.0</td>\n",
       "    </tr>\n",
       "    <tr>\n",
       "      <th>14361</th>\n",
       "      <td>TRAIN_0014361</td>\n",
       "      <td>20211107</td>\n",
       "      <td>일</td>\n",
       "      <td>2</td>\n",
       "      <td>1</td>\n",
       "      <td>106</td>\n",
       "      <td>지방도97호선</td>\n",
       "      <td>0</td>\n",
       "      <td>0</td>\n",
       "      <td>60.0</td>\n",
       "      <td>0.0</td>\n",
       "      <td>0.0</td>\n",
       "      <td>0.0</td>\n",
       "      <td>0</td>\n",
       "      <td>제2성읍교</td>\n",
       "      <td>33.408913</td>\n",
       "      <td>126.772518</td>\n",
       "      <td>없음</td>\n",
       "      <td>성읍2리</td>\n",
       "      <td>33.410423</td>\n",
       "      <td>126.769650</td>\n",
       "      <td>없음</td>\n",
       "      <td>54.0</td>\n",
       "    </tr>\n",
       "    <tr>\n",
       "      <th>17444</th>\n",
       "      <td>TRAIN_0017444</td>\n",
       "      <td>20211107</td>\n",
       "      <td>일</td>\n",
       "      <td>0</td>\n",
       "      <td>2</td>\n",
       "      <td>107</td>\n",
       "      <td>-</td>\n",
       "      <td>0</td>\n",
       "      <td>0</td>\n",
       "      <td>80.0</td>\n",
       "      <td>0.0</td>\n",
       "      <td>0.0</td>\n",
       "      <td>0.0</td>\n",
       "      <td>0</td>\n",
       "      <td>양계장</td>\n",
       "      <td>33.475446</td>\n",
       "      <td>126.388193</td>\n",
       "      <td>없음</td>\n",
       "      <td>수간교차로</td>\n",
       "      <td>33.471164</td>\n",
       "      <td>126.395147</td>\n",
       "      <td>없음</td>\n",
       "      <td>60.0</td>\n",
       "    </tr>\n",
       "    <tr>\n",
       "      <th>...</th>\n",
       "      <td>...</td>\n",
       "      <td>...</td>\n",
       "      <td>...</td>\n",
       "      <td>...</td>\n",
       "      <td>...</td>\n",
       "      <td>...</td>\n",
       "      <td>...</td>\n",
       "      <td>...</td>\n",
       "      <td>...</td>\n",
       "      <td>...</td>\n",
       "      <td>...</td>\n",
       "      <td>...</td>\n",
       "      <td>...</td>\n",
       "      <td>...</td>\n",
       "      <td>...</td>\n",
       "      <td>...</td>\n",
       "      <td>...</td>\n",
       "      <td>...</td>\n",
       "      <td>...</td>\n",
       "      <td>...</td>\n",
       "      <td>...</td>\n",
       "      <td>...</td>\n",
       "      <td>...</td>\n",
       "    </tr>\n",
       "    <tr>\n",
       "      <th>4688514</th>\n",
       "      <td>TRAIN_4688514</td>\n",
       "      <td>20211107</td>\n",
       "      <td>일</td>\n",
       "      <td>0</td>\n",
       "      <td>1</td>\n",
       "      <td>103</td>\n",
       "      <td>일반국도11호선</td>\n",
       "      <td>0</td>\n",
       "      <td>0</td>\n",
       "      <td>60.0</td>\n",
       "      <td>0.0</td>\n",
       "      <td>0.0</td>\n",
       "      <td>0.0</td>\n",
       "      <td>0</td>\n",
       "      <td>윤고교</td>\n",
       "      <td>33.348305</td>\n",
       "      <td>126.614293</td>\n",
       "      <td>없음</td>\n",
       "      <td>수악교</td>\n",
       "      <td>33.337158</td>\n",
       "      <td>126.610343</td>\n",
       "      <td>없음</td>\n",
       "      <td>53.0</td>\n",
       "    </tr>\n",
       "    <tr>\n",
       "      <th>4689592</th>\n",
       "      <td>TRAIN_4689592</td>\n",
       "      <td>20211107</td>\n",
       "      <td>일</td>\n",
       "      <td>1</td>\n",
       "      <td>1</td>\n",
       "      <td>107</td>\n",
       "      <td>-</td>\n",
       "      <td>0</td>\n",
       "      <td>0</td>\n",
       "      <td>70.0</td>\n",
       "      <td>0.0</td>\n",
       "      <td>0.0</td>\n",
       "      <td>0.0</td>\n",
       "      <td>0</td>\n",
       "      <td>신하교</td>\n",
       "      <td>33.318075</td>\n",
       "      <td>126.618197</td>\n",
       "      <td>없음</td>\n",
       "      <td>송목교</td>\n",
       "      <td>33.317065</td>\n",
       "      <td>126.623867</td>\n",
       "      <td>없음</td>\n",
       "      <td>64.0</td>\n",
       "    </tr>\n",
       "    <tr>\n",
       "      <th>4689913</th>\n",
       "      <td>TRAIN_4689913</td>\n",
       "      <td>20211107</td>\n",
       "      <td>일</td>\n",
       "      <td>0</td>\n",
       "      <td>1</td>\n",
       "      <td>106</td>\n",
       "      <td>지방도1115호선</td>\n",
       "      <td>0</td>\n",
       "      <td>0</td>\n",
       "      <td>60.0</td>\n",
       "      <td>0.0</td>\n",
       "      <td>43200.0</td>\n",
       "      <td>0.0</td>\n",
       "      <td>3</td>\n",
       "      <td>제6산록교</td>\n",
       "      <td>33.291404</td>\n",
       "      <td>126.513613</td>\n",
       "      <td>없음</td>\n",
       "      <td>제6산록교</td>\n",
       "      <td>33.291359</td>\n",
       "      <td>126.514457</td>\n",
       "      <td>없음</td>\n",
       "      <td>56.0</td>\n",
       "    </tr>\n",
       "    <tr>\n",
       "      <th>4691502</th>\n",
       "      <td>TRAIN_4691502</td>\n",
       "      <td>20211107</td>\n",
       "      <td>일</td>\n",
       "      <td>2</td>\n",
       "      <td>2</td>\n",
       "      <td>103</td>\n",
       "      <td>일반국도12호선</td>\n",
       "      <td>0</td>\n",
       "      <td>0</td>\n",
       "      <td>50.0</td>\n",
       "      <td>0.0</td>\n",
       "      <td>0.0</td>\n",
       "      <td>0.0</td>\n",
       "      <td>0</td>\n",
       "      <td>오정카센타</td>\n",
       "      <td>33.452587</td>\n",
       "      <td>126.911865</td>\n",
       "      <td>없음</td>\n",
       "      <td>오조교차로</td>\n",
       "      <td>33.460952</td>\n",
       "      <td>126.910637</td>\n",
       "      <td>없음</td>\n",
       "      <td>52.0</td>\n",
       "    </tr>\n",
       "    <tr>\n",
       "      <th>4699008</th>\n",
       "      <td>TRAIN_4699008</td>\n",
       "      <td>20211107</td>\n",
       "      <td>일</td>\n",
       "      <td>1</td>\n",
       "      <td>1</td>\n",
       "      <td>106</td>\n",
       "      <td>지방도1120호선</td>\n",
       "      <td>0</td>\n",
       "      <td>0</td>\n",
       "      <td>50.0</td>\n",
       "      <td>0.0</td>\n",
       "      <td>0.0</td>\n",
       "      <td>0.0</td>\n",
       "      <td>0</td>\n",
       "      <td>산양입구</td>\n",
       "      <td>33.317459</td>\n",
       "      <td>126.269868</td>\n",
       "      <td>없음</td>\n",
       "      <td>분재원입구</td>\n",
       "      <td>33.326908</td>\n",
       "      <td>126.253025</td>\n",
       "      <td>없음</td>\n",
       "      <td>53.0</td>\n",
       "    </tr>\n",
       "  </tbody>\n",
       "</table>\n",
       "<p>1068 rows × 23 columns</p>\n",
       "</div>"
      ],
      "text/plain": [
       "                    id  base_date day_of_week  base_hour  lane_count  \\\n",
       "3465     TRAIN_0003465   20211107           일          0           1   \n",
       "4086     TRAIN_0004086   20211107           일          1           3   \n",
       "9315     TRAIN_0009315   20211107           일          0           2   \n",
       "14361    TRAIN_0014361   20211107           일          2           1   \n",
       "17444    TRAIN_0017444   20211107           일          0           2   \n",
       "...                ...        ...         ...        ...         ...   \n",
       "4688514  TRAIN_4688514   20211107           일          0           1   \n",
       "4689592  TRAIN_4689592   20211107           일          1           1   \n",
       "4689913  TRAIN_4689913   20211107           일          0           1   \n",
       "4691502  TRAIN_4691502   20211107           일          2           2   \n",
       "4699008  TRAIN_4699008   20211107           일          1           1   \n",
       "\n",
       "         road_rating  road_name  multi_linked  connect_code  \\\n",
       "3465             103   일반국도16호선             0             0   \n",
       "4086             106  지방도1132호선             0             0   \n",
       "9315             103   일반국도95호선             0             0   \n",
       "14361            106    지방도97호선             0             0   \n",
       "17444            107          -             0             0   \n",
       "...              ...        ...           ...           ...   \n",
       "4688514          103   일반국도11호선             0             0   \n",
       "4689592          107          -             0             0   \n",
       "4689913          106  지방도1115호선             0             0   \n",
       "4691502          103   일반국도12호선             0             0   \n",
       "4699008          106  지방도1120호선             0             0   \n",
       "\n",
       "         maximum_speed_limit  vehicle_restricted  weight_restricted  \\\n",
       "3465                    60.0                 0.0            32400.0   \n",
       "4086                    70.0                 0.0                0.0   \n",
       "9315                    80.0                 0.0            43200.0   \n",
       "14361                   60.0                 0.0                0.0   \n",
       "17444                   80.0                 0.0                0.0   \n",
       "...                      ...                 ...                ...   \n",
       "4688514                 60.0                 0.0                0.0   \n",
       "4689592                 70.0                 0.0                0.0   \n",
       "4689913                 60.0                 0.0            43200.0   \n",
       "4691502                 50.0                 0.0                0.0   \n",
       "4699008                 50.0                 0.0                0.0   \n",
       "\n",
       "         height_restricted  road_type start_node_name  start_latitude  \\\n",
       "3465                   0.0          3            도순3교       33.258900   \n",
       "4086                   0.0          0             강정교       33.250604   \n",
       "9315                   0.0          3            경마장교       33.412945   \n",
       "14361                  0.0          0           제2성읍교       33.408913   \n",
       "17444                  0.0          0             양계장       33.475446   \n",
       "...                    ...        ...             ...             ...   \n",
       "4688514                0.0          0             윤고교       33.348305   \n",
       "4689592                0.0          0             신하교       33.318075   \n",
       "4689913                0.0          3           제6산록교       33.291404   \n",
       "4691502                0.0          0           오정카센타       33.452587   \n",
       "4699008                0.0          0            산양입구       33.317459   \n",
       "\n",
       "         start_longitude start_turn_restricted end_node_name  end_latitude  \\\n",
       "3465          126.476922                    없음          도순3교     33.258960   \n",
       "4086          126.489259                    없음           도순교     33.250441   \n",
       "9315          126.396511                    없음          경마장교     33.413158   \n",
       "14361         126.772518                    없음          성읍2리     33.410423   \n",
       "17444         126.388193                    없음         수간교차로     33.471164   \n",
       "...                  ...                   ...           ...           ...   \n",
       "4688514       126.614293                    없음           수악교     33.337158   \n",
       "4689592       126.618197                    없음           송목교     33.317065   \n",
       "4689913       126.513613                    없음         제6산록교     33.291359   \n",
       "4691502       126.911865                    없음         오조교차로     33.460952   \n",
       "4699008       126.269868                    없음         분재원입구     33.326908   \n",
       "\n",
       "         end_longitude end_turn_restricted  target  \n",
       "3465        126.476508                  없음    79.0  \n",
       "4086        126.479773                  없음    56.0  \n",
       "9315        126.396837                  없음    74.0  \n",
       "14361       126.769650                  없음    54.0  \n",
       "17444       126.395147                  없음    60.0  \n",
       "...                ...                 ...     ...  \n",
       "4688514     126.610343                  없음    53.0  \n",
       "4689592     126.623867                  없음    64.0  \n",
       "4689913     126.514457                  없음    56.0  \n",
       "4691502     126.910637                  없음    52.0  \n",
       "4699008     126.253025                  없음    53.0  \n",
       "\n",
       "[1068 rows x 23 columns]"
      ]
     },
     "execution_count": 28,
     "metadata": {},
     "output_type": "execute_result"
    }
   ],
   "source": [
    "temp[temp['target']>50]"
   ]
  },
  {
   "cell_type": "code",
   "execution_count": 36,
   "metadata": {},
   "outputs": [
    {
     "data": {
      "text/plain": [
       "<AxesSubplot:xlabel='base_date', ylabel='target'>"
      ]
     },
     "execution_count": 36,
     "metadata": {},
     "output_type": "execute_result"
    },
    {
     "data": {
      "image/png": "[encoded data removed]",
      "text/plain": [
       "<Figure size 300x300 with 1 Axes>"
      ]
     },
     "metadata": {},
     "output_type": "display_data"
    }
   ],
   "source": [
    "sns.set(rc = {'figure.figsize':(3,3)})\n",
    "sns.boxplot(x=\"base_date\",\n",
    "            y=\"target\",\n",
    "            data=temp)"
   ]
  },
  {
   "cell_type": "code",
   "execution_count": 30,
   "metadata": {
    "id": "HaIgsXx-VcIi"
   },
   "outputs": [],
   "source": [
    "road = dict(x['road_name'].value_counts())"
   ]
  },
  {
   "cell_type": "code",
   "execution_count": 31,
   "metadata": {
    "id": "YSkpqH_vVcIj",
    "scrolled": true
   },
   "outputs": [
    {
     "data": {
      "text/html": [
       "<div>\n",
       "<style scoped>\n",
       "    .dataframe tbody tr th:only-of-type {\n",
       "        vertical-align: middle;\n",
       "    }\n",
       "\n",
       "    .dataframe tbody tr th {\n",
       "        vertical-align: top;\n",
       "    }\n",
       "\n",
       "    .dataframe thead th {\n",
       "        text-align: right;\n",
       "    }\n",
       "</style>\n",
       "<table border=\"1\" class=\"dataframe\">\n",
       "  <thead>\n",
       "    <tr style=\"text-align: right;\">\n",
       "      <th></th>\n",
       "      <th>target</th>\n",
       "    </tr>\n",
       "    <tr>\n",
       "      <th>road_name</th>\n",
       "      <th></th>\n",
       "    </tr>\n",
       "  </thead>\n",
       "  <tbody>\n",
       "    <tr>\n",
       "      <th>-</th>\n",
       "      <td>44.774556</td>\n",
       "    </tr>\n",
       "    <tr>\n",
       "      <th>경찰로</th>\n",
       "      <td>24.686785</td>\n",
       "    </tr>\n",
       "    <tr>\n",
       "      <th>고평교</th>\n",
       "      <td>36.126862</td>\n",
       "    </tr>\n",
       "    <tr>\n",
       "      <th>관광단지1로</th>\n",
       "      <td>39.292453</td>\n",
       "    </tr>\n",
       "    <tr>\n",
       "      <th>관광단지2로</th>\n",
       "      <td>34.469287</td>\n",
       "    </tr>\n",
       "    <tr>\n",
       "      <th>관광단지로</th>\n",
       "      <td>30.307276</td>\n",
       "    </tr>\n",
       "    <tr>\n",
       "      <th>관덕로</th>\n",
       "      <td>30.295770</td>\n",
       "    </tr>\n",
       "    <tr>\n",
       "      <th>권학로</th>\n",
       "      <td>26.800154</td>\n",
       "    </tr>\n",
       "    <tr>\n",
       "      <th>남조로</th>\n",
       "      <td>34.098048</td>\n",
       "    </tr>\n",
       "    <tr>\n",
       "      <th>동문로</th>\n",
       "      <td>23.898236</td>\n",
       "    </tr>\n",
       "    <tr>\n",
       "      <th>동부관광도로</th>\n",
       "      <td>36.893483</td>\n",
       "    </tr>\n",
       "    <tr>\n",
       "      <th>동홍로</th>\n",
       "      <td>29.912135</td>\n",
       "    </tr>\n",
       "    <tr>\n",
       "      <th>번영로</th>\n",
       "      <td>50.719692</td>\n",
       "    </tr>\n",
       "    <tr>\n",
       "      <th>산서로</th>\n",
       "      <td>30.474955</td>\n",
       "    </tr>\n",
       "    <tr>\n",
       "      <th>삼무로</th>\n",
       "      <td>15.159959</td>\n",
       "    </tr>\n",
       "    <tr>\n",
       "      <th>삼봉로</th>\n",
       "      <td>17.024911</td>\n",
       "    </tr>\n",
       "    <tr>\n",
       "      <th>삼성로</th>\n",
       "      <td>30.794918</td>\n",
       "    </tr>\n",
       "    <tr>\n",
       "      <th>새서귀로</th>\n",
       "      <td>26.914911</td>\n",
       "    </tr>\n",
       "    <tr>\n",
       "      <th>서사로</th>\n",
       "      <td>19.396394</td>\n",
       "    </tr>\n",
       "    <tr>\n",
       "      <th>수영장길</th>\n",
       "      <td>24.980845</td>\n",
       "    </tr>\n",
       "    <tr>\n",
       "      <th>시민광장로</th>\n",
       "      <td>25.834499</td>\n",
       "    </tr>\n",
       "    <tr>\n",
       "      <th>시청로</th>\n",
       "      <td>31.322056</td>\n",
       "    </tr>\n",
       "    <tr>\n",
       "      <th>신광로</th>\n",
       "      <td>19.435402</td>\n",
       "    </tr>\n",
       "    <tr>\n",
       "      <th>신대로</th>\n",
       "      <td>25.642498</td>\n",
       "    </tr>\n",
       "    <tr>\n",
       "      <th>신산로</th>\n",
       "      <td>26.482265</td>\n",
       "    </tr>\n",
       "    <tr>\n",
       "      <th>아봉로</th>\n",
       "      <td>32.254154</td>\n",
       "    </tr>\n",
       "    <tr>\n",
       "      <th>애원로</th>\n",
       "      <td>45.513345</td>\n",
       "    </tr>\n",
       "    <tr>\n",
       "      <th>애조로</th>\n",
       "      <td>57.212785</td>\n",
       "    </tr>\n",
       "    <tr>\n",
       "      <th>어시천교</th>\n",
       "      <td>40.872581</td>\n",
       "    </tr>\n",
       "    <tr>\n",
       "      <th>연동로</th>\n",
       "      <td>22.564200</td>\n",
       "    </tr>\n",
       "    <tr>\n",
       "      <th>연북2교</th>\n",
       "      <td>37.205875</td>\n",
       "    </tr>\n",
       "    <tr>\n",
       "      <th>연북로</th>\n",
       "      <td>23.679980</td>\n",
       "    </tr>\n",
       "    <tr>\n",
       "      <th>연삼로</th>\n",
       "      <td>35.053946</td>\n",
       "    </tr>\n",
       "    <tr>\n",
       "      <th>외도천교</th>\n",
       "      <td>40.872412</td>\n",
       "    </tr>\n",
       "    <tr>\n",
       "      <th>일반국도11호선</th>\n",
       "      <td>39.990158</td>\n",
       "    </tr>\n",
       "    <tr>\n",
       "      <th>일반국도12호선</th>\n",
       "      <td>43.530979</td>\n",
       "    </tr>\n",
       "    <tr>\n",
       "      <th>일반국도16호선</th>\n",
       "      <td>44.365146</td>\n",
       "    </tr>\n",
       "    <tr>\n",
       "      <th>일반국도95호선</th>\n",
       "      <td>70.443438</td>\n",
       "    </tr>\n",
       "    <tr>\n",
       "      <th>일반국도99호선</th>\n",
       "      <td>42.965662</td>\n",
       "    </tr>\n",
       "    <tr>\n",
       "      <th>일주동로</th>\n",
       "      <td>51.258383</td>\n",
       "    </tr>\n",
       "    <tr>\n",
       "      <th>임항로</th>\n",
       "      <td>24.515212</td>\n",
       "    </tr>\n",
       "    <tr>\n",
       "      <th>제2거로교</th>\n",
       "      <td>37.286910</td>\n",
       "    </tr>\n",
       "    <tr>\n",
       "      <th>중문로</th>\n",
       "      <td>36.008325</td>\n",
       "    </tr>\n",
       "    <tr>\n",
       "      <th>중산간서로</th>\n",
       "      <td>51.035886</td>\n",
       "    </tr>\n",
       "    <tr>\n",
       "      <th>중앙로</th>\n",
       "      <td>25.349258</td>\n",
       "    </tr>\n",
       "    <tr>\n",
       "      <th>중정로</th>\n",
       "      <td>25.311285</td>\n",
       "    </tr>\n",
       "    <tr>\n",
       "      <th>지방도1112호선</th>\n",
       "      <td>47.291909</td>\n",
       "    </tr>\n",
       "    <tr>\n",
       "      <th>지방도1115호선</th>\n",
       "      <td>53.756296</td>\n",
       "    </tr>\n",
       "    <tr>\n",
       "      <th>지방도1116호선</th>\n",
       "      <td>61.580721</td>\n",
       "    </tr>\n",
       "    <tr>\n",
       "      <th>지방도1117호선</th>\n",
       "      <td>58.903308</td>\n",
       "    </tr>\n",
       "    <tr>\n",
       "      <th>지방도1118호선</th>\n",
       "      <td>50.635763</td>\n",
       "    </tr>\n",
       "    <tr>\n",
       "      <th>지방도1119호선</th>\n",
       "      <td>41.875178</td>\n",
       "    </tr>\n",
       "    <tr>\n",
       "      <th>지방도1120호선</th>\n",
       "      <td>36.228093</td>\n",
       "    </tr>\n",
       "    <tr>\n",
       "      <th>지방도1132호선</th>\n",
       "      <td>40.370720</td>\n",
       "    </tr>\n",
       "    <tr>\n",
       "      <th>지방도1136호선</th>\n",
       "      <td>45.922186</td>\n",
       "    </tr>\n",
       "    <tr>\n",
       "      <th>지방도97호선</th>\n",
       "      <td>60.525723</td>\n",
       "    </tr>\n",
       "    <tr>\n",
       "      <th>첨단로</th>\n",
       "      <td>47.246703</td>\n",
       "    </tr>\n",
       "    <tr>\n",
       "      <th>태평로</th>\n",
       "      <td>25.030004</td>\n",
       "    </tr>\n",
       "    <tr>\n",
       "      <th>한천로</th>\n",
       "      <td>22.745260</td>\n",
       "    </tr>\n",
       "    <tr>\n",
       "      <th>호근로</th>\n",
       "      <td>32.086882</td>\n",
       "    </tr>\n",
       "    <tr>\n",
       "      <th>호서중앙로</th>\n",
       "      <td>32.510819</td>\n",
       "    </tr>\n",
       "  </tbody>\n",
       "</table>\n",
       "</div>"
      ],
      "text/plain": [
       "              target\n",
       "road_name           \n",
       "-          44.774556\n",
       "경찰로        24.686785\n",
       "고평교        36.126862\n",
       "관광단지1로     39.292453\n",
       "관광단지2로     34.469287\n",
       "관광단지로      30.307276\n",
       "관덕로        30.295770\n",
       "권학로        26.800154\n",
       "남조로        34.098048\n",
       "동문로        23.898236\n",
       "동부관광도로     36.893483\n",
       "동홍로        29.912135\n",
       "번영로        50.719692\n",
       "산서로        30.474955\n",
       "삼무로        15.159959\n",
       "삼봉로        17.024911\n",
       "삼성로        30.794918\n",
       "새서귀로       26.914911\n",
       "서사로        19.396394\n",
       "수영장길       24.980845\n",
       "시민광장로      25.834499\n",
       "시청로        31.322056\n",
       "신광로        19.435402\n",
       "신대로        25.642498\n",
       "신산로        26.482265\n",
       "아봉로        32.254154\n",
       "애원로        45.513345\n",
       "애조로        57.212785\n",
       "어시천교       40.872581\n",
       "연동로        22.564200\n",
       "연북2교       37.205875\n",
       "연북로        23.679980\n",
       "연삼로        35.053946\n",
       "외도천교       40.872412\n",
       "일반국도11호선   39.990158\n",
       "일반국도12호선   43.530979\n",
       "일반국도16호선   44.365146\n",
       "일반국도95호선   70.443438\n",
       "일반국도99호선   42.965662\n",
       "일주동로       51.258383\n",
       "임항로        24.515212\n",
       "제2거로교      37.286910\n",
       "중문로        36.008325\n",
       "중산간서로      51.035886\n",
       "중앙로        25.349258\n",
       "중정로        25.311285\n",
       "지방도1112호선  47.291909\n",
       "지방도1115호선  53.756296\n",
       "지방도1116호선  61.580721\n",
       "지방도1117호선  58.903308\n",
       "지방도1118호선  50.635763\n",
       "지방도1119호선  41.875178\n",
       "지방도1120호선  36.228093\n",
       "지방도1132호선  40.370720\n",
       "지방도1136호선  45.922186\n",
       "지방도97호선    60.525723\n",
       "첨단로        47.246703\n",
       "태평로        25.030004\n",
       "한천로        22.745260\n",
       "호근로        32.086882\n",
       "호서중앙로      32.510819"
      ]
     },
     "execution_count": 31,
     "metadata": {},
     "output_type": "execute_result"
    }
   ],
   "source": [
    "x.groupby('road_name').mean()[['target']]"
   ]
  },
  {
   "cell_type": "code",
   "execution_count": 39,
   "metadata": {
    "id": "HHWwsZDAVcIj"
   },
   "outputs": [
    {
     "data": {
      "text/plain": [
       "61"
      ]
     },
     "execution_count": 39,
     "metadata": {},
     "output_type": "execute_result"
    }
   ],
   "source": [
    "x['road_name'].nunique()"
   ]
  },
  {
   "cell_type": "code",
   "execution_count": 40,
   "metadata": {
    "id": "1ZoOVA-kVcIj"
   },
   "outputs": [
    {
     "data": {
      "text/plain": [
       "array(['지방도1112호선', '일반국도11호선', '일반국도16호선', '태평로', '일반국도12호선', '경찰로', '-',\n",
       "       '외도천교', '일반국도99호선', '중정로', '번영로', '연동로', '중산간서로', '지방도1118호선',\n",
       "       '새서귀로', '지방도1115호선', '지방도1132호선', '어시천교', '지방도1120호선', '삼무로',\n",
       "       '애조로', '지방도1116호선', '일반국도95호선', '동부관광도로', '동홍로', '지방도97호선', '중문로',\n",
       "       '연삼로', '중앙로', '산서로', '지방도1117호선', '연북로', '남조로', '지방도1119호선', '동문로',\n",
       "       '한천로', '삼봉로', '고평교', '연북2교', '관광단지로', '권학로', '시청로', '신대로', '서사로',\n",
       "       '관덕로', '관광단지1로', '신산로', '관광단지2로', '신광로', '지방도1136호선', '첨단로',\n",
       "       '제2거로교', '시민광장로', '임항로', '수영장길', '애원로', '삼성로', '일주동로', '호서중앙로',\n",
       "       '아봉로', '호근로'], dtype=object)"
      ]
     },
     "execution_count": 40,
     "metadata": {},
     "output_type": "execute_result"
    }
   ],
   "source": [
    "x['road_name'].unique()"
   ]
  },
  {
   "cell_type": "code",
   "execution_count": 41,
   "metadata": {
    "id": "9dYUeJjSVcIj"
   },
   "outputs": [],
   "source": [
    "for i in x['road_name'].unique():\n",
    "    globals()[\"r{}\".format(i)] = x[x['road_name']==i]"
   ]
  },
  {
   "cell_type": "code",
   "execution_count": 42,
   "metadata": {
    "id": "cWL4dz1HVcIk",
    "scrolled": true
   },
   "outputs": [
    {
     "data": {
      "text/html": [
       "<div>\n",
       "<style scoped>\n",
       "    .dataframe tbody tr th:only-of-type {\n",
       "        vertical-align: middle;\n",
       "    }\n",
       "\n",
       "    .dataframe tbody tr th {\n",
       "        vertical-align: top;\n",
       "    }\n",
       "\n",
       "    .dataframe thead th {\n",
       "        text-align: right;\n",
       "    }\n",
       "</style>\n",
       "<table border=\"1\" class=\"dataframe\">\n",
       "  <thead>\n",
       "    <tr style=\"text-align: right;\">\n",
       "      <th></th>\n",
       "      <th>maximum_speed_limit(max)</th>\n",
       "      <th>maximum_speed_limit(min)</th>\n",
       "    </tr>\n",
       "    <tr>\n",
       "      <th>road_name</th>\n",
       "      <th></th>\n",
       "      <th></th>\n",
       "    </tr>\n",
       "  </thead>\n",
       "  <tbody>\n",
       "    <tr>\n",
       "      <th>-</th>\n",
       "      <td>80.0</td>\n",
       "      <td>30.0</td>\n",
       "    </tr>\n",
       "    <tr>\n",
       "      <th>경찰로</th>\n",
       "      <td>60.0</td>\n",
       "      <td>60.0</td>\n",
       "    </tr>\n",
       "    <tr>\n",
       "      <th>고평교</th>\n",
       "      <td>50.0</td>\n",
       "      <td>50.0</td>\n",
       "    </tr>\n",
       "    <tr>\n",
       "      <th>관광단지1로</th>\n",
       "      <td>30.0</td>\n",
       "      <td>30.0</td>\n",
       "    </tr>\n",
       "    <tr>\n",
       "      <th>관광단지2로</th>\n",
       "      <td>30.0</td>\n",
       "      <td>30.0</td>\n",
       "    </tr>\n",
       "    <tr>\n",
       "      <th>관광단지로</th>\n",
       "      <td>30.0</td>\n",
       "      <td>30.0</td>\n",
       "    </tr>\n",
       "    <tr>\n",
       "      <th>관덕로</th>\n",
       "      <td>60.0</td>\n",
       "      <td>60.0</td>\n",
       "    </tr>\n",
       "    <tr>\n",
       "      <th>권학로</th>\n",
       "      <td>60.0</td>\n",
       "      <td>60.0</td>\n",
       "    </tr>\n",
       "    <tr>\n",
       "      <th>남조로</th>\n",
       "      <td>60.0</td>\n",
       "      <td>50.0</td>\n",
       "    </tr>\n",
       "    <tr>\n",
       "      <th>동문로</th>\n",
       "      <td>50.0</td>\n",
       "      <td>50.0</td>\n",
       "    </tr>\n",
       "    <tr>\n",
       "      <th>동부관광도로</th>\n",
       "      <td>50.0</td>\n",
       "      <td>50.0</td>\n",
       "    </tr>\n",
       "    <tr>\n",
       "      <th>동홍로</th>\n",
       "      <td>60.0</td>\n",
       "      <td>50.0</td>\n",
       "    </tr>\n",
       "    <tr>\n",
       "      <th>번영로</th>\n",
       "      <td>70.0</td>\n",
       "      <td>70.0</td>\n",
       "    </tr>\n",
       "    <tr>\n",
       "      <th>산서로</th>\n",
       "      <td>60.0</td>\n",
       "      <td>50.0</td>\n",
       "    </tr>\n",
       "    <tr>\n",
       "      <th>삼무로</th>\n",
       "      <td>50.0</td>\n",
       "      <td>50.0</td>\n",
       "    </tr>\n",
       "    <tr>\n",
       "      <th>삼봉로</th>\n",
       "      <td>60.0</td>\n",
       "      <td>60.0</td>\n",
       "    </tr>\n",
       "    <tr>\n",
       "      <th>삼성로</th>\n",
       "      <td>60.0</td>\n",
       "      <td>60.0</td>\n",
       "    </tr>\n",
       "    <tr>\n",
       "      <th>새서귀로</th>\n",
       "      <td>60.0</td>\n",
       "      <td>30.0</td>\n",
       "    </tr>\n",
       "    <tr>\n",
       "      <th>서사로</th>\n",
       "      <td>50.0</td>\n",
       "      <td>30.0</td>\n",
       "    </tr>\n",
       "    <tr>\n",
       "      <th>수영장길</th>\n",
       "      <td>60.0</td>\n",
       "      <td>60.0</td>\n",
       "    </tr>\n",
       "    <tr>\n",
       "      <th>시민광장로</th>\n",
       "      <td>30.0</td>\n",
       "      <td>30.0</td>\n",
       "    </tr>\n",
       "    <tr>\n",
       "      <th>시청로</th>\n",
       "      <td>60.0</td>\n",
       "      <td>60.0</td>\n",
       "    </tr>\n",
       "    <tr>\n",
       "      <th>신광로</th>\n",
       "      <td>50.0</td>\n",
       "      <td>50.0</td>\n",
       "    </tr>\n",
       "    <tr>\n",
       "      <th>신대로</th>\n",
       "      <td>70.0</td>\n",
       "      <td>30.0</td>\n",
       "    </tr>\n",
       "    <tr>\n",
       "      <th>신산로</th>\n",
       "      <td>60.0</td>\n",
       "      <td>60.0</td>\n",
       "    </tr>\n",
       "    <tr>\n",
       "      <th>아봉로</th>\n",
       "      <td>60.0</td>\n",
       "      <td>60.0</td>\n",
       "    </tr>\n",
       "    <tr>\n",
       "      <th>애원로</th>\n",
       "      <td>50.0</td>\n",
       "      <td>50.0</td>\n",
       "    </tr>\n",
       "    <tr>\n",
       "      <th>애조로</th>\n",
       "      <td>80.0</td>\n",
       "      <td>80.0</td>\n",
       "    </tr>\n",
       "    <tr>\n",
       "      <th>어시천교</th>\n",
       "      <td>60.0</td>\n",
       "      <td>60.0</td>\n",
       "    </tr>\n",
       "    <tr>\n",
       "      <th>연동로</th>\n",
       "      <td>50.0</td>\n",
       "      <td>50.0</td>\n",
       "    </tr>\n",
       "    <tr>\n",
       "      <th>연북2교</th>\n",
       "      <td>70.0</td>\n",
       "      <td>70.0</td>\n",
       "    </tr>\n",
       "    <tr>\n",
       "      <th>연북로</th>\n",
       "      <td>50.0</td>\n",
       "      <td>30.0</td>\n",
       "    </tr>\n",
       "    <tr>\n",
       "      <th>연삼로</th>\n",
       "      <td>70.0</td>\n",
       "      <td>70.0</td>\n",
       "    </tr>\n",
       "    <tr>\n",
       "      <th>외도천교</th>\n",
       "      <td>60.0</td>\n",
       "      <td>60.0</td>\n",
       "    </tr>\n",
       "    <tr>\n",
       "      <th>일반국도11호선</th>\n",
       "      <td>70.0</td>\n",
       "      <td>30.0</td>\n",
       "    </tr>\n",
       "    <tr>\n",
       "      <th>일반국도12호선</th>\n",
       "      <td>80.0</td>\n",
       "      <td>30.0</td>\n",
       "    </tr>\n",
       "    <tr>\n",
       "      <th>일반국도16호선</th>\n",
       "      <td>80.0</td>\n",
       "      <td>30.0</td>\n",
       "    </tr>\n",
       "    <tr>\n",
       "      <th>일반국도95호선</th>\n",
       "      <td>80.0</td>\n",
       "      <td>40.0</td>\n",
       "    </tr>\n",
       "    <tr>\n",
       "      <th>일반국도99호선</th>\n",
       "      <td>70.0</td>\n",
       "      <td>30.0</td>\n",
       "    </tr>\n",
       "    <tr>\n",
       "      <th>일주동로</th>\n",
       "      <td>70.0</td>\n",
       "      <td>70.0</td>\n",
       "    </tr>\n",
       "    <tr>\n",
       "      <th>임항로</th>\n",
       "      <td>70.0</td>\n",
       "      <td>70.0</td>\n",
       "    </tr>\n",
       "    <tr>\n",
       "      <th>제2거로교</th>\n",
       "      <td>70.0</td>\n",
       "      <td>70.0</td>\n",
       "    </tr>\n",
       "    <tr>\n",
       "      <th>중문로</th>\n",
       "      <td>50.0</td>\n",
       "      <td>50.0</td>\n",
       "    </tr>\n",
       "    <tr>\n",
       "      <th>중산간서로</th>\n",
       "      <td>70.0</td>\n",
       "      <td>50.0</td>\n",
       "    </tr>\n",
       "    <tr>\n",
       "      <th>중앙로</th>\n",
       "      <td>70.0</td>\n",
       "      <td>60.0</td>\n",
       "    </tr>\n",
       "    <tr>\n",
       "      <th>중정로</th>\n",
       "      <td>50.0</td>\n",
       "      <td>50.0</td>\n",
       "    </tr>\n",
       "    <tr>\n",
       "      <th>지방도1112호선</th>\n",
       "      <td>60.0</td>\n",
       "      <td>30.0</td>\n",
       "    </tr>\n",
       "    <tr>\n",
       "      <th>지방도1115호선</th>\n",
       "      <td>60.0</td>\n",
       "      <td>60.0</td>\n",
       "    </tr>\n",
       "    <tr>\n",
       "      <th>지방도1116호선</th>\n",
       "      <td>80.0</td>\n",
       "      <td>80.0</td>\n",
       "    </tr>\n",
       "    <tr>\n",
       "      <th>지방도1117호선</th>\n",
       "      <td>60.0</td>\n",
       "      <td>60.0</td>\n",
       "    </tr>\n",
       "    <tr>\n",
       "      <th>지방도1118호선</th>\n",
       "      <td>70.0</td>\n",
       "      <td>50.0</td>\n",
       "    </tr>\n",
       "    <tr>\n",
       "      <th>지방도1119호선</th>\n",
       "      <td>60.0</td>\n",
       "      <td>60.0</td>\n",
       "    </tr>\n",
       "    <tr>\n",
       "      <th>지방도1120호선</th>\n",
       "      <td>60.0</td>\n",
       "      <td>30.0</td>\n",
       "    </tr>\n",
       "    <tr>\n",
       "      <th>지방도1132호선</th>\n",
       "      <td>70.0</td>\n",
       "      <td>50.0</td>\n",
       "    </tr>\n",
       "    <tr>\n",
       "      <th>지방도1136호선</th>\n",
       "      <td>60.0</td>\n",
       "      <td>60.0</td>\n",
       "    </tr>\n",
       "    <tr>\n",
       "      <th>지방도97호선</th>\n",
       "      <td>60.0</td>\n",
       "      <td>60.0</td>\n",
       "    </tr>\n",
       "    <tr>\n",
       "      <th>첨단로</th>\n",
       "      <td>50.0</td>\n",
       "      <td>50.0</td>\n",
       "    </tr>\n",
       "    <tr>\n",
       "      <th>태평로</th>\n",
       "      <td>50.0</td>\n",
       "      <td>50.0</td>\n",
       "    </tr>\n",
       "    <tr>\n",
       "      <th>한천로</th>\n",
       "      <td>60.0</td>\n",
       "      <td>60.0</td>\n",
       "    </tr>\n",
       "    <tr>\n",
       "      <th>호근로</th>\n",
       "      <td>30.0</td>\n",
       "      <td>30.0</td>\n",
       "    </tr>\n",
       "    <tr>\n",
       "      <th>호서중앙로</th>\n",
       "      <td>50.0</td>\n",
       "      <td>50.0</td>\n",
       "    </tr>\n",
       "  </tbody>\n",
       "</table>\n",
       "</div>"
      ],
      "text/plain": [
       "           maximum_speed_limit(max)  maximum_speed_limit(min)\n",
       "road_name                                                    \n",
       "-                              80.0                      30.0\n",
       "경찰로                            60.0                      60.0\n",
       "고평교                            50.0                      50.0\n",
       "관광단지1로                         30.0                      30.0\n",
       "관광단지2로                         30.0                      30.0\n",
       "관광단지로                          30.0                      30.0\n",
       "관덕로                            60.0                      60.0\n",
       "권학로                            60.0                      60.0\n",
       "남조로                            60.0                      50.0\n",
       "동문로                            50.0                      50.0\n",
       "동부관광도로                         50.0                      50.0\n",
       "동홍로                            60.0                      50.0\n",
       "번영로                            70.0                      70.0\n",
       "산서로                            60.0                      50.0\n",
       "삼무로                            50.0                      50.0\n",
       "삼봉로                            60.0                      60.0\n",
       "삼성로                            60.0                      60.0\n",
       "새서귀로                           60.0                      30.0\n",
       "서사로                            50.0                      30.0\n",
       "수영장길                           60.0                      60.0\n",
       "시민광장로                          30.0                      30.0\n",
       "시청로                            60.0                      60.0\n",
       "신광로                            50.0                      50.0\n",
       "신대로                            70.0                      30.0\n",
       "신산로                            60.0                      60.0\n",
       "아봉로                            60.0                      60.0\n",
       "애원로                            50.0                      50.0\n",
       "애조로                            80.0                      80.0\n",
       "어시천교                           60.0                      60.0\n",
       "연동로                            50.0                      50.0\n",
       "연북2교                           70.0                      70.0\n",
       "연북로                            50.0                      30.0\n",
       "연삼로                            70.0                      70.0\n",
       "외도천교                           60.0                      60.0\n",
       "일반국도11호선                       70.0                      30.0\n",
       "일반국도12호선                       80.0                      30.0\n",
       "일반국도16호선                       80.0                      30.0\n",
       "일반국도95호선                       80.0                      40.0\n",
       "일반국도99호선                       70.0                      30.0\n",
       "일주동로                           70.0                      70.0\n",
       "임항로                            70.0                      70.0\n",
       "제2거로교                          70.0                      70.0\n",
       "중문로                            50.0                      50.0\n",
       "중산간서로                          70.0                      50.0\n",
       "중앙로                            70.0                      60.0\n",
       "중정로                            50.0                      50.0\n",
       "지방도1112호선                      60.0                      30.0\n",
       "지방도1115호선                      60.0                      60.0\n",
       "지방도1116호선                      80.0                      80.0\n",
       "지방도1117호선                      60.0                      60.0\n",
       "지방도1118호선                      70.0                      50.0\n",
       "지방도1119호선                      60.0                      60.0\n",
       "지방도1120호선                      60.0                      30.0\n",
       "지방도1132호선                      70.0                      50.0\n",
       "지방도1136호선                      60.0                      60.0\n",
       "지방도97호선                        60.0                      60.0\n",
       "첨단로                            50.0                      50.0\n",
       "태평로                            50.0                      50.0\n",
       "한천로                            60.0                      60.0\n",
       "호근로                            30.0                      30.0\n",
       "호서중앙로                          50.0                      50.0"
      ]
     },
     "execution_count": 42,
     "metadata": {},
     "output_type": "execute_result"
    }
   ],
   "source": [
    "train_temp = x[['road_name', 'maximum_speed_limit']]\n",
    "df_max_speed_per_nodename = train_temp.groupby(\"road_name\").max()\n",
    "df_max_speed_per_nodename.rename(columns = {'maximum_speed_limit' : 'maximum_speed_limit(max)'}, inplace = True)\n",
    "\n",
    "df_min_speed_per_nodename = train_temp.groupby(\"road_name\").min()\n",
    "df_min_speed_per_nodename.rename(columns = {'maximum_speed_limit' : 'maximum_speed_limit(min)'}, inplace = True)\n",
    "\n",
    "result = pd.concat([df_max_speed_per_nodename, df_min_speed_per_nodename['maximum_speed_limit(min)']], axis=1)\n",
    "result"
   ]
  },
  {
   "cell_type": "code",
   "execution_count": 43,
   "metadata": {
    "id": "wg72MugNVcIk"
   },
   "outputs": [
    {
     "data": {
      "text/plain": [
       "30.0    6049\n",
       "50.0    6044\n",
       "Name: maximum_speed_limit, dtype: int64"
      ]
     },
     "execution_count": 43,
     "metadata": {},
     "output_type": "execute_result"
    }
   ],
   "source": [
    "r연북로['maximum_speed_limit'].value_counts()"
   ]
  },
  {
   "cell_type": "code",
   "execution_count": 44,
   "metadata": {
    "id": "wucMsSepVcIk"
   },
   "outputs": [
    {
     "data": {
      "text/plain": [
       "<AxesSubplot:xlabel='maximum_speed_limit', ylabel='Density'>"
      ]
     },
     "execution_count": 44,
     "metadata": {},
     "output_type": "execute_result"
    },
    {
     "data": {
      "image/png": "[encoded data removed]",
      "text/plain": [
       "<Figure size 700x400 with 1 Axes>"
      ]
     },
     "metadata": {},
     "output_type": "display_data"
    }
   ],
   "source": [
    "plt.figure(figsize=(7, 4))\n",
    "sns.distplot(r지방도1118호선['maximum_speed_limit'])"
   ]
  },
  {
   "cell_type": "code",
   "execution_count": 45,
   "metadata": {
    "id": "Eq2PLZVWVcIk"
   },
   "outputs": [
    {
     "name": "stdout",
     "output_type": "stream",
     "text": [
      "55.71353909870822\n",
      "48.10905810625855\n",
      "51.33253661394259\n"
     ]
    }
   ],
   "source": [
    "print(r지방도1118호선[r지방도1118호선['maximum_speed_limit']==70]['target'].mean())\n",
    "print(r지방도1118호선[r지방도1118호선['maximum_speed_limit']==60]['target'].mean())\n",
    "print(r지방도1118호선[r지방도1118호선['maximum_speed_limit']==50]['target'].mean())"
   ]
  },
  {
   "cell_type": "markdown",
   "metadata": {
    "id": "gs10z97Q5frq"
   },
   "source": [
    "### 전처리"
   ]
  },
  {
   "cell_type": "code",
   "execution_count": 46,
   "metadata": {},
   "outputs": [],
   "source": [
    "x2 = pd.concat([x, test], axis=0)"
   ]
  },
  {
   "cell_type": "code",
   "execution_count": 47,
   "metadata": {},
   "outputs": [
    {
     "data": {
      "text/html": [
       "<div>\n",
       "<style scoped>\n",
       "    .dataframe tbody tr th:only-of-type {\n",
       "        vertical-align: middle;\n",
       "    }\n",
       "\n",
       "    .dataframe tbody tr th {\n",
       "        vertical-align: top;\n",
       "    }\n",
       "\n",
       "    .dataframe thead th {\n",
       "        text-align: right;\n",
       "    }\n",
       "</style>\n",
       "<table border=\"1\" class=\"dataframe\">\n",
       "  <thead>\n",
       "    <tr style=\"text-align: right;\">\n",
       "      <th></th>\n",
       "      <th>id</th>\n",
       "      <th>base_date</th>\n",
       "      <th>day_of_week</th>\n",
       "      <th>base_hour</th>\n",
       "      <th>lane_count</th>\n",
       "      <th>road_rating</th>\n",
       "      <th>road_name</th>\n",
       "      <th>multi_linked</th>\n",
       "      <th>connect_code</th>\n",
       "      <th>maximum_speed_limit</th>\n",
       "      <th>vehicle_restricted</th>\n",
       "      <th>weight_restricted</th>\n",
       "      <th>height_restricted</th>\n",
       "      <th>road_type</th>\n",
       "      <th>start_node_name</th>\n",
       "      <th>start_latitude</th>\n",
       "      <th>start_longitude</th>\n",
       "      <th>start_turn_restricted</th>\n",
       "      <th>end_node_name</th>\n",
       "      <th>end_latitude</th>\n",
       "      <th>end_longitude</th>\n",
       "      <th>end_turn_restricted</th>\n",
       "      <th>target</th>\n",
       "    </tr>\n",
       "  </thead>\n",
       "  <tbody>\n",
       "    <tr>\n",
       "      <th>0</th>\n",
       "      <td>TRAIN_0000000</td>\n",
       "      <td>20220623</td>\n",
       "      <td>목</td>\n",
       "      <td>17</td>\n",
       "      <td>1</td>\n",
       "      <td>106</td>\n",
       "      <td>지방도1112호선</td>\n",
       "      <td>0</td>\n",
       "      <td>0</td>\n",
       "      <td>60.0</td>\n",
       "      <td>0.0</td>\n",
       "      <td>32400.0</td>\n",
       "      <td>0.0</td>\n",
       "      <td>3</td>\n",
       "      <td>제3교래교</td>\n",
       "      <td>33.427747</td>\n",
       "      <td>126.662612</td>\n",
       "      <td>없음</td>\n",
       "      <td>제3교래교</td>\n",
       "      <td>33.427749</td>\n",
       "      <td>126.662335</td>\n",
       "      <td>없음</td>\n",
       "      <td>52.0</td>\n",
       "    </tr>\n",
       "    <tr>\n",
       "      <th>1</th>\n",
       "      <td>TRAIN_0000001</td>\n",
       "      <td>20220728</td>\n",
       "      <td>목</td>\n",
       "      <td>21</td>\n",
       "      <td>2</td>\n",
       "      <td>103</td>\n",
       "      <td>일반국도11호선</td>\n",
       "      <td>0</td>\n",
       "      <td>0</td>\n",
       "      <td>60.0</td>\n",
       "      <td>0.0</td>\n",
       "      <td>0.0</td>\n",
       "      <td>0.0</td>\n",
       "      <td>0</td>\n",
       "      <td>광양사거리</td>\n",
       "      <td>33.500730</td>\n",
       "      <td>126.529107</td>\n",
       "      <td>있음</td>\n",
       "      <td>KAL사거리</td>\n",
       "      <td>33.504811</td>\n",
       "      <td>126.526240</td>\n",
       "      <td>없음</td>\n",
       "      <td>30.0</td>\n",
       "    </tr>\n",
       "    <tr>\n",
       "      <th>2</th>\n",
       "      <td>TRAIN_0000002</td>\n",
       "      <td>20211010</td>\n",
       "      <td>일</td>\n",
       "      <td>7</td>\n",
       "      <td>2</td>\n",
       "      <td>103</td>\n",
       "      <td>일반국도16호선</td>\n",
       "      <td>0</td>\n",
       "      <td>0</td>\n",
       "      <td>80.0</td>\n",
       "      <td>0.0</td>\n",
       "      <td>0.0</td>\n",
       "      <td>0.0</td>\n",
       "      <td>0</td>\n",
       "      <td>창고천교</td>\n",
       "      <td>33.279145</td>\n",
       "      <td>126.368598</td>\n",
       "      <td>없음</td>\n",
       "      <td>상창육교</td>\n",
       "      <td>33.280072</td>\n",
       "      <td>126.362147</td>\n",
       "      <td>없음</td>\n",
       "      <td>61.0</td>\n",
       "    </tr>\n",
       "    <tr>\n",
       "      <th>3</th>\n",
       "      <td>TRAIN_0000003</td>\n",
       "      <td>20220311</td>\n",
       "      <td>금</td>\n",
       "      <td>13</td>\n",
       "      <td>2</td>\n",
       "      <td>107</td>\n",
       "      <td>태평로</td>\n",
       "      <td>0</td>\n",
       "      <td>0</td>\n",
       "      <td>50.0</td>\n",
       "      <td>0.0</td>\n",
       "      <td>0.0</td>\n",
       "      <td>0.0</td>\n",
       "      <td>0</td>\n",
       "      <td>남양리조트</td>\n",
       "      <td>33.246081</td>\n",
       "      <td>126.567204</td>\n",
       "      <td>없음</td>\n",
       "      <td>서현주택</td>\n",
       "      <td>33.245565</td>\n",
       "      <td>126.566228</td>\n",
       "      <td>없음</td>\n",
       "      <td>20.0</td>\n",
       "    </tr>\n",
       "    <tr>\n",
       "      <th>4</th>\n",
       "      <td>TRAIN_0000004</td>\n",
       "      <td>20211005</td>\n",
       "      <td>화</td>\n",
       "      <td>8</td>\n",
       "      <td>2</td>\n",
       "      <td>103</td>\n",
       "      <td>일반국도12호선</td>\n",
       "      <td>0</td>\n",
       "      <td>0</td>\n",
       "      <td>80.0</td>\n",
       "      <td>0.0</td>\n",
       "      <td>0.0</td>\n",
       "      <td>0.0</td>\n",
       "      <td>0</td>\n",
       "      <td>애월샷시</td>\n",
       "      <td>33.462214</td>\n",
       "      <td>126.326551</td>\n",
       "      <td>없음</td>\n",
       "      <td>애월입구</td>\n",
       "      <td>33.462677</td>\n",
       "      <td>126.330152</td>\n",
       "      <td>없음</td>\n",
       "      <td>38.0</td>\n",
       "    </tr>\n",
       "  </tbody>\n",
       "</table>\n",
       "</div>"
      ],
      "text/plain": [
       "              id  base_date day_of_week  base_hour  lane_count  road_rating  \\\n",
       "0  TRAIN_0000000   20220623           목         17           1          106   \n",
       "1  TRAIN_0000001   20220728           목         21           2          103   \n",
       "2  TRAIN_0000002   20211010           일          7           2          103   \n",
       "3  TRAIN_0000003   20220311           금         13           2          107   \n",
       "4  TRAIN_0000004   20211005           화          8           2          103   \n",
       "\n",
       "   road_name  multi_linked  connect_code  maximum_speed_limit  \\\n",
       "0  지방도1112호선             0             0                 60.0   \n",
       "1   일반국도11호선             0             0                 60.0   \n",
       "2   일반국도16호선             0             0                 80.0   \n",
       "3        태평로             0             0                 50.0   \n",
       "4   일반국도12호선             0             0                 80.0   \n",
       "\n",
       "   vehicle_restricted  weight_restricted  height_restricted  road_type  \\\n",
       "0                 0.0            32400.0                0.0          3   \n",
       "1                 0.0                0.0                0.0          0   \n",
       "2                 0.0                0.0                0.0          0   \n",
       "3                 0.0                0.0                0.0          0   \n",
       "4                 0.0                0.0                0.0          0   \n",
       "\n",
       "  start_node_name  start_latitude  start_longitude start_turn_restricted  \\\n",
       "0           제3교래교       33.427747       126.662612                    없음   \n",
       "1           광양사거리       33.500730       126.529107                    있음   \n",
       "2            창고천교       33.279145       126.368598                    없음   \n",
       "3           남양리조트       33.246081       126.567204                    없음   \n",
       "4            애월샷시       33.462214       126.326551                    없음   \n",
       "\n",
       "  end_node_name  end_latitude  end_longitude end_turn_restricted  target  \n",
       "0         제3교래교     33.427749     126.662335                  없음    52.0  \n",
       "1        KAL사거리     33.504811     126.526240                  없음    30.0  \n",
       "2          상창육교     33.280072     126.362147                  없음    61.0  \n",
       "3          서현주택     33.245565     126.566228                  없음    20.0  \n",
       "4          애월입구     33.462677     126.330152                  없음    38.0  "
      ]
     },
     "execution_count": 47,
     "metadata": {},
     "output_type": "execute_result"
    }
   ],
   "source": [
    "x2.head()"
   ]
  },
  {
   "cell_type": "code",
   "execution_count": 48,
   "metadata": {
    "id": "5vsQBteCVcIl"
   },
   "outputs": [],
   "source": [
    "x2.drop(['target', 'id'], axis=1, inplace=True)"
   ]
  },
  {
   "cell_type": "code",
   "execution_count": 49,
   "metadata": {
    "id": "7P7w6q64VcIl"
   },
   "outputs": [
    {
     "data": {
      "text/html": [
       "<div>\n",
       "<style scoped>\n",
       "    .dataframe tbody tr th:only-of-type {\n",
       "        vertical-align: middle;\n",
       "    }\n",
       "\n",
       "    .dataframe tbody tr th {\n",
       "        vertical-align: top;\n",
       "    }\n",
       "\n",
       "    .dataframe thead th {\n",
       "        text-align: right;\n",
       "    }\n",
       "</style>\n",
       "<table border=\"1\" class=\"dataframe\">\n",
       "  <thead>\n",
       "    <tr style=\"text-align: right;\">\n",
       "      <th></th>\n",
       "      <th>base_date</th>\n",
       "      <th>day_of_week</th>\n",
       "      <th>base_hour</th>\n",
       "      <th>lane_count</th>\n",
       "      <th>road_rating</th>\n",
       "      <th>road_name</th>\n",
       "      <th>multi_linked</th>\n",
       "      <th>connect_code</th>\n",
       "      <th>maximum_speed_limit</th>\n",
       "      <th>vehicle_restricted</th>\n",
       "      <th>weight_restricted</th>\n",
       "      <th>height_restricted</th>\n",
       "      <th>road_type</th>\n",
       "      <th>start_node_name</th>\n",
       "      <th>start_latitude</th>\n",
       "      <th>start_longitude</th>\n",
       "      <th>start_turn_restricted</th>\n",
       "      <th>end_node_name</th>\n",
       "      <th>end_latitude</th>\n",
       "      <th>end_longitude</th>\n",
       "      <th>end_turn_restricted</th>\n",
       "    </tr>\n",
       "  </thead>\n",
       "  <tbody>\n",
       "    <tr>\n",
       "      <th>0</th>\n",
       "      <td>20220623</td>\n",
       "      <td>목</td>\n",
       "      <td>17</td>\n",
       "      <td>1</td>\n",
       "      <td>106</td>\n",
       "      <td>지방도1112호선</td>\n",
       "      <td>0</td>\n",
       "      <td>0</td>\n",
       "      <td>60.0</td>\n",
       "      <td>0.0</td>\n",
       "      <td>32400.0</td>\n",
       "      <td>0.0</td>\n",
       "      <td>3</td>\n",
       "      <td>제3교래교</td>\n",
       "      <td>33.427747</td>\n",
       "      <td>126.662612</td>\n",
       "      <td>없음</td>\n",
       "      <td>제3교래교</td>\n",
       "      <td>33.427749</td>\n",
       "      <td>126.662335</td>\n",
       "      <td>없음</td>\n",
       "    </tr>\n",
       "    <tr>\n",
       "      <th>1</th>\n",
       "      <td>20220728</td>\n",
       "      <td>목</td>\n",
       "      <td>21</td>\n",
       "      <td>2</td>\n",
       "      <td>103</td>\n",
       "      <td>일반국도11호선</td>\n",
       "      <td>0</td>\n",
       "      <td>0</td>\n",
       "      <td>60.0</td>\n",
       "      <td>0.0</td>\n",
       "      <td>0.0</td>\n",
       "      <td>0.0</td>\n",
       "      <td>0</td>\n",
       "      <td>광양사거리</td>\n",
       "      <td>33.500730</td>\n",
       "      <td>126.529107</td>\n",
       "      <td>있음</td>\n",
       "      <td>KAL사거리</td>\n",
       "      <td>33.504811</td>\n",
       "      <td>126.526240</td>\n",
       "      <td>없음</td>\n",
       "    </tr>\n",
       "    <tr>\n",
       "      <th>2</th>\n",
       "      <td>20211010</td>\n",
       "      <td>일</td>\n",
       "      <td>7</td>\n",
       "      <td>2</td>\n",
       "      <td>103</td>\n",
       "      <td>일반국도16호선</td>\n",
       "      <td>0</td>\n",
       "      <td>0</td>\n",
       "      <td>80.0</td>\n",
       "      <td>0.0</td>\n",
       "      <td>0.0</td>\n",
       "      <td>0.0</td>\n",
       "      <td>0</td>\n",
       "      <td>창고천교</td>\n",
       "      <td>33.279145</td>\n",
       "      <td>126.368598</td>\n",
       "      <td>없음</td>\n",
       "      <td>상창육교</td>\n",
       "      <td>33.280072</td>\n",
       "      <td>126.362147</td>\n",
       "      <td>없음</td>\n",
       "    </tr>\n",
       "    <tr>\n",
       "      <th>3</th>\n",
       "      <td>20220311</td>\n",
       "      <td>금</td>\n",
       "      <td>13</td>\n",
       "      <td>2</td>\n",
       "      <td>107</td>\n",
       "      <td>태평로</td>\n",
       "      <td>0</td>\n",
       "      <td>0</td>\n",
       "      <td>50.0</td>\n",
       "      <td>0.0</td>\n",
       "      <td>0.0</td>\n",
       "      <td>0.0</td>\n",
       "      <td>0</td>\n",
       "      <td>남양리조트</td>\n",
       "      <td>33.246081</td>\n",
       "      <td>126.567204</td>\n",
       "      <td>없음</td>\n",
       "      <td>서현주택</td>\n",
       "      <td>33.245565</td>\n",
       "      <td>126.566228</td>\n",
       "      <td>없음</td>\n",
       "    </tr>\n",
       "    <tr>\n",
       "      <th>4</th>\n",
       "      <td>20211005</td>\n",
       "      <td>화</td>\n",
       "      <td>8</td>\n",
       "      <td>2</td>\n",
       "      <td>103</td>\n",
       "      <td>일반국도12호선</td>\n",
       "      <td>0</td>\n",
       "      <td>0</td>\n",
       "      <td>80.0</td>\n",
       "      <td>0.0</td>\n",
       "      <td>0.0</td>\n",
       "      <td>0.0</td>\n",
       "      <td>0</td>\n",
       "      <td>애월샷시</td>\n",
       "      <td>33.462214</td>\n",
       "      <td>126.326551</td>\n",
       "      <td>없음</td>\n",
       "      <td>애월입구</td>\n",
       "      <td>33.462677</td>\n",
       "      <td>126.330152</td>\n",
       "      <td>없음</td>\n",
       "    </tr>\n",
       "  </tbody>\n",
       "</table>\n",
       "</div>"
      ],
      "text/plain": [
       "   base_date day_of_week  base_hour  lane_count  road_rating  road_name  \\\n",
       "0   20220623           목         17           1          106  지방도1112호선   \n",
       "1   20220728           목         21           2          103   일반국도11호선   \n",
       "2   20211010           일          7           2          103   일반국도16호선   \n",
       "3   20220311           금         13           2          107        태평로   \n",
       "4   20211005           화          8           2          103   일반국도12호선   \n",
       "\n",
       "   multi_linked  connect_code  maximum_speed_limit  vehicle_restricted  \\\n",
       "0             0             0                 60.0                 0.0   \n",
       "1             0             0                 60.0                 0.0   \n",
       "2             0             0                 80.0                 0.0   \n",
       "3             0             0                 50.0                 0.0   \n",
       "4             0             0                 80.0                 0.0   \n",
       "\n",
       "   weight_restricted  height_restricted  road_type start_node_name  \\\n",
       "0            32400.0                0.0          3           제3교래교   \n",
       "1                0.0                0.0          0           광양사거리   \n",
       "2                0.0                0.0          0            창고천교   \n",
       "3                0.0                0.0          0           남양리조트   \n",
       "4                0.0                0.0          0            애월샷시   \n",
       "\n",
       "   start_latitude  start_longitude start_turn_restricted end_node_name  \\\n",
       "0       33.427747       126.662612                    없음         제3교래교   \n",
       "1       33.500730       126.529107                    있음        KAL사거리   \n",
       "2       33.279145       126.368598                    없음          상창육교   \n",
       "3       33.246081       126.567204                    없음          서현주택   \n",
       "4       33.462214       126.326551                    없음          애월입구   \n",
       "\n",
       "   end_latitude  end_longitude end_turn_restricted  \n",
       "0     33.427749     126.662335                  없음  \n",
       "1     33.504811     126.526240                  없음  \n",
       "2     33.280072     126.362147                  없음  \n",
       "3     33.245565     126.566228                  없음  \n",
       "4     33.462677     126.330152                  없음  "
      ]
     },
     "execution_count": 49,
     "metadata": {},
     "output_type": "execute_result"
    }
   ],
   "source": [
    "x2.reset_index(inplace=True, drop=True)\n",
    "x2.head()"
   ]
  },
  {
   "cell_type": "code",
   "execution_count": 50,
   "metadata": {
    "id": "5uQYBNSmVcIl"
   },
   "outputs": [
    {
     "name": "stdout",
     "output_type": "stream",
     "text": [
      "<class 'pandas.core.frame.DataFrame'>\n",
      "RangeIndex: 4992458 entries, 0 to 4992457\n",
      "Data columns (total 21 columns):\n",
      " #   Column                 Dtype  \n",
      "---  ------                 -----  \n",
      " 0   base_date              int64  \n",
      " 1   day_of_week            object \n",
      " 2   base_hour              int64  \n",
      " 3   lane_count             int64  \n",
      " 4   road_rating            int64  \n",
      " 5   road_name              object \n",
      " 6   multi_linked           int64  \n",
      " 7   connect_code           int64  \n",
      " 8   maximum_speed_limit    float64\n",
      " 9   vehicle_restricted     float64\n",
      " 10  weight_restricted      float64\n",
      " 11  height_restricted      float64\n",
      " 12  road_type              int64  \n",
      " 13  start_node_name        object \n",
      " 14  start_latitude         float64\n",
      " 15  start_longitude        float64\n",
      " 16  start_turn_restricted  object \n",
      " 17  end_node_name          object \n",
      " 18  end_latitude           float64\n",
      " 19  end_longitude          float64\n",
      " 20  end_turn_restricted    object \n",
      "dtypes: float64(8), int64(7), object(6)\n",
      "memory usage: 799.9+ MB\n"
     ]
    }
   ],
   "source": [
    "x2.info()"
   ]
  },
  {
   "cell_type": "code",
   "execution_count": 51,
   "metadata": {
    "id": "zz59rnxNVcIl"
   },
   "outputs": [],
   "source": [
    "#plt.figure(figsize=(7, 4))\n",
    "#sns.distplot(y)"
   ]
  },
  {
   "cell_type": "code",
   "execution_count": 52,
   "metadata": {
    "id": "hzCMGC3-VcIl"
   },
   "outputs": [],
   "source": [
    "import datetime\n",
    "def process_dt(train):\n",
    "    train[\"base_date\"] = train[\"base_date\"].apply(str)\n",
    "    \n",
    "    df_tmp = pd.DataFrame(train.copy())\n",
    "    df_tmp[\"datetime\"] = [\n",
    "        datetime.datetime.strptime(timestamp, \"%Y%m%d\") for timestamp in df_tmp[\"base_date\"]\n",
    "    ]\n",
    "    df_tmp[\"date\"] = df_tmp[\"datetime\"].dt.date\n",
    "    df_tmp[\"year\"] = df_tmp[\"datetime\"].dt.year\n",
    "    df_tmp[\"quarter\"] = df_tmp[\"datetime\"].dt.quarter\n",
    "    df_tmp[\"month\"] = df_tmp[\"datetime\"].dt.month\n",
    "    df_tmp[\"day\"] = df_tmp[\"datetime\"].dt.day\n",
    "    return df_tmp\n",
    "\n",
    "'''\n",
    "import datetime\n",
    "def process_dt(train):\n",
    "    #train[\"base_date\"] = train[\"Time\"].apply(str)\n",
    "    train['base_date'] = pd.to_datetime(train['Time'], format='%Y-%m-%d %H:%M:%S')\n",
    "    df_tmp = pd.DataFrame(train.copy())\n",
    "    #df_tmp[\"date\"] = df_tmp[\"base_date\"].dt.date\n",
    "    df_tmp[\"year\"] = df_tmp[\"base_date\"].dt.year\n",
    "    df_tmp[\"quarter\"] = df_tmp[\"base_date\"].dt.quarter\n",
    "    df_tmp[\"month\"] = df_tmp[\"base_date\"].dt.month\n",
    "    df_tmp[\"day\"] = df_tmp[\"base_date\"].dt.day\n",
    "    df_tmp[\"hour\"] = df_tmp['base_date'].dt.hour\n",
    "    df_tmp[\"minue\"] = df_tmp['base_date'].dt.minute\n",
    "    #df_tmp[\"second\"] = df_tmp['base_date'].dt.second\n",
    "    return df_tmp\n",
    "'''"
   ]
  },
  {
   "cell_type": "code",
   "execution_count": 53,
   "metadata": {
    "id": "OCyO5yXNVcIm"
   },
   "outputs": [],
   "source": [
    "x2 = process_dt(x2)"
   ]
  },
  {
   "cell_type": "code",
   "execution_count": 54,
   "metadata": {
    "id": "FBbYH0stVcIm"
   },
   "outputs": [],
   "source": [
    "x2.to_parquet('날짜변환.parquet')"
   ]
  },
  {
   "cell_type": "code",
   "execution_count": 32,
   "metadata": {
    "id": "WtuLMfp4VcIm"
   },
   "outputs": [],
   "source": [
    "#x2 = pd.read_parquet('날짜변환.parquet')"
   ]
  },
  {
   "cell_type": "code",
   "execution_count": 33,
   "metadata": {
    "id": "NJXYMu2YVcIm"
   },
   "outputs": [],
   "source": [
    "x2['la_diff'] = abs(x2['start_latitude']-x2['end_latitude'])\n",
    "x2['lo_diff'] = abs(x2['start_longitude']-x2['end_longitude'])\n",
    "x2['lalo_diff_sum'] = x2['la_diff']+x2['lo_diff']\n",
    "x2['lalo_diff_mi'] = abs(x2['la_diff']-x2['lo_diff'])\n",
    "#x2['lalo_diff_mul'] = round(x2['lo_diff']*x2['la_diff'], 8)\n",
    "x2['la_div'] = x2['la_diff']/x2['lo_diff']\n",
    "x2['lo_div'] = x2['lo_diff']/x2['la_diff']\n",
    "\n",
    "x2['ifsame_st_ed'] = x2['start_node_name'] == x2['end_node_name']"
   ]
  },
  {
   "cell_type": "code",
   "execution_count": 34,
   "metadata": {
    "colab": {
     "base_uri": "https://localhost:8080/",
     "height": 340
    },
    "id": "mOctCfiRVcIn",
    "outputId": "2762c9d3-6556-4873-f1ec-9c2cf1aca552",
    "scrolled": true
   },
   "outputs": [
    {
     "data": {
      "text/html": [
       "<div>\n",
       "<style scoped>\n",
       "    .dataframe tbody tr th:only-of-type {\n",
       "        vertical-align: middle;\n",
       "    }\n",
       "\n",
       "    .dataframe tbody tr th {\n",
       "        vertical-align: top;\n",
       "    }\n",
       "\n",
       "    .dataframe thead th {\n",
       "        text-align: right;\n",
       "    }\n",
       "</style>\n",
       "<table border=\"1\" class=\"dataframe\">\n",
       "  <thead>\n",
       "    <tr style=\"text-align: right;\">\n",
       "      <th></th>\n",
       "      <th>day_of_week</th>\n",
       "      <th>base_hour</th>\n",
       "      <th>lane_count</th>\n",
       "      <th>road_rating</th>\n",
       "      <th>road_name</th>\n",
       "      <th>multi_linked</th>\n",
       "      <th>connect_code</th>\n",
       "      <th>maximum_speed_limit</th>\n",
       "      <th>vehicle_restricted</th>\n",
       "      <th>weight_restricted</th>\n",
       "      <th>height_restricted</th>\n",
       "      <th>road_type</th>\n",
       "      <th>start_node_name</th>\n",
       "      <th>start_latitude</th>\n",
       "      <th>start_longitude</th>\n",
       "      <th>start_turn_restricted</th>\n",
       "      <th>end_node_name</th>\n",
       "      <th>end_latitude</th>\n",
       "      <th>end_longitude</th>\n",
       "      <th>end_turn_restricted</th>\n",
       "      <th>year</th>\n",
       "      <th>quarter</th>\n",
       "      <th>month</th>\n",
       "      <th>day</th>\n",
       "      <th>la_diff</th>\n",
       "      <th>lo_diff</th>\n",
       "      <th>lalo_diff_sum</th>\n",
       "      <th>lalo_diff_mi</th>\n",
       "      <th>la_div</th>\n",
       "      <th>lo_div</th>\n",
       "      <th>ifsame_st_ed</th>\n",
       "    </tr>\n",
       "  </thead>\n",
       "  <tbody>\n",
       "    <tr>\n",
       "      <th>0</th>\n",
       "      <td>목</td>\n",
       "      <td>17</td>\n",
       "      <td>1</td>\n",
       "      <td>106</td>\n",
       "      <td>지방도1112호선</td>\n",
       "      <td>0</td>\n",
       "      <td>0</td>\n",
       "      <td>60.0</td>\n",
       "      <td>0.0</td>\n",
       "      <td>32400.0</td>\n",
       "      <td>0.0</td>\n",
       "      <td>3</td>\n",
       "      <td>제3교래교</td>\n",
       "      <td>33.427747</td>\n",
       "      <td>126.662612</td>\n",
       "      <td>없음</td>\n",
       "      <td>제3교래교</td>\n",
       "      <td>33.427749</td>\n",
       "      <td>126.662335</td>\n",
       "      <td>없음</td>\n",
       "      <td>2022</td>\n",
       "      <td>2</td>\n",
       "      <td>6</td>\n",
       "      <td>23</td>\n",
       "      <td>0.000001</td>\n",
       "      <td>0.000277</td>\n",
       "      <td>0.000279</td>\n",
       "      <td>0.000276</td>\n",
       "      <td>0.005408</td>\n",
       "      <td>184.901516</td>\n",
       "      <td>True</td>\n",
       "    </tr>\n",
       "    <tr>\n",
       "      <th>1</th>\n",
       "      <td>목</td>\n",
       "      <td>21</td>\n",
       "      <td>2</td>\n",
       "      <td>103</td>\n",
       "      <td>일반국도11호선</td>\n",
       "      <td>0</td>\n",
       "      <td>0</td>\n",
       "      <td>60.0</td>\n",
       "      <td>0.0</td>\n",
       "      <td>0.0</td>\n",
       "      <td>0.0</td>\n",
       "      <td>0</td>\n",
       "      <td>광양사거리</td>\n",
       "      <td>33.500730</td>\n",
       "      <td>126.529107</td>\n",
       "      <td>있음</td>\n",
       "      <td>KAL사거리</td>\n",
       "      <td>33.504811</td>\n",
       "      <td>126.526240</td>\n",
       "      <td>없음</td>\n",
       "      <td>2022</td>\n",
       "      <td>3</td>\n",
       "      <td>7</td>\n",
       "      <td>28</td>\n",
       "      <td>0.004081</td>\n",
       "      <td>0.002867</td>\n",
       "      <td>0.006948</td>\n",
       "      <td>0.001214</td>\n",
       "      <td>1.423551</td>\n",
       "      <td>0.702469</td>\n",
       "      <td>False</td>\n",
       "    </tr>\n",
       "    <tr>\n",
       "      <th>2</th>\n",
       "      <td>일</td>\n",
       "      <td>7</td>\n",
       "      <td>2</td>\n",
       "      <td>103</td>\n",
       "      <td>일반국도16호선</td>\n",
       "      <td>0</td>\n",
       "      <td>0</td>\n",
       "      <td>80.0</td>\n",
       "      <td>0.0</td>\n",
       "      <td>0.0</td>\n",
       "      <td>0.0</td>\n",
       "      <td>0</td>\n",
       "      <td>창고천교</td>\n",
       "      <td>33.279145</td>\n",
       "      <td>126.368598</td>\n",
       "      <td>없음</td>\n",
       "      <td>상창육교</td>\n",
       "      <td>33.280072</td>\n",
       "      <td>126.362147</td>\n",
       "      <td>없음</td>\n",
       "      <td>2021</td>\n",
       "      <td>4</td>\n",
       "      <td>10</td>\n",
       "      <td>10</td>\n",
       "      <td>0.000927</td>\n",
       "      <td>0.006450</td>\n",
       "      <td>0.007377</td>\n",
       "      <td>0.005523</td>\n",
       "      <td>0.143718</td>\n",
       "      <td>6.958051</td>\n",
       "      <td>False</td>\n",
       "    </tr>\n",
       "  </tbody>\n",
       "</table>\n",
       "</div>"
      ],
      "text/plain": [
       "  day_of_week  base_hour  lane_count  road_rating  road_name  multi_linked  \\\n",
       "0           목         17           1          106  지방도1112호선             0   \n",
       "1           목         21           2          103   일반국도11호선             0   \n",
       "2           일          7           2          103   일반국도16호선             0   \n",
       "\n",
       "   connect_code  maximum_speed_limit  vehicle_restricted  weight_restricted  \\\n",
       "0             0                 60.0                 0.0            32400.0   \n",
       "1             0                 60.0                 0.0                0.0   \n",
       "2             0                 80.0                 0.0                0.0   \n",
       "\n",
       "   height_restricted  road_type start_node_name  start_latitude  \\\n",
       "0                0.0          3           제3교래교       33.427747   \n",
       "1                0.0          0           광양사거리       33.500730   \n",
       "2                0.0          0            창고천교       33.279145   \n",
       "\n",
       "   start_longitude start_turn_restricted end_node_name  end_latitude  \\\n",
       "0       126.662612                    없음         제3교래교     33.427749   \n",
       "1       126.529107                    있음        KAL사거리     33.504811   \n",
       "2       126.368598                    없음          상창육교     33.280072   \n",
       "\n",
       "   end_longitude end_turn_restricted  year  quarter  month  day   la_diff  \\\n",
       "0     126.662335                  없음  2022        2      6   23  0.000001   \n",
       "1     126.526240                  없음  2022        3      7   28  0.004081   \n",
       "2     126.362147                  없음  2021        4     10   10  0.000927   \n",
       "\n",
       "    lo_diff  lalo_diff_sum  lalo_diff_mi    la_div      lo_div  ifsame_st_ed  \n",
       "0  0.000277       0.000279      0.000276  0.005408  184.901516          True  \n",
       "1  0.002867       0.006948      0.001214  1.423551    0.702469         False  \n",
       "2  0.006450       0.007377      0.005523  0.143718    6.958051         False  "
      ]
     },
     "execution_count": 34,
     "metadata": {},
     "output_type": "execute_result"
    }
   ],
   "source": [
    "x2.drop(['datetime', 'date', 'base_date'], inplace=True, axis=1)\n",
    "x2.head(3)"
   ]
  },
  {
   "cell_type": "code",
   "execution_count": 35,
   "metadata": {},
   "outputs": [
    {
     "name": "stdout",
     "output_type": "stream",
     "text": [
      "<class 'pandas.core.frame.DataFrame'>\n",
      "RangeIndex: 4992458 entries, 0 to 4992457\n",
      "Data columns (total 31 columns):\n",
      " #   Column                 Dtype  \n",
      "---  ------                 -----  \n",
      " 0   day_of_week            object \n",
      " 1   base_hour              int64  \n",
      " 2   lane_count             int64  \n",
      " 3   road_rating            int64  \n",
      " 4   road_name              object \n",
      " 5   multi_linked           int64  \n",
      " 6   connect_code           int64  \n",
      " 7   maximum_speed_limit    float64\n",
      " 8   vehicle_restricted     float64\n",
      " 9   weight_restricted      float64\n",
      " 10  height_restricted      float64\n",
      " 11  road_type              int64  \n",
      " 12  start_node_name        object \n",
      " 13  start_latitude         float64\n",
      " 14  start_longitude        float64\n",
      " 15  start_turn_restricted  object \n",
      " 16  end_node_name          object \n",
      " 17  end_latitude           float64\n",
      " 18  end_longitude          float64\n",
      " 19  end_turn_restricted    object \n",
      " 20  year                   int64  \n",
      " 21  quarter                int64  \n",
      " 22  month                  int64  \n",
      " 23  day                    int64  \n",
      " 24  la_diff                float64\n",
      " 25  lo_diff                float64\n",
      " 26  lalo_diff_sum          float64\n",
      " 27  lalo_diff_mi           float64\n",
      " 28  la_div                 float64\n",
      " 29  lo_div                 float64\n",
      " 30  ifsame_st_ed           bool   \n",
      "dtypes: bool(1), float64(14), int64(10), object(6)\n",
      "memory usage: 1.1+ GB\n"
     ]
    }
   ],
   "source": [
    "x2.info()"
   ]
  },
  {
   "cell_type": "code",
   "execution_count": 8,
   "metadata": {
    "id": "smPxPH8hVcIn"
   },
   "outputs": [
    {
     "data": {
      "text/plain": [
       "\"\\n# 가입 없이 좌표->주소 변환\\nfrom geopy.geocoders import Nominatim\\n\\ndef geocoding_reverse(lat_lng_str): \\n    geolocoder = Nominatim(user_agent = 'South Korea', timeout=None)\\n    address = geolocoder.reverse(lat_lng_str)\\n\\n    return address\\n\\naddress = geocoding_reverse('33.427747, 126.662612')\\nprint(address)\\n\""
      ]
     },
     "execution_count": 8,
     "metadata": {},
     "output_type": "execute_result"
    }
   ],
   "source": [
    "'''\n",
    "# 가입 없이 좌표->주소 변환\n",
    "from geopy.geocoders import Nominatim\n",
    "\n",
    "def geocoding_reverse(lat_lng_str): \n",
    "    geolocoder = Nominatim(user_agent = 'South Korea', timeout=None)\n",
    "    address = geolocoder.reverse(lat_lng_str)\n",
    "\n",
    "    return address\n",
    "\n",
    "address = geocoding_reverse('33.427747, 126.662612')\n",
    "print(address)\n",
    "'''"
   ]
  },
  {
   "cell_type": "markdown",
   "metadata": {
    "id": "cMpLalcpVcIn"
   },
   "source": [
    "### train 데이터와 test 데이터가 서로 공통의 변수가 얼마나 있는지 확인"
   ]
  },
  {
   "cell_type": "code",
   "execution_count": 22,
   "metadata": {
    "id": "IVnC-aUaVcIn"
   },
   "outputs": [],
   "source": [
    "d = []\n",
    "def multi_intersection(x, test):\n",
    "    for i in x.columns:\n",
    "        name = i\n",
    "        a = x[i].nunique()\n",
    "        b = test[i].nunique()\n",
    "        c = len(set(x[i]).intersection(set(test[i])))\n",
    "        d.append(i)\n",
    "        d.append(a)\n",
    "        d.append(b)\n",
    "        d.append(c)\n",
    "        if b != c:\n",
    "            d.append('데이터 이상')\n",
    "        d.append('---------------------')\n",
    "    return d"
   ]
  },
  {
   "cell_type": "code",
   "execution_count": 24,
   "metadata": {},
   "outputs": [
    {
     "data": {
      "text/plain": [
       "['id',\n",
       " 4701217,\n",
       " 291241,\n",
       " 0,\n",
       " '데이터 이상',\n",
       " '---------------------',\n",
       " 'base_date',\n",
       " 281,\n",
       " 31,\n",
       " 0,\n",
       " '데이터 이상',\n",
       " '---------------------',\n",
       " 'day_of_week',\n",
       " 7,\n",
       " 7,\n",
       " 7,\n",
       " '---------------------',\n",
       " 'base_hour',\n",
       " 24,\n",
       " 24,\n",
       " 24,\n",
       " '---------------------',\n",
       " 'lane_count',\n",
       " 3,\n",
       " 3,\n",
       " 3,\n",
       " '---------------------',\n",
       " 'road_rating',\n",
       " 3,\n",
       " 3,\n",
       " 3,\n",
       " '---------------------',\n",
       " 'road_name',\n",
       " 61,\n",
       " 46,\n",
       " 46,\n",
       " '---------------------',\n",
       " 'multi_linked',\n",
       " 2,\n",
       " 1,\n",
       " 1,\n",
       " '---------------------',\n",
       " 'connect_code',\n",
       " 2,\n",
       " 1,\n",
       " 1,\n",
       " '---------------------',\n",
       " 'maximum_speed_limit',\n",
       " 6,\n",
       " 5,\n",
       " 5,\n",
       " '---------------------',\n",
       " 'vehicle_restricted',\n",
       " 1,\n",
       " 1,\n",
       " 1,\n",
       " '---------------------',\n",
       " 'weight_restricted',\n",
       " 4,\n",
       " 4,\n",
       " 4,\n",
       " '---------------------',\n",
       " 'height_restricted',\n",
       " 1,\n",
       " 1,\n",
       " 1,\n",
       " '---------------------',\n",
       " 'road_type',\n",
       " 2,\n",
       " 2,\n",
       " 2,\n",
       " '---------------------',\n",
       " 'start_node_name',\n",
       " 487,\n",
       " 250,\n",
       " 250,\n",
       " '---------------------',\n",
       " 'start_latitude',\n",
       " 586,\n",
       " 294,\n",
       " 294,\n",
       " '---------------------',\n",
       " 'start_longitude',\n",
       " 586,\n",
       " 294,\n",
       " 294,\n",
       " '---------------------',\n",
       " 'start_turn_restricted',\n",
       " 2,\n",
       " 2,\n",
       " 2,\n",
       " '---------------------',\n",
       " 'end_node_name',\n",
       " 487,\n",
       " 252,\n",
       " 252,\n",
       " '---------------------',\n",
       " 'end_latitude',\n",
       " 586,\n",
       " 296,\n",
       " 296,\n",
       " '---------------------',\n",
       " 'end_longitude',\n",
       " 586,\n",
       " 296,\n",
       " 296,\n",
       " '---------------------',\n",
       " 'end_turn_restricted',\n",
       " 2,\n",
       " 2,\n",
       " 2,\n",
       " '---------------------',\n",
       " 'id',\n",
       " 4701217,\n",
       " 291241,\n",
       " 0,\n",
       " '데이터 이상',\n",
       " '---------------------',\n",
       " 'base_date',\n",
       " 281,\n",
       " 31,\n",
       " 0,\n",
       " '데이터 이상',\n",
       " '---------------------',\n",
       " 'day_of_week',\n",
       " 7,\n",
       " 7,\n",
       " 7,\n",
       " '---------------------',\n",
       " 'base_hour',\n",
       " 24,\n",
       " 24,\n",
       " 24,\n",
       " '---------------------',\n",
       " 'lane_count',\n",
       " 3,\n",
       " 3,\n",
       " 3,\n",
       " '---------------------',\n",
       " 'road_rating',\n",
       " 3,\n",
       " 3,\n",
       " 3,\n",
       " '---------------------',\n",
       " 'road_name',\n",
       " 61,\n",
       " 46,\n",
       " 46,\n",
       " '---------------------',\n",
       " 'multi_linked',\n",
       " 2,\n",
       " 1,\n",
       " 1,\n",
       " '---------------------',\n",
       " 'connect_code',\n",
       " 2,\n",
       " 1,\n",
       " 1,\n",
       " '---------------------',\n",
       " 'maximum_speed_limit',\n",
       " 6,\n",
       " 5,\n",
       " 5,\n",
       " '---------------------',\n",
       " 'vehicle_restricted',\n",
       " 1,\n",
       " 1,\n",
       " 1,\n",
       " '---------------------',\n",
       " 'weight_restricted',\n",
       " 4,\n",
       " 4,\n",
       " 4,\n",
       " '---------------------',\n",
       " 'height_restricted',\n",
       " 1,\n",
       " 1,\n",
       " 1,\n",
       " '---------------------',\n",
       " 'road_type',\n",
       " 2,\n",
       " 2,\n",
       " 2,\n",
       " '---------------------',\n",
       " 'start_node_name',\n",
       " 487,\n",
       " 250,\n",
       " 250,\n",
       " '---------------------',\n",
       " 'start_latitude',\n",
       " 586,\n",
       " 294,\n",
       " 294,\n",
       " '---------------------',\n",
       " 'start_longitude',\n",
       " 586,\n",
       " 294,\n",
       " 294,\n",
       " '---------------------',\n",
       " 'start_turn_restricted',\n",
       " 2,\n",
       " 2,\n",
       " 2,\n",
       " '---------------------',\n",
       " 'end_node_name',\n",
       " 487,\n",
       " 252,\n",
       " 252,\n",
       " '---------------------',\n",
       " 'end_latitude',\n",
       " 586,\n",
       " 296,\n",
       " 296,\n",
       " '---------------------',\n",
       " 'end_longitude',\n",
       " 586,\n",
       " 296,\n",
       " 296,\n",
       " '---------------------',\n",
       " 'end_turn_restricted',\n",
       " 2,\n",
       " 2,\n",
       " 2,\n",
       " '---------------------']"
      ]
     },
     "execution_count": 24,
     "metadata": {},
     "output_type": "execute_result"
    }
   ],
   "source": [
    "multi_intersection(x.drop('target', axis=1), test)"
   ]
  },
  {
   "cell_type": "markdown",
   "metadata": {},
   "source": [
    "### train 데이터에서 중복값 확인"
   ]
  },
  {
   "cell_type": "code",
   "execution_count": null,
   "metadata": {},
   "outputs": [],
   "source": [
    "tempcc = x"
   ]
  },
  {
   "cell_type": "code",
   "execution_count": null,
   "metadata": {},
   "outputs": [],
   "source": [
    "tempcc = tempcc.astype('str')\n",
    "tempcc = tempcc[tempcc['end_node_name']=='성산교차로']\n",
    "tempcc = tempcc[tempcc['day_of_week']=='수']\n",
    "tempcc = tempcc[tempcc['base_hour']=='14']\n",
    "tempcc = tempcc[tempcc['start_node_name']=='고성교차로']\n",
    "tempcc = tempcc.sort_values(by=['start_node_name', 'base_date'])"
   ]
  },
  {
   "cell_type": "code",
   "execution_count": null,
   "metadata": {},
   "outputs": [],
   "source": [
    "tempcc = tempcc.sort_values(by=['start_node_name', 'base_date'])"
   ]
  },
  {
   "cell_type": "code",
   "execution_count": null,
   "metadata": {
    "scrolled": true
   },
   "outputs": [],
   "source": [
    "tempcc.head()"
   ]
  },
  {
   "cell_type": "markdown",
   "metadata": {
    "id": "s9Y1TcwZVcIn"
   },
   "source": [
    "### LGBM에 들어갈 변수 인코딩 or 카테고리 변수로 변환"
   ]
  },
  {
   "cell_type": "code",
   "execution_count": 36,
   "metadata": {
    "id": "IaQ1zYvyVcIn"
   },
   "outputs": [],
   "source": [
    "from collections import defaultdict\n",
    "from sklearn.preprocessing import LabelEncoder\n",
    "class MultiColLabelEncoder:\n",
    "    def __init__(self):\n",
    "        self.encoder_dict = defaultdict(LabelEncoder)\n",
    "\n",
    "    def fit_transform(self, X: pd.DataFrame, columns: list):\n",
    "        if not isinstance(columns, list):\n",
    "            columns = [columns]\n",
    "\n",
    "        output = X.copy()\n",
    "        output[columns] = X[columns].apply(lambda x: self.encoder_dict[x.name].fit_transform(x))\n",
    "\n",
    "        return output"
   ]
  },
  {
   "cell_type": "code",
   "execution_count": 37,
   "metadata": {
    "colab": {
     "base_uri": "https://localhost:8080/"
    },
    "id": "nX39huSXVcIo",
    "outputId": "e8c1fabe-c2fa-438d-86c0-270080781565"
   },
   "outputs": [
    {
     "data": {
      "text/plain": [
       "7"
      ]
     },
     "execution_count": 37,
     "metadata": {},
     "output_type": "execute_result"
    }
   ],
   "source": [
    "cat_feature = [col for col in x2 if x2[col].dtypes == \"object\"]\n",
    "#cat_feature2 = [col for col in x2 if x2[col].dtypes == \"int64\"]\n",
    "#cat_feature3 = [col for col in x2 if x2[col].dtypes == \"category\"]\n",
    "cat_feature.append('ifsame_st_ed')\n",
    "\n",
    "#for i in cat_feature2:\n",
    "#    cat_feature.append(i)\n",
    "#for i in cat_feature3:\n",
    "#    cat_feature.append(i)\n",
    "len(cat_feature)"
   ]
  },
  {
   "cell_type": "code",
   "execution_count": 38,
   "metadata": {
    "id": "Tgj5bxW4VcIo"
   },
   "outputs": [],
   "source": [
    "mle = MultiColLabelEncoder()\n",
    "x2 = mle.fit_transform(x2, columns = cat_feature)"
   ]
  },
  {
   "cell_type": "code",
   "execution_count": 39,
   "metadata": {},
   "outputs": [
    {
     "name": "stdout",
     "output_type": "stream",
     "text": [
      "<class 'pandas.core.frame.DataFrame'>\n",
      "RangeIndex: 4992458 entries, 0 to 4992457\n",
      "Data columns (total 31 columns):\n",
      " #   Column                 Dtype  \n",
      "---  ------                 -----  \n",
      " 0   day_of_week            int32  \n",
      " 1   base_hour              int64  \n",
      " 2   lane_count             int64  \n",
      " 3   road_rating            int64  \n",
      " 4   road_name              int32  \n",
      " 5   multi_linked           int64  \n",
      " 6   connect_code           int64  \n",
      " 7   maximum_speed_limit    float64\n",
      " 8   vehicle_restricted     float64\n",
      " 9   weight_restricted      float64\n",
      " 10  height_restricted      float64\n",
      " 11  road_type              int64  \n",
      " 12  start_node_name        int32  \n",
      " 13  start_latitude         float64\n",
      " 14  start_longitude        float64\n",
      " 15  start_turn_restricted  int32  \n",
      " 16  end_node_name          int32  \n",
      " 17  end_latitude           float64\n",
      " 18  end_longitude          float64\n",
      " 19  end_turn_restricted    int32  \n",
      " 20  year                   int64  \n",
      " 21  quarter                int64  \n",
      " 22  month                  int64  \n",
      " 23  day                    int64  \n",
      " 24  la_diff                float64\n",
      " 25  lo_diff                float64\n",
      " 26  lalo_diff_sum          float64\n",
      " 27  lalo_diff_mi           float64\n",
      " 28  la_div                 float64\n",
      " 29  lo_div                 float64\n",
      " 30  ifsame_st_ed           int64  \n",
      "dtypes: float64(14), int32(6), int64(11)\n",
      "memory usage: 1.0 GB\n"
     ]
    }
   ],
   "source": [
    "x2.info()"
   ]
  },
  {
   "cell_type": "code",
   "execution_count": null,
   "metadata": {},
   "outputs": [],
   "source": [
    "#for i in cat_feature:\n",
    "#    x2[i] = x2[i].astype('category')"
   ]
  },
  {
   "cell_type": "markdown",
   "metadata": {
    "id": "D8iibvY7VcIo"
   },
   "source": [
    "## 모델 선언 및 학습 (간단한 lgbm)"
   ]
  },
  {
   "cell_type": "code",
   "execution_count": 88,
   "metadata": {
    "id": "IDKZvDf8VcIo"
   },
   "outputs": [],
   "source": [
    "x_encoding = x2.iloc[:50000, :]\n",
    "y_encoding = y.iloc[:50000, :]\n",
    "test2 = x2.iloc[4701217:, :]\n",
    "x_final = x2.iloc[:4701217, :]"
   ]
  },
  {
   "cell_type": "code",
   "execution_count": 89,
   "metadata": {
    "id": "mySkJPN8VcIp"
   },
   "outputs": [],
   "source": [
    "x_train, x_test, y_train, y_test = train_test_split(x_encoding, y_encoding, test_size=0.2, random_state=9)"
   ]
  },
  {
   "cell_type": "code",
   "execution_count": 90,
   "metadata": {
    "id": "sCBkEUNcVcIp"
   },
   "outputs": [
    {
     "data": {
      "text/plain": [
       "LGBMRegressor(random_state=9)"
      ]
     },
     "execution_count": 90,
     "metadata": {},
     "output_type": "execute_result"
    }
   ],
   "source": [
    "#LR = lgb.LGBMRegressor(random_state=9, n_jobs=-1, categorical_feature=cat_feature)\n",
    "LR = lgb.LGBMRegressor(random_state=9, n_jobs=-1)\n",
    "LR.fit(x_train, y_train)"
   ]
  },
  {
   "cell_type": "code",
   "execution_count": 91,
   "metadata": {
    "id": "M48wXeZEVcIp"
   },
   "outputs": [],
   "source": [
    "y_pred = LR.predict(x_test)\n",
    "y_pred = pd.DataFrame(y_pred)"
   ]
  },
  {
   "cell_type": "code",
   "execution_count": 92,
   "metadata": {
    "id": "H78xdwOOVcIp"
   },
   "outputs": [
    {
     "name": "stdout",
     "output_type": "stream",
     "text": [
      "MAE: 4.504323172876089\n",
      "r2_score: 0.8570957333981808\n"
     ]
    }
   ],
   "source": [
    "print('MAE: {}'.format(mean_absolute_error(y_test, y_pred)))\n",
    "print('r2_score: {}'.format(r2_score(y_test, y_pred)))"
   ]
  },
  {
   "cell_type": "code",
   "execution_count": 93,
   "metadata": {
    "id": "vJEFdIjsVcIp"
   },
   "outputs": [
    {
     "data": {
      "text/plain": [
       "Text(0.5, 1.0, 'Feature Importance')"
      ]
     },
     "execution_count": 93,
     "metadata": {},
     "output_type": "execute_result"
    },
    {
     "data": {
      "image/png": "[encoded data removed]",
      "text/plain": [
       "<Figure size 1200x600 with 1 Axes>"
      ]
     },
     "metadata": {},
     "output_type": "display_data"
    }
   ],
   "source": [
    "feature_importance = LR.feature_importances_\n",
    "sorted_idx = np.argsort(feature_importance)\n",
    "fig = plt.figure(figsize=(12, 6))\n",
    "plt.barh(range(len(sorted_idx)), feature_importance[sorted_idx], align='center')\n",
    "plt.yticks(range(len(sorted_idx)), np.array(x_train.columns)[sorted_idx])\n",
    "plt.title('Feature Importance')"
   ]
  },
  {
   "cell_type": "markdown",
   "metadata": {},
   "source": [
    "### CatBoost"
   ]
  },
  {
   "cell_type": "code",
   "execution_count": 62,
   "metadata": {},
   "outputs": [
    {
     "name": "stdout",
     "output_type": "stream",
     "text": [
      "Learning rate set to 0.073334\n",
      "0:\tlearn: 15.3378018\ttotal: 161ms\tremaining: 2m 40s\n",
      "100:\tlearn: 7.5808568\ttotal: 627ms\tremaining: 5.58s\n",
      "200:\tlearn: 6.6850678\ttotal: 1.09s\tremaining: 4.34s\n",
      "300:\tlearn: 6.2512608\ttotal: 1.51s\tremaining: 3.52s\n",
      "400:\tlearn: 5.9686595\ttotal: 1.96s\tremaining: 2.93s\n",
      "500:\tlearn: 5.7652134\ttotal: 2.4s\tremaining: 2.39s\n",
      "600:\tlearn: 5.6094207\ttotal: 2.83s\tremaining: 1.88s\n",
      "700:\tlearn: 5.4706784\ttotal: 3.26s\tremaining: 1.39s\n",
      "800:\tlearn: 5.3605498\ttotal: 3.68s\tremaining: 914ms\n",
      "900:\tlearn: 5.2635823\ttotal: 4.1s\tremaining: 450ms\n",
      "999:\tlearn: 5.1769122\ttotal: 4.52s\tremaining: 0us\n"
     ]
    },
    {
     "data": {
      "text/plain": [
       "<catboost.core.CatBoostRegressor at 0x24640d32bc8>"
      ]
     },
     "execution_count": 62,
     "metadata": {},
     "output_type": "execute_result"
    }
   ],
   "source": [
    "catcl = CatBoostRegressor(verbose = 100)\n",
    "catcl.fit(x_train, y_train)"
   ]
  },
  {
   "cell_type": "code",
   "execution_count": 63,
   "metadata": {},
   "outputs": [
    {
     "name": "stdout",
     "output_type": "stream",
     "text": [
      "MAE: 4.0929013697185725\n",
      "r2_score: 0.8828906918579396\n"
     ]
    }
   ],
   "source": [
    "y_pred = catcl.predict(x_test)\n",
    "y_pred = pd.DataFrame(y_pred)\n",
    "\n",
    "print('MAE: {}'.format(mean_absolute_error(y_test, y_pred)))\n",
    "print('r2_score: {}'.format(r2_score(y_test, y_pred)))"
   ]
  },
  {
   "cell_type": "code",
   "execution_count": 94,
   "metadata": {
    "id": "u8-eYWShVcIp",
    "scrolled": true
   },
   "outputs": [
    {
     "name": "stdout",
     "output_type": "stream",
     "text": [
      "==================================================\n",
      "Learning rate set to 0.014112\n",
      "0:\tlearn: 0.4212804\ttest: 0.4235431\tbest: 0.4235431 (0)\ttotal: 6.21ms\tremaining: 2m 4s\n",
      "200:\tlearn: 0.2271018\ttest: 0.2275662\tbest: 0.2275662 (200)\ttotal: 813ms\tremaining: 1m 20s\n",
      "400:\tlearn: 0.1997219\ttest: 0.1999185\tbest: 0.1999185 (400)\ttotal: 1.62s\tremaining: 1m 19s\n",
      "600:\tlearn: 0.1845460\ttest: 0.1850549\tbest: 0.1850549 (600)\ttotal: 2.47s\tremaining: 1m 19s\n",
      "800:\tlearn: 0.1735940\ttest: 0.1743695\tbest: 0.1743695 (800)\ttotal: 3.29s\tremaining: 1m 18s\n",
      "1000:\tlearn: 0.1654989\ttest: 0.1666615\tbest: 0.1666615 (1000)\ttotal: 4.09s\tremaining: 1m 17s\n",
      "1200:\tlearn: 0.1592169\ttest: 0.1608433\tbest: 0.1608433 (1200)\ttotal: 4.89s\tremaining: 1m 16s\n",
      "1400:\tlearn: 0.1543529\ttest: 0.1563279\tbest: 0.1563279 (1400)\ttotal: 5.73s\tremaining: 1m 16s\n",
      "1600:\tlearn: 0.1502917\ttest: 0.1527127\tbest: 0.1527127 (1600)\ttotal: 6.54s\tremaining: 1m 15s\n",
      "1800:\tlearn: 0.1466897\ttest: 0.1495406\tbest: 0.1495406 (1800)\ttotal: 7.35s\tremaining: 1m 14s\n",
      "2000:\tlearn: 0.1437721\ttest: 0.1470974\tbest: 0.1470974 (2000)\ttotal: 8.26s\tremaining: 1m 14s\n",
      "2200:\tlearn: 0.1412656\ttest: 0.1449811\tbest: 0.1449811 (2200)\ttotal: 9.17s\tremaining: 1m 14s\n",
      "2400:\tlearn: 0.1389896\ttest: 0.1431217\tbest: 0.1431217 (2400)\ttotal: 9.99s\tremaining: 1m 13s\n",
      "2600:\tlearn: 0.1368917\ttest: 0.1414379\tbest: 0.1414379 (2600)\ttotal: 10.9s\tremaining: 1m 12s\n",
      "2800:\tlearn: 0.1349328\ttest: 0.1399281\tbest: 0.1399281 (2800)\ttotal: 11.7s\tremaining: 1m 12s\n",
      "3000:\tlearn: 0.1332007\ttest: 0.1386313\tbest: 0.1386313 (3000)\ttotal: 12.6s\tremaining: 1m 11s\n",
      "3200:\tlearn: 0.1315259\ttest: 0.1373019\tbest: 0.1373019 (3200)\ttotal: 13.4s\tremaining: 1m 10s\n",
      "3400:\tlearn: 0.1299892\ttest: 0.1361374\tbest: 0.1361374 (3400)\ttotal: 14.2s\tremaining: 1m 9s\n",
      "3600:\tlearn: 0.1285526\ttest: 0.1350608\tbest: 0.1350608 (3600)\ttotal: 15.1s\tremaining: 1m 8s\n",
      "3800:\tlearn: 0.1271641\ttest: 0.1340716\tbest: 0.1340716 (3800)\ttotal: 16s\tremaining: 1m 8s\n",
      "4000:\tlearn: 0.1258099\ttest: 0.1331166\tbest: 0.1331166 (4000)\ttotal: 16.9s\tremaining: 1m 7s\n",
      "4200:\tlearn: 0.1246202\ttest: 0.1323268\tbest: 0.1323268 (4200)\ttotal: 17.7s\tremaining: 1m 6s\n",
      "4400:\tlearn: 0.1234786\ttest: 0.1315530\tbest: 0.1315530 (4400)\ttotal: 18.6s\tremaining: 1m 5s\n",
      "4600:\tlearn: 0.1223859\ttest: 0.1308397\tbest: 0.1308397 (4600)\ttotal: 19.4s\tremaining: 1m 5s\n",
      "4800:\tlearn: 0.1213724\ttest: 0.1301964\tbest: 0.1301964 (4800)\ttotal: 20.3s\tremaining: 1m 4s\n",
      "5000:\tlearn: 0.1203555\ttest: 0.1295599\tbest: 0.1295599 (5000)\ttotal: 21.1s\tremaining: 1m 3s\n",
      "5200:\tlearn: 0.1193813\ttest: 0.1289787\tbest: 0.1289787 (5200)\ttotal: 22s\tremaining: 1m 2s\n",
      "5400:\tlearn: 0.1184749\ttest: 0.1284261\tbest: 0.1284261 (5400)\ttotal: 22.9s\tremaining: 1m 1s\n",
      "5600:\tlearn: 0.1176225\ttest: 0.1279357\tbest: 0.1279357 (5600)\ttotal: 23.7s\tremaining: 1m\n",
      "5800:\tlearn: 0.1167917\ttest: 0.1274747\tbest: 0.1274747 (5800)\ttotal: 24.6s\tremaining: 1m\n",
      "6000:\tlearn: 0.1159942\ttest: 0.1270179\tbest: 0.1270179 (6000)\ttotal: 25.4s\tremaining: 59.3s\n",
      "6200:\tlearn: 0.1152177\ttest: 0.1266165\tbest: 0.1266138 (6194)\ttotal: 26.3s\tremaining: 58.4s\n",
      "6400:\tlearn: 0.1144763\ttest: 0.1262558\tbest: 0.1262558 (6400)\ttotal: 27.1s\tremaining: 57.7s\n",
      "6600:\tlearn: 0.1137557\ttest: 0.1258819\tbest: 0.1258819 (6600)\ttotal: 28s\tremaining: 56.8s\n",
      "6800:\tlearn: 0.1130265\ttest: 0.1254932\tbest: 0.1254932 (6800)\ttotal: 28.9s\tremaining: 56s\n",
      "7000:\tlearn: 0.1123596\ttest: 0.1251653\tbest: 0.1251653 (7000)\ttotal: 29.8s\tremaining: 55.3s\n",
      "7200:\tlearn: 0.1116994\ttest: 0.1248515\tbest: 0.1248515 (7200)\ttotal: 30.7s\tremaining: 54.5s\n",
      "7400:\tlearn: 0.1110860\ttest: 0.1245718\tbest: 0.1245718 (7400)\ttotal: 31.6s\tremaining: 53.7s\n",
      "7600:\tlearn: 0.1104520\ttest: 0.1242936\tbest: 0.1242936 (7600)\ttotal: 32.5s\tremaining: 52.9s\n",
      "7800:\tlearn: 0.1098473\ttest: 0.1240412\tbest: 0.1240410 (7798)\ttotal: 33.3s\tremaining: 52.1s\n",
      "8000:\tlearn: 0.1092578\ttest: 0.1237766\tbest: 0.1237766 (8000)\ttotal: 34.2s\tremaining: 51.3s\n",
      "8200:\tlearn: 0.1086914\ttest: 0.1235514\tbest: 0.1235514 (8200)\ttotal: 35s\tremaining: 50.4s\n",
      "8400:\tlearn: 0.1081237\ttest: 0.1233358\tbest: 0.1233358 (8400)\ttotal: 35.9s\tremaining: 49.5s\n",
      "8600:\tlearn: 0.1075641\ttest: 0.1231299\tbest: 0.1231292 (8599)\ttotal: 36.7s\tremaining: 48.6s\n",
      "8800:\tlearn: 0.1070416\ttest: 0.1229472\tbest: 0.1229472 (8800)\ttotal: 37.6s\tremaining: 47.8s\n",
      "9000:\tlearn: 0.1065099\ttest: 0.1227629\tbest: 0.1227629 (9000)\ttotal: 38.4s\tremaining: 47s\n",
      "9200:\tlearn: 0.1059936\ttest: 0.1225719\tbest: 0.1225709 (9198)\ttotal: 39.3s\tremaining: 46.1s\n",
      "9400:\tlearn: 0.1054827\ttest: 0.1223740\tbest: 0.1223740 (9400)\ttotal: 40.1s\tremaining: 45.2s\n",
      "9600:\tlearn: 0.1049573\ttest: 0.1221602\tbest: 0.1221602 (9600)\ttotal: 40.9s\tremaining: 44.3s\n",
      "9800:\tlearn: 0.1044577\ttest: 0.1220214\tbest: 0.1220208 (9799)\ttotal: 41.7s\tremaining: 43.4s\n",
      "10000:\tlearn: 0.1039831\ttest: 0.1218688\tbest: 0.1218688 (10000)\ttotal: 42.6s\tremaining: 42.6s\n",
      "10200:\tlearn: 0.1035251\ttest: 0.1217230\tbest: 0.1217230 (10200)\ttotal: 43.4s\tremaining: 41.7s\n",
      "10400:\tlearn: 0.1030347\ttest: 0.1215571\tbest: 0.1215571 (10400)\ttotal: 44.2s\tremaining: 40.8s\n",
      "10600:\tlearn: 0.1025810\ttest: 0.1214020\tbest: 0.1214011 (10598)\ttotal: 45s\tremaining: 39.9s\n",
      "10800:\tlearn: 0.1021041\ttest: 0.1212284\tbest: 0.1212275 (10798)\ttotal: 45.9s\tremaining: 39.1s\n",
      "11000:\tlearn: 0.1016779\ttest: 0.1211149\tbest: 0.1211149 (11000)\ttotal: 46.8s\tremaining: 38.2s\n",
      "11200:\tlearn: 0.1012360\ttest: 0.1209881\tbest: 0.1209881 (11200)\ttotal: 47.6s\tremaining: 37.4s\n",
      "11400:\tlearn: 0.1007953\ttest: 0.1208520\tbest: 0.1208520 (11400)\ttotal: 48.5s\tremaining: 36.6s\n",
      "11600:\tlearn: 0.1003645\ttest: 0.1206944\tbest: 0.1206944 (11600)\ttotal: 49.5s\tremaining: 35.8s\n",
      "11800:\tlearn: 0.0999430\ttest: 0.1205752\tbest: 0.1205751 (11796)\ttotal: 50.3s\tremaining: 35s\n",
      "12000:\tlearn: 0.0995295\ttest: 0.1204580\tbest: 0.1204580 (12000)\ttotal: 51.2s\tremaining: 34.1s\n",
      "12200:\tlearn: 0.0991250\ttest: 0.1203435\tbest: 0.1203429 (12198)\ttotal: 52.1s\tremaining: 33.3s\n",
      "12400:\tlearn: 0.0987238\ttest: 0.1202378\tbest: 0.1202368 (12399)\ttotal: 52.9s\tremaining: 32.4s\n",
      "12600:\tlearn: 0.0983108\ttest: 0.1201097\tbest: 0.1201097 (12600)\ttotal: 53.7s\tremaining: 31.6s\n",
      "12800:\tlearn: 0.0979078\ttest: 0.1199685\tbest: 0.1199685 (12800)\ttotal: 54.6s\tremaining: 30.7s\n",
      "13000:\tlearn: 0.0975123\ttest: 0.1198419\tbest: 0.1198419 (13000)\ttotal: 55.4s\tremaining: 29.8s\n",
      "13200:\tlearn: 0.0971284\ttest: 0.1197228\tbest: 0.1197228 (13200)\ttotal: 56.2s\tremaining: 29s\n",
      "13400:\tlearn: 0.0967416\ttest: 0.1196174\tbest: 0.1196174 (13400)\ttotal: 57.1s\tremaining: 28.1s\n",
      "13600:\tlearn: 0.0963704\ttest: 0.1195225\tbest: 0.1195201 (13593)\ttotal: 58s\tremaining: 27.3s\n",
      "13800:\tlearn: 0.0959877\ttest: 0.1194259\tbest: 0.1194259 (13800)\ttotal: 58.8s\tremaining: 26.4s\n",
      "14000:\tlearn: 0.0956260\ttest: 0.1193530\tbest: 0.1193530 (14000)\ttotal: 59.7s\tremaining: 25.6s\n",
      "14200:\tlearn: 0.0952650\ttest: 0.1192785\tbest: 0.1192750 (14174)\ttotal: 1m\tremaining: 24.7s\n",
      "14400:\tlearn: 0.0949077\ttest: 0.1191923\tbest: 0.1191923 (14400)\ttotal: 1m 1s\tremaining: 23.9s\n",
      "14600:\tlearn: 0.0945357\ttest: 0.1190971\tbest: 0.1190961 (14596)\ttotal: 1m 2s\tremaining: 23s\n",
      "14800:\tlearn: 0.0941865\ttest: 0.1190161\tbest: 0.1190153 (14799)\ttotal: 1m 3s\tremaining: 22.2s\n",
      "15000:\tlearn: 0.0938296\ttest: 0.1189741\tbest: 0.1189712 (14980)\ttotal: 1m 4s\tremaining: 21.4s\n",
      "15200:\tlearn: 0.0934783\ttest: 0.1189283\tbest: 0.1189268 (15199)\ttotal: 1m 5s\tremaining: 20.6s\n",
      "15400:\tlearn: 0.0931314\ttest: 0.1188649\tbest: 0.1188649 (15400)\ttotal: 1m 6s\tremaining: 19.7s\n",
      "15600:\tlearn: 0.0927873\ttest: 0.1187943\tbest: 0.1187936 (15593)\ttotal: 1m 7s\tremaining: 18.9s\n",
      "15800:\tlearn: 0.0924656\ttest: 0.1187166\tbest: 0.1187166 (15800)\ttotal: 1m 8s\tremaining: 18.1s\n",
      "16000:\tlearn: 0.0921286\ttest: 0.1186823\tbest: 0.1186795 (15991)\ttotal: 1m 8s\tremaining: 17.2s\n",
      "16200:\tlearn: 0.0917795\ttest: 0.1186074\tbest: 0.1186074 (16200)\ttotal: 1m 9s\tremaining: 16.4s\n",
      "16400:\tlearn: 0.0914524\ttest: 0.1185632\tbest: 0.1185623 (16396)\ttotal: 1m 10s\tremaining: 15.5s\n",
      "16600:\tlearn: 0.0911302\ttest: 0.1185066\tbest: 0.1185057 (16599)\ttotal: 1m 11s\tremaining: 14.6s\n",
      "16800:\tlearn: 0.0907925\ttest: 0.1184491\tbest: 0.1184454 (16792)\ttotal: 1m 12s\tremaining: 13.8s\n",
      "17000:\tlearn: 0.0904763\ttest: 0.1183990\tbest: 0.1183990 (17000)\ttotal: 1m 13s\tremaining: 12.9s\n",
      "17200:\tlearn: 0.0901601\ttest: 0.1183494\tbest: 0.1183476 (17191)\ttotal: 1m 14s\tremaining: 12.1s\n",
      "17400:\tlearn: 0.0898461\ttest: 0.1182868\tbest: 0.1182868 (17400)\ttotal: 1m 15s\tremaining: 11.2s\n"
     ]
    },
    {
     "name": "stdout",
     "output_type": "stream",
     "text": [
      "17600:\tlearn: 0.0895377\ttest: 0.1182454\tbest: 0.1182451 (17576)\ttotal: 1m 15s\tremaining: 10.3s\n",
      "17800:\tlearn: 0.0892265\ttest: 0.1182024\tbest: 0.1182016 (17798)\ttotal: 1m 16s\tremaining: 9.48s\n",
      "18000:\tlearn: 0.0889183\ttest: 0.1181612\tbest: 0.1181571 (17990)\ttotal: 1m 17s\tremaining: 8.63s\n",
      "18200:\tlearn: 0.0886112\ttest: 0.1181420\tbest: 0.1181399 (18141)\ttotal: 1m 18s\tremaining: 7.77s\n",
      "18400:\tlearn: 0.0883106\ttest: 0.1181019\tbest: 0.1181018 (18398)\ttotal: 1m 19s\tremaining: 6.91s\n",
      "18600:\tlearn: 0.0880191\ttest: 0.1180516\tbest: 0.1180516 (18600)\ttotal: 1m 20s\tremaining: 6.04s\n",
      "18800:\tlearn: 0.0877239\ttest: 0.1180103\tbest: 0.1180092 (18789)\ttotal: 1m 21s\tremaining: 5.18s\n",
      "19000:\tlearn: 0.0874275\ttest: 0.1179603\tbest: 0.1179596 (18998)\ttotal: 1m 22s\tremaining: 4.32s\n",
      "19200:\tlearn: 0.0871412\ttest: 0.1179239\tbest: 0.1179239 (19200)\ttotal: 1m 23s\tremaining: 3.46s\n",
      "19400:\tlearn: 0.0868555\ttest: 0.1178988\tbest: 0.1178988 (19400)\ttotal: 1m 23s\tremaining: 2.59s\n",
      "19600:\tlearn: 0.0865678\ttest: 0.1178517\tbest: 0.1178517 (19600)\ttotal: 1m 24s\tremaining: 1.73s\n",
      "19800:\tlearn: 0.0862933\ttest: 0.1178186\tbest: 0.1178158 (19797)\ttotal: 1m 25s\tremaining: 862ms\n",
      "19999:\tlearn: 0.0860181\ttest: 0.1177808\tbest: 0.1177791 (19990)\ttotal: 1m 26s\tremaining: 0us\n",
      "\n",
      "bestTest = 0.1177791229\n",
      "bestIteration = 19990\n",
      "\n",
      "Shrink model to first 19991 iterations.\n",
      "==================================================\n",
      "Learning rate set to 0.014112\n",
      "0:\tlearn: 0.4211773\ttest: 0.4230589\tbest: 0.4230589 (0)\ttotal: 5.09ms\tremaining: 1m 41s\n",
      "200:\tlearn: 0.2273098\ttest: 0.2270435\tbest: 0.2270435 (200)\ttotal: 966ms\tremaining: 1m 35s\n",
      "400:\tlearn: 0.1998480\ttest: 0.1996292\tbest: 0.1996292 (400)\ttotal: 1.84s\tremaining: 1m 30s\n",
      "600:\tlearn: 0.1847221\ttest: 0.1848059\tbest: 0.1848059 (600)\ttotal: 2.71s\tremaining: 1m 27s\n",
      "800:\tlearn: 0.1742413\ttest: 0.1744662\tbest: 0.1744662 (800)\ttotal: 3.62s\tremaining: 1m 26s\n",
      "1000:\tlearn: 0.1659928\ttest: 0.1664236\tbest: 0.1664236 (1000)\ttotal: 4.55s\tremaining: 1m 26s\n",
      "1200:\tlearn: 0.1601324\ttest: 0.1608692\tbest: 0.1608692 (1200)\ttotal: 5.48s\tremaining: 1m 25s\n",
      "1400:\tlearn: 0.1551820\ttest: 0.1561139\tbest: 0.1561139 (1400)\ttotal: 6.37s\tremaining: 1m 24s\n",
      "1600:\tlearn: 0.1511739\ttest: 0.1523899\tbest: 0.1523899 (1600)\ttotal: 7.28s\tremaining: 1m 23s\n",
      "1800:\tlearn: 0.1475235\ttest: 0.1490886\tbest: 0.1490886 (1800)\ttotal: 8.22s\tremaining: 1m 23s\n",
      "2000:\tlearn: 0.1443155\ttest: 0.1461994\tbest: 0.1461994 (2000)\ttotal: 9.15s\tremaining: 1m 22s\n",
      "2200:\tlearn: 0.1416507\ttest: 0.1439460\tbest: 0.1439459 (2199)\ttotal: 10.1s\tremaining: 1m 21s\n",
      "2400:\tlearn: 0.1392298\ttest: 0.1418495\tbest: 0.1418495 (2400)\ttotal: 11s\tremaining: 1m 20s\n",
      "2600:\tlearn: 0.1371772\ttest: 0.1400808\tbest: 0.1400808 (2600)\ttotal: 11.9s\tremaining: 1m 19s\n",
      "2800:\tlearn: 0.1352989\ttest: 0.1386038\tbest: 0.1386038 (2800)\ttotal: 12.8s\tremaining: 1m 18s\n",
      "3000:\tlearn: 0.1335444\ttest: 0.1372161\tbest: 0.1372161 (3000)\ttotal: 13.7s\tremaining: 1m 17s\n",
      "3200:\tlearn: 0.1319446\ttest: 0.1360293\tbest: 0.1360293 (3200)\ttotal: 14.5s\tremaining: 1m 16s\n",
      "3400:\tlearn: 0.1303923\ttest: 0.1348845\tbest: 0.1348845 (3400)\ttotal: 15.4s\tremaining: 1m 15s\n",
      "3600:\tlearn: 0.1289560\ttest: 0.1338662\tbest: 0.1338662 (3600)\ttotal: 16.4s\tremaining: 1m 14s\n",
      "3800:\tlearn: 0.1276321\ttest: 0.1328827\tbest: 0.1328827 (3800)\ttotal: 17.2s\tremaining: 1m 13s\n",
      "4000:\tlearn: 0.1263604\ttest: 0.1320014\tbest: 0.1320013 (3999)\ttotal: 18.1s\tremaining: 1m 12s\n",
      "4200:\tlearn: 0.1252125\ttest: 0.1312631\tbest: 0.1312631 (4200)\ttotal: 19s\tremaining: 1m 11s\n",
      "4400:\tlearn: 0.1241377\ttest: 0.1305827\tbest: 0.1305823 (4399)\ttotal: 19.9s\tremaining: 1m 10s\n",
      "4600:\tlearn: 0.1230733\ttest: 0.1299086\tbest: 0.1299086 (4600)\ttotal: 20.8s\tremaining: 1m 9s\n",
      "4800:\tlearn: 0.1220369\ttest: 0.1292991\tbest: 0.1292987 (4799)\ttotal: 21.7s\tremaining: 1m 8s\n",
      "5000:\tlearn: 0.1210550\ttest: 0.1286980\tbest: 0.1286977 (4999)\ttotal: 22.6s\tremaining: 1m 7s\n",
      "5200:\tlearn: 0.1200828\ttest: 0.1281614\tbest: 0.1281614 (5200)\ttotal: 23.4s\tremaining: 1m 6s\n",
      "5400:\tlearn: 0.1191673\ttest: 0.1275974\tbest: 0.1275974 (5400)\ttotal: 24.3s\tremaining: 1m 5s\n",
      "5600:\tlearn: 0.1182915\ttest: 0.1270926\tbest: 0.1270926 (5600)\ttotal: 25.2s\tremaining: 1m 4s\n",
      "5800:\tlearn: 0.1174560\ttest: 0.1266621\tbest: 0.1266621 (5800)\ttotal: 26.2s\tremaining: 1m 4s\n",
      "6000:\tlearn: 0.1166221\ttest: 0.1262381\tbest: 0.1262368 (5999)\ttotal: 27.1s\tremaining: 1m 3s\n",
      "6200:\tlearn: 0.1157936\ttest: 0.1257919\tbest: 0.1257919 (6200)\ttotal: 28s\tremaining: 1m 2s\n",
      "6400:\tlearn: 0.1150564\ttest: 0.1254386\tbest: 0.1254386 (6400)\ttotal: 29s\tremaining: 1m 1s\n",
      "6600:\tlearn: 0.1143196\ttest: 0.1250832\tbest: 0.1250832 (6600)\ttotal: 30s\tremaining: 1m\n",
      "6800:\tlearn: 0.1136061\ttest: 0.1247243\tbest: 0.1247243 (6800)\ttotal: 30.9s\tremaining: 1m\n",
      "7000:\tlearn: 0.1129156\ttest: 0.1244084\tbest: 0.1244084 (7000)\ttotal: 31.8s\tremaining: 59.1s\n",
      "7200:\tlearn: 0.1122457\ttest: 0.1241084\tbest: 0.1241084 (7200)\ttotal: 32.8s\tremaining: 58.4s\n",
      "7400:\tlearn: 0.1115562\ttest: 0.1237843\tbest: 0.1237843 (7400)\ttotal: 33.8s\tremaining: 57.6s\n",
      "7600:\tlearn: 0.1109184\ttest: 0.1234845\tbest: 0.1234845 (7600)\ttotal: 34.7s\tremaining: 56.7s\n",
      "7800:\tlearn: 0.1102624\ttest: 0.1231770\tbest: 0.1231770 (7800)\ttotal: 35.7s\tremaining: 55.8s\n",
      "8000:\tlearn: 0.1096776\ttest: 0.1229698\tbest: 0.1229698 (8000)\ttotal: 36.6s\tremaining: 54.8s\n",
      "8200:\tlearn: 0.1091090\ttest: 0.1227453\tbest: 0.1227447 (8199)\ttotal: 37.5s\tremaining: 53.9s\n",
      "8400:\tlearn: 0.1085417\ttest: 0.1225209\tbest: 0.1225209 (8400)\ttotal: 38.4s\tremaining: 53s\n",
      "8600:\tlearn: 0.1079816\ttest: 0.1223054\tbest: 0.1223044 (8598)\ttotal: 39.3s\tremaining: 52.1s\n",
      "8800:\tlearn: 0.1074393\ttest: 0.1220975\tbest: 0.1220975 (8800)\ttotal: 40.2s\tremaining: 51.2s\n",
      "9000:\tlearn: 0.1069010\ttest: 0.1219091\tbest: 0.1219091 (9000)\ttotal: 41.1s\tremaining: 50.3s\n",
      "9200:\tlearn: 0.1063983\ttest: 0.1217456\tbest: 0.1217456 (9200)\ttotal: 42.1s\tremaining: 49.4s\n",
      "9400:\tlearn: 0.1058752\ttest: 0.1215713\tbest: 0.1215713 (9400)\ttotal: 43.2s\tremaining: 48.7s\n",
      "9600:\tlearn: 0.1053563\ttest: 0.1213820\tbest: 0.1213820 (9600)\ttotal: 44.1s\tremaining: 47.8s\n",
      "9800:\tlearn: 0.1048675\ttest: 0.1212263\tbest: 0.1212255 (9798)\ttotal: 45s\tremaining: 46.9s\n",
      "10000:\tlearn: 0.1043630\ttest: 0.1210454\tbest: 0.1210446 (9999)\ttotal: 46.1s\tremaining: 46.1s\n",
      "10200:\tlearn: 0.1038760\ttest: 0.1209068\tbest: 0.1209068 (10200)\ttotal: 47.1s\tremaining: 45.3s\n",
      "10400:\tlearn: 0.1034076\ttest: 0.1207382\tbest: 0.1207382 (10400)\ttotal: 48.1s\tremaining: 44.4s\n",
      "10600:\tlearn: 0.1029543\ttest: 0.1206033\tbest: 0.1206033 (10600)\ttotal: 49.2s\tremaining: 43.6s\n",
      "10800:\tlearn: 0.1024716\ttest: 0.1204477\tbest: 0.1204477 (10800)\ttotal: 50.3s\tremaining: 42.8s\n",
      "11000:\tlearn: 0.1020210\ttest: 0.1202989\tbest: 0.1202989 (11000)\ttotal: 51.4s\tremaining: 42.1s\n",
      "11200:\tlearn: 0.1015768\ttest: 0.1201688\tbest: 0.1201658 (11195)\ttotal: 52.6s\tremaining: 41.3s\n",
      "11400:\tlearn: 0.1011234\ttest: 0.1200478\tbest: 0.1200477 (11398)\ttotal: 53.7s\tremaining: 40.5s\n",
      "11600:\tlearn: 0.1006905\ttest: 0.1199250\tbest: 0.1199242 (11599)\ttotal: 54.9s\tremaining: 39.7s\n",
      "11800:\tlearn: 0.1002664\ttest: 0.1198017\tbest: 0.1198017 (11800)\ttotal: 56s\tremaining: 38.9s\n",
      "12000:\tlearn: 0.0998555\ttest: 0.1196860\tbest: 0.1196860 (12000)\ttotal: 57.2s\tremaining: 38.1s\n",
      "12200:\tlearn: 0.0994406\ttest: 0.1195663\tbest: 0.1195652 (12198)\ttotal: 58.3s\tremaining: 37.3s\n",
      "12400:\tlearn: 0.0990509\ttest: 0.1194625\tbest: 0.1194625 (12400)\ttotal: 59.4s\tremaining: 36.4s\n",
      "12600:\tlearn: 0.0986507\ttest: 0.1193647\tbest: 0.1193631 (12585)\ttotal: 1m\tremaining: 35.5s\n",
      "12800:\tlearn: 0.0982521\ttest: 0.1192596\tbest: 0.1192589 (12799)\ttotal: 1m 1s\tremaining: 34.7s\n",
      "13000:\tlearn: 0.0978656\ttest: 0.1191584\tbest: 0.1191563 (12991)\ttotal: 1m 2s\tremaining: 33.8s\n",
      "13200:\tlearn: 0.0974858\ttest: 0.1190820\tbest: 0.1190820 (13200)\ttotal: 1m 3s\tremaining: 33s\n",
      "13400:\tlearn: 0.0970920\ttest: 0.1189771\tbest: 0.1189771 (13400)\ttotal: 1m 5s\tremaining: 32.1s\n",
      "13600:\tlearn: 0.0967009\ttest: 0.1188798\tbest: 0.1188777 (13595)\ttotal: 1m 6s\tremaining: 31.1s\n",
      "13800:\tlearn: 0.0963286\ttest: 0.1188037\tbest: 0.1188037 (13800)\ttotal: 1m 7s\tremaining: 30.2s\n",
      "14000:\tlearn: 0.0959591\ttest: 0.1187120\tbest: 0.1187120 (14000)\ttotal: 1m 8s\tremaining: 29.2s\n",
      "14200:\tlearn: 0.0955796\ttest: 0.1186286\tbest: 0.1186286 (14200)\ttotal: 1m 9s\tremaining: 28.3s\n",
      "14400:\tlearn: 0.0952202\ttest: 0.1185662\tbest: 0.1185652 (14399)\ttotal: 1m 10s\tremaining: 27.3s\n",
      "14600:\tlearn: 0.0948634\ttest: 0.1185053\tbest: 0.1185053 (14600)\ttotal: 1m 11s\tremaining: 26.4s\n"
     ]
    },
    {
     "name": "stdout",
     "output_type": "stream",
     "text": [
      "14800:\tlearn: 0.0945158\ttest: 0.1184444\tbest: 0.1184442 (14796)\ttotal: 1m 12s\tremaining: 25.5s\n",
      "15000:\tlearn: 0.0941658\ttest: 0.1183678\tbest: 0.1183665 (14998)\ttotal: 1m 13s\tremaining: 24.5s\n",
      "15200:\tlearn: 0.0938038\ttest: 0.1182923\tbest: 0.1182923 (15200)\ttotal: 1m 14s\tremaining: 23.6s\n",
      "15400:\tlearn: 0.0934482\ttest: 0.1182312\tbest: 0.1182306 (15399)\ttotal: 1m 15s\tremaining: 22.7s\n",
      "15600:\tlearn: 0.0930983\ttest: 0.1181836\tbest: 0.1181825 (15598)\ttotal: 1m 16s\tremaining: 21.7s\n",
      "15800:\tlearn: 0.0927609\ttest: 0.1181286\tbest: 0.1181280 (15793)\ttotal: 1m 17s\tremaining: 20.7s\n",
      "16000:\tlearn: 0.0924119\ttest: 0.1180409\tbest: 0.1180392 (15992)\ttotal: 1m 18s\tremaining: 19.7s\n",
      "16200:\tlearn: 0.0921047\ttest: 0.1179996\tbest: 0.1179993 (16199)\ttotal: 1m 19s\tremaining: 18.7s\n",
      "16400:\tlearn: 0.0917858\ttest: 0.1179588\tbest: 0.1179588 (16400)\ttotal: 1m 20s\tremaining: 17.7s\n",
      "16600:\tlearn: 0.0914661\ttest: 0.1179087\tbest: 0.1179087 (16600)\ttotal: 1m 21s\tremaining: 16.8s\n",
      "16800:\tlearn: 0.0911458\ttest: 0.1178596\tbest: 0.1178596 (16800)\ttotal: 1m 22s\tremaining: 15.8s\n",
      "17000:\tlearn: 0.0908045\ttest: 0.1177846\tbest: 0.1177846 (17000)\ttotal: 1m 23s\tremaining: 14.8s\n",
      "17200:\tlearn: 0.0904843\ttest: 0.1177330\tbest: 0.1177330 (17200)\ttotal: 1m 24s\tremaining: 13.8s\n",
      "17400:\tlearn: 0.0901836\ttest: 0.1176910\tbest: 0.1176862 (17387)\ttotal: 1m 25s\tremaining: 12.8s\n",
      "17600:\tlearn: 0.0898728\ttest: 0.1176419\tbest: 0.1176391 (17576)\ttotal: 1m 26s\tremaining: 11.8s\n",
      "17800:\tlearn: 0.0895684\ttest: 0.1175909\tbest: 0.1175906 (17798)\ttotal: 1m 27s\tremaining: 10.8s\n",
      "18000:\tlearn: 0.0892662\ttest: 0.1175498\tbest: 0.1175492 (17982)\ttotal: 1m 28s\tremaining: 9.82s\n",
      "18200:\tlearn: 0.0889749\ttest: 0.1175165\tbest: 0.1175165 (18200)\ttotal: 1m 29s\tremaining: 8.83s\n",
      "18400:\tlearn: 0.0886841\ttest: 0.1174769\tbest: 0.1174761 (18399)\ttotal: 1m 30s\tremaining: 7.84s\n",
      "18600:\tlearn: 0.0883782\ttest: 0.1174575\tbest: 0.1174554 (18598)\ttotal: 1m 31s\tremaining: 6.86s\n",
      "18800:\tlearn: 0.0880989\ttest: 0.1174173\tbest: 0.1174173 (18800)\ttotal: 1m 32s\tremaining: 5.88s\n",
      "19000:\tlearn: 0.0878124\ttest: 0.1173872\tbest: 0.1173863 (18983)\ttotal: 1m 33s\tremaining: 4.89s\n",
      "19200:\tlearn: 0.0875303\ttest: 0.1173507\tbest: 0.1173500 (19194)\ttotal: 1m 34s\tremaining: 3.91s\n",
      "19400:\tlearn: 0.0872477\ttest: 0.1173252\tbest: 0.1173239 (19386)\ttotal: 1m 34s\tremaining: 2.93s\n",
      "19600:\tlearn: 0.0869527\ttest: 0.1172601\tbest: 0.1172600 (19599)\ttotal: 1m 35s\tremaining: 1.95s\n",
      "19800:\tlearn: 0.0866638\ttest: 0.1172187\tbest: 0.1172187 (19800)\ttotal: 1m 36s\tremaining: 973ms\n",
      "19999:\tlearn: 0.0863763\ttest: 0.1171910\tbest: 0.1171884 (19956)\ttotal: 1m 37s\tremaining: 0us\n",
      "\n",
      "bestTest = 0.1171884152\n",
      "bestIteration = 19956\n",
      "\n",
      "Shrink model to first 19957 iterations.\n",
      "==================================================\n",
      "Learning rate set to 0.014112\n",
      "0:\tlearn: 0.4222773\ttest: 0.4158517\tbest: 0.4158517 (0)\ttotal: 5.87ms\tremaining: 1m 57s\n",
      "200:\tlearn: 0.2268414\ttest: 0.2259149\tbest: 0.2259149 (200)\ttotal: 996ms\tremaining: 1m 38s\n",
      "400:\tlearn: 0.1993192\ttest: 0.1993796\tbest: 0.1993796 (400)\ttotal: 1.93s\tremaining: 1m 34s\n",
      "600:\tlearn: 0.1839480\ttest: 0.1849444\tbest: 0.1849444 (600)\ttotal: 2.91s\tremaining: 1m 33s\n",
      "800:\tlearn: 0.1734247\ttest: 0.1751813\tbest: 0.1751813 (800)\ttotal: 3.84s\tremaining: 1m 31s\n",
      "1000:\tlearn: 0.1656615\ttest: 0.1682266\tbest: 0.1682266 (1000)\ttotal: 4.74s\tremaining: 1m 29s\n",
      "1200:\tlearn: 0.1594730\ttest: 0.1626500\tbest: 0.1626500 (1200)\ttotal: 5.63s\tremaining: 1m 28s\n",
      "1400:\tlearn: 0.1546726\ttest: 0.1584210\tbest: 0.1584210 (1400)\ttotal: 6.53s\tremaining: 1m 26s\n",
      "1600:\tlearn: 0.1506218\ttest: 0.1548409\tbest: 0.1548409 (1600)\ttotal: 7.44s\tremaining: 1m 25s\n",
      "1800:\tlearn: 0.1472342\ttest: 0.1518013\tbest: 0.1518013 (1800)\ttotal: 8.33s\tremaining: 1m 24s\n",
      "2000:\tlearn: 0.1440879\ttest: 0.1489788\tbest: 0.1489788 (2000)\ttotal: 9.21s\tremaining: 1m 22s\n",
      "2200:\tlearn: 0.1414121\ttest: 0.1465603\tbest: 0.1465603 (2200)\ttotal: 10.1s\tremaining: 1m 21s\n",
      "2400:\tlearn: 0.1391192\ttest: 0.1446207\tbest: 0.1446207 (2400)\ttotal: 11.1s\tremaining: 1m 21s\n",
      "2600:\tlearn: 0.1371284\ttest: 0.1429797\tbest: 0.1429797 (2600)\ttotal: 12s\tremaining: 1m 20s\n",
      "2800:\tlearn: 0.1353025\ttest: 0.1413922\tbest: 0.1413922 (2800)\ttotal: 13s\tremaining: 1m 19s\n",
      "3000:\tlearn: 0.1336278\ttest: 0.1400180\tbest: 0.1400180 (3000)\ttotal: 13.9s\tremaining: 1m 18s\n",
      "3200:\tlearn: 0.1319982\ttest: 0.1386758\tbest: 0.1386758 (3200)\ttotal: 14.8s\tremaining: 1m 17s\n",
      "3400:\tlearn: 0.1304918\ttest: 0.1374656\tbest: 0.1374656 (3400)\ttotal: 15.7s\tremaining: 1m 16s\n",
      "3600:\tlearn: 0.1291209\ttest: 0.1363592\tbest: 0.1363592 (3600)\ttotal: 16.6s\tremaining: 1m 15s\n",
      "3800:\tlearn: 0.1277287\ttest: 0.1353212\tbest: 0.1353212 (3800)\ttotal: 17.5s\tremaining: 1m 14s\n",
      "4000:\tlearn: 0.1264332\ttest: 0.1343287\tbest: 0.1343287 (4000)\ttotal: 18.4s\tremaining: 1m 13s\n",
      "4200:\tlearn: 0.1252419\ttest: 0.1334208\tbest: 0.1334208 (4200)\ttotal: 19.3s\tremaining: 1m 12s\n",
      "4400:\tlearn: 0.1240966\ttest: 0.1326378\tbest: 0.1326378 (4400)\ttotal: 20.3s\tremaining: 1m 11s\n",
      "4600:\tlearn: 0.1230733\ttest: 0.1319644\tbest: 0.1319644 (4600)\ttotal: 21.2s\tremaining: 1m 11s\n",
      "4800:\tlearn: 0.1220275\ttest: 0.1312301\tbest: 0.1312301 (4800)\ttotal: 22.2s\tremaining: 1m 10s\n",
      "5000:\tlearn: 0.1211158\ttest: 0.1306556\tbest: 0.1306550 (4999)\ttotal: 23.1s\tremaining: 1m 9s\n",
      "5200:\tlearn: 0.1201824\ttest: 0.1300776\tbest: 0.1300776 (5200)\ttotal: 24s\tremaining: 1m 8s\n",
      "5400:\tlearn: 0.1193252\ttest: 0.1295579\tbest: 0.1295579 (5400)\ttotal: 24.9s\tremaining: 1m 7s\n",
      "5600:\tlearn: 0.1184534\ttest: 0.1290026\tbest: 0.1290026 (5600)\ttotal: 25.9s\tremaining: 1m 6s\n",
      "5800:\tlearn: 0.1176304\ttest: 0.1284831\tbest: 0.1284831 (5800)\ttotal: 26.8s\tremaining: 1m 5s\n",
      "6000:\tlearn: 0.1168474\ttest: 0.1280640\tbest: 0.1280611 (5998)\ttotal: 27.8s\tremaining: 1m 4s\n",
      "6200:\tlearn: 0.1160443\ttest: 0.1276157\tbest: 0.1276157 (6200)\ttotal: 28.7s\tremaining: 1m 3s\n",
      "6400:\tlearn: 0.1153240\ttest: 0.1272584\tbest: 0.1272584 (6400)\ttotal: 29.7s\tremaining: 1m 3s\n",
      "6600:\tlearn: 0.1145540\ttest: 0.1268636\tbest: 0.1268636 (6600)\ttotal: 30.6s\tremaining: 1m 2s\n",
      "6800:\tlearn: 0.1138693\ttest: 0.1265780\tbest: 0.1265780 (6800)\ttotal: 31.5s\tremaining: 1m 1s\n",
      "7000:\tlearn: 0.1131988\ttest: 0.1262517\tbest: 0.1262517 (7000)\ttotal: 32.4s\tremaining: 1m\n",
      "7200:\tlearn: 0.1125183\ttest: 0.1259263\tbest: 0.1259263 (7200)\ttotal: 33.3s\tremaining: 59.3s\n",
      "7400:\tlearn: 0.1118511\ttest: 0.1256082\tbest: 0.1256081 (7399)\ttotal: 34.2s\tremaining: 58.2s\n",
      "7600:\tlearn: 0.1112265\ttest: 0.1253189\tbest: 0.1253189 (7600)\ttotal: 35.1s\tremaining: 57.2s\n",
      "7800:\tlearn: 0.1106100\ttest: 0.1250584\tbest: 0.1250577 (7792)\ttotal: 36s\tremaining: 56.2s\n",
      "8000:\tlearn: 0.1099998\ttest: 0.1248015\tbest: 0.1248015 (8000)\ttotal: 36.8s\tremaining: 55.3s\n",
      "8200:\tlearn: 0.1093812\ttest: 0.1245263\tbest: 0.1245263 (8200)\ttotal: 37.7s\tremaining: 54.3s\n",
      "8400:\tlearn: 0.1087833\ttest: 0.1242988\tbest: 0.1242987 (8399)\ttotal: 38.6s\tremaining: 53.4s\n",
      "8600:\tlearn: 0.1082200\ttest: 0.1240765\tbest: 0.1240765 (8600)\ttotal: 39.5s\tremaining: 52.4s\n",
      "8800:\tlearn: 0.1076600\ttest: 0.1238748\tbest: 0.1238748 (8800)\ttotal: 40.4s\tremaining: 51.5s\n",
      "9000:\tlearn: 0.1071319\ttest: 0.1236862\tbest: 0.1236862 (9000)\ttotal: 41.4s\tremaining: 50.5s\n",
      "9200:\tlearn: 0.1066029\ttest: 0.1234705\tbest: 0.1234705 (9200)\ttotal: 42.3s\tremaining: 49.6s\n",
      "9400:\tlearn: 0.1060828\ttest: 0.1232881\tbest: 0.1232881 (9400)\ttotal: 43.2s\tremaining: 48.7s\n",
      "9600:\tlearn: 0.1055704\ttest: 0.1231136\tbest: 0.1231136 (9600)\ttotal: 44.2s\tremaining: 47.8s\n",
      "9800:\tlearn: 0.1050820\ttest: 0.1229405\tbest: 0.1229389 (9798)\ttotal: 45.1s\tremaining: 47s\n",
      "10000:\tlearn: 0.1045891\ttest: 0.1227953\tbest: 0.1227952 (9999)\ttotal: 46.1s\tremaining: 46.1s\n",
      "10200:\tlearn: 0.1040933\ttest: 0.1226672\tbest: 0.1226672 (10200)\ttotal: 47s\tremaining: 45.1s\n",
      "10400:\tlearn: 0.1036163\ttest: 0.1225003\tbest: 0.1225003 (10400)\ttotal: 47.9s\tremaining: 44.2s\n",
      "10600:\tlearn: 0.1031598\ttest: 0.1223647\tbest: 0.1223647 (10600)\ttotal: 48.8s\tremaining: 43.3s\n",
      "10800:\tlearn: 0.1026919\ttest: 0.1222481\tbest: 0.1222477 (10794)\ttotal: 49.7s\tremaining: 42.3s\n",
      "11000:\tlearn: 0.1022124\ttest: 0.1220910\tbest: 0.1220881 (10997)\ttotal: 50.6s\tremaining: 41.4s\n",
      "11200:\tlearn: 0.1017452\ttest: 0.1219558\tbest: 0.1219558 (11200)\ttotal: 51.5s\tremaining: 40.4s\n",
      "11400:\tlearn: 0.1013267\ttest: 0.1218614\tbest: 0.1218604 (11394)\ttotal: 52.3s\tremaining: 39.5s\n",
      "11600:\tlearn: 0.1008803\ttest: 0.1217376\tbest: 0.1217375 (11599)\ttotal: 53.2s\tremaining: 38.5s\n",
      "11800:\tlearn: 0.1004496\ttest: 0.1216236\tbest: 0.1216236 (11800)\ttotal: 54.1s\tremaining: 37.6s\n"
     ]
    },
    {
     "name": "stdout",
     "output_type": "stream",
     "text": [
      "12000:\tlearn: 0.1000309\ttest: 0.1215302\tbest: 0.1215298 (11998)\ttotal: 55s\tremaining: 36.6s\n",
      "12200:\tlearn: 0.0996105\ttest: 0.1214505\tbest: 0.1214505 (12200)\ttotal: 55.8s\tremaining: 35.7s\n",
      "12400:\tlearn: 0.0991966\ttest: 0.1213747\tbest: 0.1213725 (12395)\ttotal: 56.7s\tremaining: 34.7s\n",
      "12600:\tlearn: 0.0987986\ttest: 0.1212871\tbest: 0.1212871 (12600)\ttotal: 57.7s\tremaining: 33.9s\n",
      "12800:\tlearn: 0.0984048\ttest: 0.1212072\tbest: 0.1212072 (12800)\ttotal: 58.6s\tremaining: 33s\n",
      "13000:\tlearn: 0.0979978\ttest: 0.1210995\tbest: 0.1210995 (13000)\ttotal: 59.5s\tremaining: 32s\n",
      "13200:\tlearn: 0.0976092\ttest: 0.1210010\tbest: 0.1209999 (13196)\ttotal: 1m\tremaining: 31.1s\n",
      "13400:\tlearn: 0.0972314\ttest: 0.1209345\tbest: 0.1209345 (13400)\ttotal: 1m 1s\tremaining: 30.2s\n",
      "13600:\tlearn: 0.0968343\ttest: 0.1208274\tbest: 0.1208274 (13600)\ttotal: 1m 2s\tremaining: 29.3s\n",
      "13800:\tlearn: 0.0964431\ttest: 0.1207336\tbest: 0.1207336 (13799)\ttotal: 1m 3s\tremaining: 28.4s\n",
      "14000:\tlearn: 0.0960691\ttest: 0.1206628\tbest: 0.1206618 (13999)\ttotal: 1m 4s\tremaining: 27.5s\n",
      "14200:\tlearn: 0.0956960\ttest: 0.1205816\tbest: 0.1205816 (14200)\ttotal: 1m 5s\tremaining: 26.6s\n",
      "14400:\tlearn: 0.0953216\ttest: 0.1205070\tbest: 0.1205062 (14397)\ttotal: 1m 5s\tremaining: 25.6s\n",
      "14600:\tlearn: 0.0949538\ttest: 0.1204241\tbest: 0.1204235 (14599)\ttotal: 1m 6s\tremaining: 24.7s\n",
      "14800:\tlearn: 0.0946004\ttest: 0.1203984\tbest: 0.1203981 (14798)\ttotal: 1m 7s\tremaining: 23.8s\n",
      "15000:\tlearn: 0.0942391\ttest: 0.1203345\tbest: 0.1203333 (14999)\ttotal: 1m 8s\tremaining: 22.9s\n",
      "15200:\tlearn: 0.0938941\ttest: 0.1202693\tbest: 0.1202686 (15199)\ttotal: 1m 9s\tremaining: 22s\n",
      "15400:\tlearn: 0.0935493\ttest: 0.1202045\tbest: 0.1202035 (15397)\ttotal: 1m 10s\tremaining: 21.1s\n",
      "15600:\tlearn: 0.0931962\ttest: 0.1201332\tbest: 0.1201329 (15598)\ttotal: 1m 11s\tremaining: 20.2s\n",
      "15800:\tlearn: 0.0928632\ttest: 0.1200770\tbest: 0.1200770 (15800)\ttotal: 1m 12s\tremaining: 19.3s\n",
      "16000:\tlearn: 0.0925283\ttest: 0.1200344\tbest: 0.1200335 (15990)\ttotal: 1m 13s\tremaining: 18.4s\n",
      "16200:\tlearn: 0.0922052\ttest: 0.1199917\tbest: 0.1199917 (16200)\ttotal: 1m 14s\tremaining: 17.5s\n",
      "16400:\tlearn: 0.0918786\ttest: 0.1199478\tbest: 0.1199470 (16393)\ttotal: 1m 15s\tremaining: 16.5s\n",
      "16600:\tlearn: 0.0915646\ttest: 0.1198793\tbest: 0.1198787 (16592)\ttotal: 1m 16s\tremaining: 15.6s\n",
      "16800:\tlearn: 0.0912326\ttest: 0.1198069\tbest: 0.1198069 (16800)\ttotal: 1m 17s\tremaining: 14.7s\n",
      "17000:\tlearn: 0.0909214\ttest: 0.1197649\tbest: 0.1197635 (16999)\ttotal: 1m 18s\tremaining: 13.8s\n",
      "17200:\tlearn: 0.0905985\ttest: 0.1196959\tbest: 0.1196950 (17197)\ttotal: 1m 18s\tremaining: 12.8s\n",
      "17400:\tlearn: 0.0902920\ttest: 0.1196552\tbest: 0.1196552 (17400)\ttotal: 1m 19s\tremaining: 11.9s\n",
      "17600:\tlearn: 0.0899811\ttest: 0.1196000\tbest: 0.1195977 (17594)\ttotal: 1m 20s\tremaining: 11s\n",
      "17800:\tlearn: 0.0896691\ttest: 0.1195828\tbest: 0.1195774 (17738)\ttotal: 1m 21s\tremaining: 10.1s\n",
      "18000:\tlearn: 0.0893713\ttest: 0.1195293\tbest: 0.1195283 (17998)\ttotal: 1m 22s\tremaining: 9.17s\n",
      "18200:\tlearn: 0.0890573\ttest: 0.1194907\tbest: 0.1194894 (18193)\ttotal: 1m 23s\tremaining: 8.25s\n",
      "18400:\tlearn: 0.0887615\ttest: 0.1194564\tbest: 0.1194562 (18399)\ttotal: 1m 24s\tremaining: 7.33s\n",
      "18600:\tlearn: 0.0884709\ttest: 0.1194232\tbest: 0.1194232 (18600)\ttotal: 1m 25s\tremaining: 6.41s\n",
      "18800:\tlearn: 0.0881814\ttest: 0.1193884\tbest: 0.1193882 (18799)\ttotal: 1m 26s\tremaining: 5.49s\n",
      "19000:\tlearn: 0.0878925\ttest: 0.1193445\tbest: 0.1193440 (18996)\ttotal: 1m 27s\tremaining: 4.58s\n",
      "19200:\tlearn: 0.0875990\ttest: 0.1193328\tbest: 0.1193278 (19191)\ttotal: 1m 27s\tremaining: 3.66s\n",
      "19400:\tlearn: 0.0873193\ttest: 0.1193015\tbest: 0.1193015 (19400)\ttotal: 1m 28s\tremaining: 2.74s\n",
      "19600:\tlearn: 0.0870426\ttest: 0.1192578\tbest: 0.1192578 (19600)\ttotal: 1m 29s\tremaining: 1.83s\n",
      "19800:\tlearn: 0.0867594\ttest: 0.1192051\tbest: 0.1192050 (19796)\ttotal: 1m 30s\tremaining: 911ms\n",
      "19999:\tlearn: 0.0864736\ttest: 0.1191821\tbest: 0.1191821 (19999)\ttotal: 1m 31s\tremaining: 0us\n",
      "\n",
      "bestTest = 0.1191820692\n",
      "bestIteration = 19999\n",
      "\n",
      "==================================================\n",
      "Learning rate set to 0.014112\n",
      "0:\tlearn: 0.4213897\ttest: 0.4203044\tbest: 0.4203044 (0)\ttotal: 5.32ms\tremaining: 1m 46s\n",
      "200:\tlearn: 0.2267195\ttest: 0.2280047\tbest: 0.2280047 (200)\ttotal: 894ms\tremaining: 1m 28s\n",
      "400:\tlearn: 0.1992100\ttest: 0.2021188\tbest: 0.2021188 (400)\ttotal: 1.79s\tremaining: 1m 27s\n",
      "600:\tlearn: 0.1842222\ttest: 0.1878496\tbest: 0.1878496 (600)\ttotal: 2.72s\tremaining: 1m 27s\n",
      "800:\tlearn: 0.1732053\ttest: 0.1773877\tbest: 0.1773877 (800)\ttotal: 3.63s\tremaining: 1m 27s\n",
      "1000:\tlearn: 0.1649852\ttest: 0.1698229\tbest: 0.1698229 (1000)\ttotal: 4.53s\tremaining: 1m 26s\n",
      "1200:\tlearn: 0.1588272\ttest: 0.1642942\tbest: 0.1642942 (1200)\ttotal: 5.52s\tremaining: 1m 26s\n",
      "1400:\tlearn: 0.1539301\ttest: 0.1599086\tbest: 0.1599086 (1400)\ttotal: 6.41s\tremaining: 1m 25s\n",
      "1600:\tlearn: 0.1499322\ttest: 0.1562525\tbest: 0.1562525 (1600)\ttotal: 7.32s\tremaining: 1m 24s\n",
      "1800:\tlearn: 0.1466944\ttest: 0.1533001\tbest: 0.1533001 (1800)\ttotal: 8.2s\tremaining: 1m 22s\n",
      "2000:\tlearn: 0.1437096\ttest: 0.1505424\tbest: 0.1505424 (2000)\ttotal: 9.07s\tremaining: 1m 21s\n",
      "2200:\tlearn: 0.1410705\ttest: 0.1482320\tbest: 0.1482320 (2200)\ttotal: 9.95s\tremaining: 1m 20s\n",
      "2400:\tlearn: 0.1387211\ttest: 0.1461714\tbest: 0.1461712 (2399)\ttotal: 10.8s\tremaining: 1m 19s\n",
      "2600:\tlearn: 0.1366424\ttest: 0.1444839\tbest: 0.1444839 (2600)\ttotal: 11.7s\tremaining: 1m 18s\n",
      "2800:\tlearn: 0.1347386\ttest: 0.1429947\tbest: 0.1429947 (2800)\ttotal: 12.6s\tremaining: 1m 17s\n",
      "3000:\tlearn: 0.1329343\ttest: 0.1415789\tbest: 0.1415789 (3000)\ttotal: 13.5s\tremaining: 1m 16s\n",
      "3200:\tlearn: 0.1313650\ttest: 0.1403480\tbest: 0.1403480 (3200)\ttotal: 14.5s\tremaining: 1m 16s\n",
      "3400:\tlearn: 0.1298992\ttest: 0.1392189\tbest: 0.1392189 (3400)\ttotal: 15.5s\tremaining: 1m 15s\n",
      "3600:\tlearn: 0.1284518\ttest: 0.1381463\tbest: 0.1381463 (3600)\ttotal: 16.4s\tremaining: 1m 14s\n",
      "3800:\tlearn: 0.1271069\ttest: 0.1371705\tbest: 0.1371705 (3800)\ttotal: 17.3s\tremaining: 1m 13s\n",
      "4000:\tlearn: 0.1257938\ttest: 0.1362965\tbest: 0.1362965 (4000)\ttotal: 18.2s\tremaining: 1m 12s\n",
      "4200:\tlearn: 0.1245815\ttest: 0.1354689\tbest: 0.1354689 (4200)\ttotal: 19.1s\tremaining: 1m 11s\n",
      "4400:\tlearn: 0.1234574\ttest: 0.1347285\tbest: 0.1347285 (4400)\ttotal: 19.9s\tremaining: 1m 10s\n",
      "4600:\tlearn: 0.1224056\ttest: 0.1340311\tbest: 0.1340311 (4600)\ttotal: 20.8s\tremaining: 1m 9s\n",
      "4800:\tlearn: 0.1213952\ttest: 0.1333807\tbest: 0.1333807 (4800)\ttotal: 21.7s\tremaining: 1m 8s\n",
      "5000:\tlearn: 0.1204655\ttest: 0.1328013\tbest: 0.1328013 (5000)\ttotal: 22.6s\tremaining: 1m 7s\n",
      "5200:\tlearn: 0.1195271\ttest: 0.1321813\tbest: 0.1321813 (5200)\ttotal: 23.5s\tremaining: 1m 6s\n",
      "5400:\tlearn: 0.1185801\ttest: 0.1316049\tbest: 0.1316041 (5399)\ttotal: 24.4s\tremaining: 1m 5s\n",
      "5600:\tlearn: 0.1177266\ttest: 0.1311030\tbest: 0.1311030 (5600)\ttotal: 25.2s\tremaining: 1m 4s\n",
      "5800:\tlearn: 0.1169538\ttest: 0.1306609\tbest: 0.1306609 (5800)\ttotal: 26.1s\tremaining: 1m 3s\n",
      "6000:\tlearn: 0.1161756\ttest: 0.1302342\tbest: 0.1302342 (6000)\ttotal: 27s\tremaining: 1m 3s\n",
      "6200:\tlearn: 0.1154078\ttest: 0.1298002\tbest: 0.1298002 (6200)\ttotal: 27.9s\tremaining: 1m 2s\n",
      "6400:\tlearn: 0.1146570\ttest: 0.1293676\tbest: 0.1293676 (6400)\ttotal: 28.8s\tremaining: 1m 1s\n",
      "6600:\tlearn: 0.1139053\ttest: 0.1289846\tbest: 0.1289846 (6600)\ttotal: 29.7s\tremaining: 1m\n",
      "6800:\tlearn: 0.1132044\ttest: 0.1285874\tbest: 0.1285874 (6800)\ttotal: 30.6s\tremaining: 59.4s\n",
      "7000:\tlearn: 0.1124864\ttest: 0.1282484\tbest: 0.1282484 (7000)\ttotal: 31.5s\tremaining: 58.4s\n",
      "7200:\tlearn: 0.1118246\ttest: 0.1279595\tbest: 0.1279595 (7200)\ttotal: 32.3s\tremaining: 57.5s\n",
      "7400:\tlearn: 0.1111557\ttest: 0.1276432\tbest: 0.1276424 (7399)\ttotal: 33.2s\tremaining: 56.5s\n",
      "7600:\tlearn: 0.1105563\ttest: 0.1273968\tbest: 0.1273968 (7600)\ttotal: 34.1s\tremaining: 55.6s\n",
      "7800:\tlearn: 0.1099274\ttest: 0.1271017\tbest: 0.1271014 (7798)\ttotal: 35s\tremaining: 54.7s\n",
      "8000:\tlearn: 0.1093068\ttest: 0.1268074\tbest: 0.1268074 (8000)\ttotal: 35.8s\tremaining: 53.7s\n",
      "8200:\tlearn: 0.1086838\ttest: 0.1265311\tbest: 0.1265311 (8200)\ttotal: 36.7s\tremaining: 52.8s\n",
      "8400:\tlearn: 0.1080952\ttest: 0.1262815\tbest: 0.1262798 (8398)\ttotal: 37.6s\tremaining: 51.9s\n",
      "8600:\tlearn: 0.1075328\ttest: 0.1260803\tbest: 0.1260803 (8600)\ttotal: 38.6s\tremaining: 51.1s\n",
      "8800:\tlearn: 0.1069946\ttest: 0.1258932\tbest: 0.1258932 (8800)\ttotal: 39.5s\tremaining: 50.3s\n",
      "9000:\tlearn: 0.1064076\ttest: 0.1256547\tbest: 0.1256547 (9000)\ttotal: 40.4s\tremaining: 49.4s\n"
     ]
    },
    {
     "name": "stdout",
     "output_type": "stream",
     "text": [
      "9200:\tlearn: 0.1059070\ttest: 0.1254773\tbest: 0.1254773 (9200)\ttotal: 41.4s\tremaining: 48.5s\n",
      "9400:\tlearn: 0.1053893\ttest: 0.1252693\tbest: 0.1252684 (9399)\ttotal: 42.3s\tremaining: 47.7s\n",
      "9600:\tlearn: 0.1048493\ttest: 0.1250444\tbest: 0.1250444 (9600)\ttotal: 43.2s\tremaining: 46.8s\n",
      "9800:\tlearn: 0.1043267\ttest: 0.1248424\tbest: 0.1248424 (9800)\ttotal: 44.1s\tremaining: 45.9s\n",
      "10000:\tlearn: 0.1038459\ttest: 0.1246730\tbest: 0.1246730 (10000)\ttotal: 45s\tremaining: 44.9s\n",
      "10200:\tlearn: 0.1033349\ttest: 0.1244756\tbest: 0.1244738 (10196)\ttotal: 45.8s\tremaining: 44s\n",
      "10400:\tlearn: 0.1028472\ttest: 0.1242978\tbest: 0.1242978 (10400)\ttotal: 46.7s\tremaining: 43.1s\n",
      "10600:\tlearn: 0.1023708\ttest: 0.1241441\tbest: 0.1241441 (10600)\ttotal: 47.6s\tremaining: 42.2s\n",
      "10800:\tlearn: 0.1019251\ttest: 0.1240174\tbest: 0.1240174 (10800)\ttotal: 48.6s\tremaining: 41.4s\n",
      "11000:\tlearn: 0.1014627\ttest: 0.1238938\tbest: 0.1238938 (11000)\ttotal: 49.4s\tremaining: 40.4s\n",
      "11200:\tlearn: 0.1010266\ttest: 0.1237551\tbest: 0.1237551 (11200)\ttotal: 50.3s\tremaining: 39.5s\n",
      "11400:\tlearn: 0.1005728\ttest: 0.1236225\tbest: 0.1236225 (11400)\ttotal: 51.2s\tremaining: 38.6s\n",
      "11600:\tlearn: 0.1001212\ttest: 0.1234739\tbest: 0.1234739 (11600)\ttotal: 52s\tremaining: 37.7s\n",
      "11800:\tlearn: 0.0996932\ttest: 0.1233622\tbest: 0.1233619 (11799)\ttotal: 52.9s\tremaining: 36.8s\n",
      "12000:\tlearn: 0.0992842\ttest: 0.1232576\tbest: 0.1232576 (12000)\ttotal: 53.8s\tremaining: 35.8s\n",
      "12200:\tlearn: 0.0988649\ttest: 0.1231198\tbest: 0.1231198 (12200)\ttotal: 54.7s\tremaining: 34.9s\n",
      "12400:\tlearn: 0.0984390\ttest: 0.1229791\tbest: 0.1229791 (12400)\ttotal: 55.5s\tremaining: 34s\n",
      "12600:\tlearn: 0.0980274\ttest: 0.1228739\tbest: 0.1228734 (12594)\ttotal: 56.4s\tremaining: 33.1s\n",
      "12800:\tlearn: 0.0976125\ttest: 0.1227229\tbest: 0.1227229 (12800)\ttotal: 57.3s\tremaining: 32.2s\n",
      "13000:\tlearn: 0.0971995\ttest: 0.1226170\tbest: 0.1226170 (13000)\ttotal: 58.1s\tremaining: 31.3s\n",
      "13200:\tlearn: 0.0968213\ttest: 0.1225101\tbest: 0.1225101 (13200)\ttotal: 59s\tremaining: 30.4s\n",
      "13400:\tlearn: 0.0964160\ttest: 0.1224339\tbest: 0.1224338 (13399)\ttotal: 59.9s\tremaining: 29.5s\n",
      "13600:\tlearn: 0.0960232\ttest: 0.1223320\tbest: 0.1223320 (13600)\ttotal: 1m\tremaining: 28.6s\n",
      "13800:\tlearn: 0.0956465\ttest: 0.1222552\tbest: 0.1222541 (13792)\ttotal: 1m 1s\tremaining: 27.7s\n",
      "14000:\tlearn: 0.0952707\ttest: 0.1221629\tbest: 0.1221629 (14000)\ttotal: 1m 2s\tremaining: 26.8s\n",
      "14200:\tlearn: 0.0949030\ttest: 0.1220916\tbest: 0.1220905 (14196)\ttotal: 1m 3s\tremaining: 25.9s\n",
      "14400:\tlearn: 0.0945481\ttest: 0.1220111\tbest: 0.1220111 (14400)\ttotal: 1m 4s\tremaining: 25s\n",
      "14600:\tlearn: 0.0941930\ttest: 0.1219447\tbest: 0.1219447 (14600)\ttotal: 1m 5s\tremaining: 24.1s\n",
      "14800:\tlearn: 0.0938521\ttest: 0.1218843\tbest: 0.1218818 (14771)\ttotal: 1m 6s\tremaining: 23.2s\n",
      "15000:\tlearn: 0.0934971\ttest: 0.1217912\tbest: 0.1217904 (14999)\ttotal: 1m 7s\tremaining: 22.3s\n",
      "15200:\tlearn: 0.0931597\ttest: 0.1217272\tbest: 0.1217264 (15194)\ttotal: 1m 7s\tremaining: 21.4s\n",
      "15400:\tlearn: 0.0928106\ttest: 0.1216570\tbest: 0.1216570 (15400)\ttotal: 1m 8s\tremaining: 20.5s\n",
      "15600:\tlearn: 0.0924589\ttest: 0.1216013\tbest: 0.1216003 (15599)\ttotal: 1m 9s\tremaining: 19.7s\n",
      "15800:\tlearn: 0.0921287\ttest: 0.1215437\tbest: 0.1215407 (15768)\ttotal: 1m 10s\tremaining: 18.8s\n",
      "16000:\tlearn: 0.0917956\ttest: 0.1214553\tbest: 0.1214553 (16000)\ttotal: 1m 11s\tremaining: 17.9s\n",
      "16200:\tlearn: 0.0914637\ttest: 0.1213972\tbest: 0.1213955 (16194)\ttotal: 1m 12s\tremaining: 17s\n",
      "16400:\tlearn: 0.0911347\ttest: 0.1213607\tbest: 0.1213567 (16355)\ttotal: 1m 13s\tremaining: 16.1s\n",
      "16600:\tlearn: 0.0908174\ttest: 0.1213077\tbest: 0.1213069 (16586)\ttotal: 1m 14s\tremaining: 15.3s\n",
      "16800:\tlearn: 0.0905065\ttest: 0.1212587\tbest: 0.1212529 (16775)\ttotal: 1m 15s\tremaining: 14.4s\n",
      "17000:\tlearn: 0.0901957\ttest: 0.1211993\tbest: 0.1211992 (16999)\ttotal: 1m 16s\tremaining: 13.5s\n",
      "17200:\tlearn: 0.0898801\ttest: 0.1211610\tbest: 0.1211602 (17198)\ttotal: 1m 17s\tremaining: 12.6s\n",
      "17400:\tlearn: 0.0895656\ttest: 0.1211252\tbest: 0.1211239 (17398)\ttotal: 1m 18s\tremaining: 11.7s\n",
      "17600:\tlearn: 0.0892649\ttest: 0.1210853\tbest: 0.1210853 (17600)\ttotal: 1m 19s\tremaining: 10.8s\n",
      "17800:\tlearn: 0.0889663\ttest: 0.1210422\tbest: 0.1210391 (17774)\ttotal: 1m 19s\tremaining: 9.87s\n",
      "18000:\tlearn: 0.0886742\ttest: 0.1210078\tbest: 0.1210075 (17999)\ttotal: 1m 20s\tremaining: 8.97s\n",
      "18200:\tlearn: 0.0883720\ttest: 0.1209367\tbest: 0.1209358 (18197)\ttotal: 1m 21s\tremaining: 8.08s\n",
      "18400:\tlearn: 0.0880802\ttest: 0.1208958\tbest: 0.1208935 (18383)\ttotal: 1m 22s\tremaining: 7.18s\n",
      "18600:\tlearn: 0.0878037\ttest: 0.1208644\tbest: 0.1208595 (18567)\ttotal: 1m 23s\tremaining: 6.28s\n",
      "18800:\tlearn: 0.0875274\ttest: 0.1208300\tbest: 0.1208300 (18800)\ttotal: 1m 24s\tremaining: 5.38s\n",
      "19000:\tlearn: 0.0872419\ttest: 0.1207960\tbest: 0.1207943 (18992)\ttotal: 1m 25s\tremaining: 4.48s\n",
      "19200:\tlearn: 0.0869607\ttest: 0.1207456\tbest: 0.1207456 (19200)\ttotal: 1m 26s\tremaining: 3.58s\n",
      "19400:\tlearn: 0.0866803\ttest: 0.1207094\tbest: 0.1207083 (19372)\ttotal: 1m 26s\tremaining: 2.69s\n",
      "19600:\tlearn: 0.0864038\ttest: 0.1206799\tbest: 0.1206791 (19597)\ttotal: 1m 27s\tremaining: 1.79s\n",
      "19800:\tlearn: 0.0861371\ttest: 0.1206590\tbest: 0.1206583 (19796)\ttotal: 1m 28s\tremaining: 892ms\n",
      "19999:\tlearn: 0.0858675\ttest: 0.1206178\tbest: 0.1206178 (19999)\ttotal: 1m 29s\tremaining: 0us\n",
      "\n",
      "bestTest = 0.1206178211\n",
      "bestIteration = 19999\n",
      "\n",
      "==================================================\n",
      "Learning rate set to 0.014112\n",
      "0:\tlearn: 0.4200712\ttest: 0.4235721\tbest: 0.4235721 (0)\ttotal: 5.99ms\tremaining: 1m 59s\n",
      "200:\tlearn: 0.2267665\ttest: 0.2302270\tbest: 0.2302270 (200)\ttotal: 961ms\tremaining: 1m 34s\n",
      "400:\tlearn: 0.1992080\ttest: 0.2029011\tbest: 0.2029011 (400)\ttotal: 1.94s\tremaining: 1m 34s\n",
      "600:\tlearn: 0.1838036\ttest: 0.1875772\tbest: 0.1875772 (600)\ttotal: 2.85s\tremaining: 1m 32s\n",
      "800:\tlearn: 0.1727773\ttest: 0.1765807\tbest: 0.1765807 (800)\ttotal: 3.79s\tremaining: 1m 30s\n",
      "1000:\tlearn: 0.1644924\ttest: 0.1683652\tbest: 0.1683652 (1000)\ttotal: 4.67s\tremaining: 1m 28s\n",
      "1200:\tlearn: 0.1584071\ttest: 0.1624515\tbest: 0.1624515 (1200)\ttotal: 5.6s\tremaining: 1m 27s\n",
      "1400:\tlearn: 0.1535510\ttest: 0.1579570\tbest: 0.1579570 (1400)\ttotal: 6.5s\tremaining: 1m 26s\n",
      "1600:\tlearn: 0.1496064\ttest: 0.1543534\tbest: 0.1543534 (1600)\ttotal: 7.42s\tremaining: 1m 25s\n",
      "1800:\tlearn: 0.1462859\ttest: 0.1513550\tbest: 0.1513550 (1800)\ttotal: 8.28s\tremaining: 1m 23s\n",
      "2000:\tlearn: 0.1434252\ttest: 0.1488110\tbest: 0.1488110 (2000)\ttotal: 9.17s\tremaining: 1m 22s\n",
      "2200:\tlearn: 0.1407713\ttest: 0.1464725\tbest: 0.1464725 (2200)\ttotal: 10s\tremaining: 1m 21s\n",
      "2400:\tlearn: 0.1385615\ttest: 0.1445791\tbest: 0.1445791 (2400)\ttotal: 10.9s\tremaining: 1m 20s\n",
      "2600:\tlearn: 0.1364161\ttest: 0.1427790\tbest: 0.1427790 (2600)\ttotal: 12s\tremaining: 1m 20s\n",
      "2800:\tlearn: 0.1344183\ttest: 0.1411155\tbest: 0.1411155 (2800)\ttotal: 13.1s\tremaining: 1m 20s\n",
      "3000:\tlearn: 0.1325572\ttest: 0.1396681\tbest: 0.1396681 (3000)\ttotal: 14s\tremaining: 1m 19s\n",
      "3200:\tlearn: 0.1308376\ttest: 0.1383353\tbest: 0.1383353 (3200)\ttotal: 14.9s\tremaining: 1m 18s\n",
      "3400:\tlearn: 0.1293648\ttest: 0.1372560\tbest: 0.1372560 (3400)\ttotal: 15.8s\tremaining: 1m 17s\n",
      "3600:\tlearn: 0.1279654\ttest: 0.1362339\tbest: 0.1362339 (3600)\ttotal: 16.7s\tremaining: 1m 15s\n",
      "3800:\tlearn: 0.1266392\ttest: 0.1352807\tbest: 0.1352807 (3800)\ttotal: 17.6s\tremaining: 1m 14s\n",
      "4000:\tlearn: 0.1253687\ttest: 0.1343882\tbest: 0.1343882 (4000)\ttotal: 18.4s\tremaining: 1m 13s\n",
      "4200:\tlearn: 0.1242079\ttest: 0.1336206\tbest: 0.1336206 (4200)\ttotal: 19.3s\tremaining: 1m 12s\n",
      "4400:\tlearn: 0.1231013\ttest: 0.1329343\tbest: 0.1329343 (4400)\ttotal: 20.2s\tremaining: 1m 11s\n",
      "4600:\tlearn: 0.1220321\ttest: 0.1322165\tbest: 0.1322165 (4600)\ttotal: 21.1s\tremaining: 1m 10s\n",
      "4800:\tlearn: 0.1210104\ttest: 0.1315364\tbest: 0.1315364 (4800)\ttotal: 22s\tremaining: 1m 9s\n",
      "5000:\tlearn: 0.1200221\ttest: 0.1308444\tbest: 0.1308444 (5000)\ttotal: 22.8s\tremaining: 1m 8s\n",
      "5200:\tlearn: 0.1191248\ttest: 0.1303081\tbest: 0.1303081 (5200)\ttotal: 23.7s\tremaining: 1m 7s\n",
      "5400:\tlearn: 0.1182511\ttest: 0.1298042\tbest: 0.1298042 (5400)\ttotal: 24.6s\tremaining: 1m 6s\n",
      "5600:\tlearn: 0.1173710\ttest: 0.1292972\tbest: 0.1292957 (5599)\ttotal: 25.5s\tremaining: 1m 5s\n",
      "5800:\tlearn: 0.1165854\ttest: 0.1289130\tbest: 0.1289130 (5800)\ttotal: 26.3s\tremaining: 1m 4s\n",
      "6000:\tlearn: 0.1157900\ttest: 0.1284784\tbest: 0.1284778 (5998)\ttotal: 27.2s\tremaining: 1m 3s\n",
      "6200:\tlearn: 0.1150392\ttest: 0.1280717\tbest: 0.1280717 (6200)\ttotal: 28.1s\tremaining: 1m 2s\n"
     ]
    },
    {
     "name": "stdout",
     "output_type": "stream",
     "text": [
      "6400:\tlearn: 0.1143138\ttest: 0.1276916\tbest: 0.1276916 (6400)\ttotal: 29s\tremaining: 1m 1s\n",
      "6600:\tlearn: 0.1135668\ttest: 0.1273228\tbest: 0.1273228 (6600)\ttotal: 29.8s\tremaining: 1m\n",
      "6800:\tlearn: 0.1128514\ttest: 0.1269765\tbest: 0.1269765 (6800)\ttotal: 30.7s\tremaining: 59.6s\n",
      "7000:\tlearn: 0.1121689\ttest: 0.1266693\tbest: 0.1266693 (7000)\ttotal: 31.6s\tremaining: 58.7s\n",
      "7200:\tlearn: 0.1115107\ttest: 0.1263627\tbest: 0.1263627 (7200)\ttotal: 32.5s\tremaining: 57.7s\n",
      "7400:\tlearn: 0.1108502\ttest: 0.1260342\tbest: 0.1260342 (7400)\ttotal: 33.4s\tremaining: 56.8s\n",
      "7600:\tlearn: 0.1102334\ttest: 0.1257691\tbest: 0.1257691 (7600)\ttotal: 34.3s\tremaining: 55.9s\n",
      "7800:\tlearn: 0.1095960\ttest: 0.1255037\tbest: 0.1255037 (7800)\ttotal: 35.3s\tremaining: 55.2s\n",
      "8000:\tlearn: 0.1089997\ttest: 0.1252269\tbest: 0.1252269 (8000)\ttotal: 36.3s\tremaining: 54.4s\n",
      "8200:\tlearn: 0.1084308\ttest: 0.1249953\tbest: 0.1249953 (8200)\ttotal: 37.2s\tremaining: 53.5s\n",
      "8400:\tlearn: 0.1078646\ttest: 0.1247661\tbest: 0.1247661 (8400)\ttotal: 38.1s\tremaining: 52.6s\n",
      "8600:\tlearn: 0.1073243\ttest: 0.1245362\tbest: 0.1245350 (8599)\ttotal: 39s\tremaining: 51.6s\n",
      "8800:\tlearn: 0.1067883\ttest: 0.1243359\tbest: 0.1243359 (8800)\ttotal: 39.8s\tremaining: 50.7s\n",
      "9000:\tlearn: 0.1062217\ttest: 0.1241135\tbest: 0.1241135 (9000)\ttotal: 40.7s\tremaining: 49.7s\n",
      "9200:\tlearn: 0.1056860\ttest: 0.1238844\tbest: 0.1238844 (9200)\ttotal: 41.6s\tremaining: 48.8s\n",
      "9400:\tlearn: 0.1051589\ttest: 0.1236754\tbest: 0.1236754 (9400)\ttotal: 42.5s\tremaining: 47.9s\n",
      "9600:\tlearn: 0.1046551\ttest: 0.1235041\tbest: 0.1235041 (9600)\ttotal: 43.4s\tremaining: 47s\n",
      "9800:\tlearn: 0.1041375\ttest: 0.1233003\tbest: 0.1233003 (9800)\ttotal: 44.3s\tremaining: 46.1s\n",
      "10000:\tlearn: 0.1036634\ttest: 0.1231381\tbest: 0.1231377 (9999)\ttotal: 45.2s\tremaining: 45.2s\n",
      "10200:\tlearn: 0.1031960\ttest: 0.1229886\tbest: 0.1229886 (10200)\ttotal: 46.1s\tremaining: 44.3s\n",
      "10400:\tlearn: 0.1027134\ttest: 0.1228358\tbest: 0.1228358 (10400)\ttotal: 47s\tremaining: 43.4s\n",
      "10600:\tlearn: 0.1022487\ttest: 0.1226933\tbest: 0.1226933 (10600)\ttotal: 47.9s\tremaining: 42.5s\n",
      "10800:\tlearn: 0.1017995\ttest: 0.1225752\tbest: 0.1225752 (10800)\ttotal: 48.8s\tremaining: 41.6s\n",
      "11000:\tlearn: 0.1013373\ttest: 0.1224365\tbest: 0.1224365 (11000)\ttotal: 49.7s\tremaining: 40.7s\n",
      "11200:\tlearn: 0.1009046\ttest: 0.1223306\tbest: 0.1223302 (11198)\ttotal: 50.6s\tremaining: 39.7s\n",
      "11400:\tlearn: 0.1004580\ttest: 0.1221810\tbest: 0.1221810 (11400)\ttotal: 51.5s\tremaining: 38.8s\n",
      "11600:\tlearn: 0.1000138\ttest: 0.1220471\tbest: 0.1220465 (11599)\ttotal: 52.3s\tremaining: 37.9s\n",
      "11800:\tlearn: 0.0995837\ttest: 0.1219336\tbest: 0.1219336 (11800)\ttotal: 53.2s\tremaining: 37s\n",
      "12000:\tlearn: 0.0991629\ttest: 0.1218110\tbest: 0.1218110 (12000)\ttotal: 54.2s\tremaining: 36.1s\n",
      "12200:\tlearn: 0.0987527\ttest: 0.1217069\tbest: 0.1217047 (12198)\ttotal: 55.1s\tremaining: 35.2s\n",
      "12400:\tlearn: 0.0983355\ttest: 0.1216101\tbest: 0.1216086 (12398)\ttotal: 56s\tremaining: 34.3s\n",
      "12600:\tlearn: 0.0979303\ttest: 0.1214945\tbest: 0.1214945 (12600)\ttotal: 56.8s\tremaining: 33.4s\n",
      "12800:\tlearn: 0.0975246\ttest: 0.1213885\tbest: 0.1213867 (12798)\ttotal: 57.8s\tremaining: 32.5s\n",
      "13000:\tlearn: 0.0971225\ttest: 0.1213004\tbest: 0.1213002 (12994)\ttotal: 58.7s\tremaining: 31.6s\n",
      "13200:\tlearn: 0.0967431\ttest: 0.1212275\tbest: 0.1212275 (13200)\ttotal: 59.7s\tremaining: 30.7s\n",
      "13400:\tlearn: 0.0963599\ttest: 0.1211479\tbest: 0.1211479 (13400)\ttotal: 1m\tremaining: 29.9s\n",
      "13600:\tlearn: 0.0959781\ttest: 0.1210447\tbest: 0.1210446 (13589)\ttotal: 1m 1s\tremaining: 29s\n",
      "13800:\tlearn: 0.0956181\ttest: 0.1209882\tbest: 0.1209867 (13783)\ttotal: 1m 2s\tremaining: 28.1s\n",
      "14000:\tlearn: 0.0952510\ttest: 0.1209070\tbest: 0.1209070 (14000)\ttotal: 1m 3s\tremaining: 27.2s\n",
      "14200:\tlearn: 0.0948880\ttest: 0.1208448\tbest: 0.1208448 (14200)\ttotal: 1m 4s\tremaining: 26.3s\n",
      "14400:\tlearn: 0.0945102\ttest: 0.1207571\tbest: 0.1207571 (14400)\ttotal: 1m 5s\tremaining: 25.4s\n",
      "14600:\tlearn: 0.0941505\ttest: 0.1206968\tbest: 0.1206956 (14587)\ttotal: 1m 6s\tremaining: 24.5s\n",
      "14800:\tlearn: 0.0938129\ttest: 0.1206218\tbest: 0.1206214 (14797)\ttotal: 1m 7s\tremaining: 23.6s\n",
      "15000:\tlearn: 0.0934839\ttest: 0.1205653\tbest: 0.1205653 (15000)\ttotal: 1m 8s\tremaining: 22.7s\n",
      "15200:\tlearn: 0.0931474\ttest: 0.1205241\tbest: 0.1205229 (15184)\ttotal: 1m 9s\tremaining: 21.8s\n",
      "15400:\tlearn: 0.0927884\ttest: 0.1204457\tbest: 0.1204454 (15396)\ttotal: 1m 9s\tremaining: 20.9s\n",
      "15600:\tlearn: 0.0924563\ttest: 0.1204041\tbest: 0.1204041 (15600)\ttotal: 1m 10s\tremaining: 20s\n",
      "15800:\tlearn: 0.0921086\ttest: 0.1203421\tbest: 0.1203421 (15800)\ttotal: 1m 11s\tremaining: 19.1s\n",
      "16000:\tlearn: 0.0917696\ttest: 0.1202909\tbest: 0.1202886 (15953)\ttotal: 1m 12s\tremaining: 18.1s\n",
      "16200:\tlearn: 0.0914389\ttest: 0.1202373\tbest: 0.1202373 (16200)\ttotal: 1m 13s\tremaining: 17.2s\n",
      "16400:\tlearn: 0.0911141\ttest: 0.1202006\tbest: 0.1201979 (16383)\ttotal: 1m 14s\tremaining: 16.3s\n",
      "16600:\tlearn: 0.0907898\ttest: 0.1201696\tbest: 0.1201661 (16579)\ttotal: 1m 15s\tremaining: 15.4s\n",
      "16800:\tlearn: 0.0904785\ttest: 0.1201088\tbest: 0.1201075 (16794)\ttotal: 1m 16s\tremaining: 14.5s\n",
      "17000:\tlearn: 0.0901785\ttest: 0.1200641\tbest: 0.1200641 (17000)\ttotal: 1m 17s\tremaining: 13.6s\n",
      "17200:\tlearn: 0.0898574\ttest: 0.1200046\tbest: 0.1200040 (17196)\ttotal: 1m 18s\tremaining: 12.7s\n",
      "17400:\tlearn: 0.0895522\ttest: 0.1199679\tbest: 0.1199676 (17399)\ttotal: 1m 18s\tremaining: 11.8s\n",
      "17600:\tlearn: 0.0892450\ttest: 0.1199027\tbest: 0.1199027 (17600)\ttotal: 1m 19s\tremaining: 10.9s\n",
      "17800:\tlearn: 0.0889343\ttest: 0.1198543\tbest: 0.1198513 (17794)\ttotal: 1m 20s\tremaining: 9.99s\n",
      "18000:\tlearn: 0.0886504\ttest: 0.1198179\tbest: 0.1198159 (17998)\ttotal: 1m 21s\tremaining: 9.08s\n",
      "18200:\tlearn: 0.0883461\ttest: 0.1197782\tbest: 0.1197782 (18200)\ttotal: 1m 22s\tremaining: 8.17s\n",
      "18400:\tlearn: 0.0880373\ttest: 0.1197089\tbest: 0.1197089 (18400)\ttotal: 1m 23s\tremaining: 7.26s\n",
      "18600:\tlearn: 0.0877466\ttest: 0.1196763\tbest: 0.1196745 (18578)\ttotal: 1m 24s\tremaining: 6.35s\n",
      "18800:\tlearn: 0.0874531\ttest: 0.1196442\tbest: 0.1196436 (18798)\ttotal: 1m 25s\tremaining: 5.44s\n",
      "19000:\tlearn: 0.0871696\ttest: 0.1196115\tbest: 0.1196110 (18976)\ttotal: 1m 26s\tremaining: 4.53s\n",
      "19200:\tlearn: 0.0868930\ttest: 0.1195802\tbest: 0.1195760 (19176)\ttotal: 1m 27s\tremaining: 3.63s\n",
      "19400:\tlearn: 0.0866138\ttest: 0.1195618\tbest: 0.1195582 (19368)\ttotal: 1m 28s\tremaining: 2.72s\n",
      "19600:\tlearn: 0.0863377\ttest: 0.1195309\tbest: 0.1195309 (19600)\ttotal: 1m 29s\tremaining: 1.81s\n",
      "Stopped by overfitting detector  (100 iterations wait)\n",
      "\n",
      "bestTest = 0.1195269571\n",
      "bestIteration = 19640\n",
      "\n",
      "Shrink model to first 19641 iterations.\n"
     ]
    }
   ],
   "source": [
    "from sklearn.model_selection import train_test_split, KFold\n",
    "scores = []\n",
    "\n",
    "models = []\n",
    "cv = KFold(n_splits=5, shuffle=True, random_state=9)\n",
    "for tri, vai in cv.split(x_train):\n",
    "    print(\"=\"*50)\n",
    "    preds = []\n",
    "\n",
    "    model = CatBoostRegressor(iterations=20000,random_state=9, eval_metric=\"MAPE\")#, task_type=\"GPU\", cat_features=cat_feature) \n",
    "    model.fit(x_train.iloc[tri], y_train.iloc[tri], \n",
    "            eval_set=[(x_train.iloc[vai], y_train.iloc[vai])], \n",
    "            early_stopping_rounds=100,\n",
    "            verbose = 200\n",
    "        )\n",
    "    \n",
    "    models.append(model)\n",
    "    scores.append(model.get_best_score()[\"validation\"][\"MAPE\"])\n",
    "    if False:\n",
    "        break"
   ]
  },
  {
   "cell_type": "code",
   "execution_count": 95,
   "metadata": {
    "id": "DfR_eOuEVcIq"
   },
   "outputs": [
    {
     "data": {
      "text/plain": [
       "3.815968675136543"
      ]
     },
     "execution_count": 95,
     "metadata": {},
     "output_type": "execute_result"
    }
   ],
   "source": [
    "cat_pred = model.predict(x_test)\n",
    "\n",
    "mean_absolute_error(y_test, cat_pred)"
   ]
  },
  {
   "cell_type": "code",
   "execution_count": 96,
   "metadata": {
    "id": "I9nZ-a5GVcIq"
   },
   "outputs": [
    {
     "data": {
      "text/plain": [
       "Text(0.5, 1.0, 'Feature Importance')"
      ]
     },
     "execution_count": 96,
     "metadata": {},
     "output_type": "execute_result"
    },
    {
     "data": {
      "image/png": "[encoded data removed]",
      "text/plain": [
       "<Figure size 1200x600 with 1 Axes>"
      ]
     },
     "metadata": {},
     "output_type": "display_data"
    }
   ],
   "source": [
    "feature_importance = catcl.feature_importances_\n",
    "sorted_idx = np.argsort(feature_importance)\n",
    "fig = plt.figure(figsize=(12, 6))\n",
    "plt.barh(range(len(sorted_idx)), feature_importance[sorted_idx], align='center')\n",
    "plt.yticks(range(len(sorted_idx)), np.array(x_train.columns)[sorted_idx])\n",
    "plt.title('Feature Importance')"
   ]
  },
  {
   "cell_type": "code",
   "execution_count": 97,
   "metadata": {
    "id": "2u_8s63eVcIq"
   },
   "outputs": [],
   "source": [
    "from ngboost import NGBRegressor"
   ]
  },
  {
   "cell_type": "code",
   "execution_count": 98,
   "metadata": {
    "id": "aZ_1EWV3VcIq"
   },
   "outputs": [],
   "source": [
    "ngb = NGBRegressor()"
   ]
  },
  {
   "cell_type": "code",
   "execution_count": 99,
   "metadata": {
    "id": "ib799vqNVcIq"
   },
   "outputs": [
    {
     "name": "stdout",
     "output_type": "stream",
     "text": [
      "[iter 0] loss=4.1914 val_loss=0.0000 scale=1.0000 norm=13.2761\n",
      "[iter 100] loss=3.8923 val_loss=0.0000 scale=2.0000 norm=19.2889\n",
      "[iter 200] loss=3.7250 val_loss=0.0000 scale=1.0000 norm=8.1677\n",
      "[iter 300] loss=3.6289 val_loss=0.0000 scale=1.0000 norm=7.5250\n",
      "[iter 400] loss=3.5721 val_loss=0.0000 scale=1.0000 norm=7.1769\n"
     ]
    },
    {
     "data": {
      "text/plain": [
       "NGBRegressor(random_state=RandomState(MT19937) at 0x2460353F9D8)"
      ]
     },
     "execution_count": 99,
     "metadata": {},
     "output_type": "execute_result"
    }
   ],
   "source": [
    "ngb.fit(x_train, y_train)"
   ]
  },
  {
   "cell_type": "code",
   "execution_count": 101,
   "metadata": {
    "id": "U0t15X9aVcIq"
   },
   "outputs": [
    {
     "data": {
      "text/plain": [
       "6.8715242641953695"
      ]
     },
     "execution_count": 101,
     "metadata": {},
     "output_type": "execute_result"
    }
   ],
   "source": [
    "ngb_pred = ngb.predict(x_test)\n",
    "\n",
    "mean_absolute_error(y_test, ngb_pred)"
   ]
  },
  {
   "cell_type": "markdown",
   "metadata": {
    "id": "iaGQlxaPVcIr"
   },
   "source": [
    "### xgb"
   ]
  },
  {
   "cell_type": "code",
   "execution_count": 103,
   "metadata": {
    "id": "xqkygcieVcIr"
   },
   "outputs": [],
   "source": [
    "import xgboost as xgb\n",
    "xgbR=xgb.XGBRegressor( n_jobs=-1)#, tree_method=\"gpu_hist\")"
   ]
  },
  {
   "cell_type": "code",
   "execution_count": 104,
   "metadata": {
    "id": "3FI57SK5VcIr"
   },
   "outputs": [
    {
     "data": {
      "text/plain": [
       "XGBRegressor(base_score=0.5, booster='gbtree', callbacks=None,\n",
       "             colsample_bylevel=1, colsample_bynode=1, colsample_bytree=1,\n",
       "             early_stopping_rounds=None, enable_categorical=False,\n",
       "             eval_metric=None, gamma=0, gpu_id=-1, grow_policy='depthwise',\n",
       "             importance_type=None, interaction_constraints='',\n",
       "             learning_rate=0.300000012, max_bin=256, max_cat_to_onehot=4,\n",
       "             max_delta_step=0, max_depth=6, max_leaves=0, min_child_weight=1,\n",
       "             missing=nan, monotone_constraints='()', n_estimators=100,\n",
       "             n_jobs=-1, num_parallel_tree=1, predictor='auto', random_state=0,\n",
       "             reg_alpha=0, reg_lambda=1, ...)"
      ]
     },
     "execution_count": 104,
     "metadata": {},
     "output_type": "execute_result"
    }
   ],
   "source": [
    "xgbR.fit(x_train, y_train)"
   ]
  },
  {
   "cell_type": "code",
   "execution_count": 105,
   "metadata": {
    "id": "nLRcdEcIVcIr"
   },
   "outputs": [
    {
     "data": {
      "text/plain": [
       "3.447983474123478"
      ]
     },
     "execution_count": 105,
     "metadata": {},
     "output_type": "execute_result"
    }
   ],
   "source": [
    "xgbR_pred = xgbR.predict(x_train)\n",
    "\n",
    "mean_absolute_error(y_train, xgbR_pred)"
   ]
  },
  {
   "cell_type": "code",
   "execution_count": 109,
   "metadata": {
    "id": "pJQXZzsnVcIr"
   },
   "outputs": [],
   "source": [
    "import xgboost as xgb\n",
    "import optuna\n",
    "\n",
    "def objective(trial):\n",
    "    \n",
    "    train_x, test_x, train_y, test_y = train_test_split(x_encoding, y_encoding, test_size=0.2, random_state=9)\n",
    "    param = {\n",
    "        'eval_metric': 'rmse',\n",
    "        #'tree_method':'gpu_hist',\n",
    "        #'predictor':'gpu_predictor',\n",
    "        #'enable_categorical': 'True',\n",
    "        \"max_depth\": trial.suggest_int(\"max_depth\", 2, 30),\n",
    "        \"learning_rate\": trial.suggest_uniform('learning_rate', 0.0001, 0.99),\n",
    "        'n_estimators': 500,\n",
    "        \"colsample_bytree\": trial.suggest_float(\"colsample_bytree\", 0.3, 1.0),\n",
    "        \"colsample_bylevel\": trial.suggest_float(\"colsample_bylevel\", 0.3, 1.0),\n",
    "        \"colsample_bynode\": trial.suggest_float(\"colsample_bynode\", 0.3, 1.0),\n",
    "        \"reg_lambda\": trial.suggest_loguniform(\"reg_lambda\", 1e-2, 1),\n",
    "        \"reg_alpha\": trial.suggest_loguniform(\"reg_alpha\", 1e-2, 1),\n",
    "        'subsample': trial.suggest_discrete_uniform('subsample', 0.6, 1.0, 0.05),     \n",
    "        'min_child_weight': trial.suggest_int('min_child_weight', 2, 128),\n",
    "        \"gamma\": trial.suggest_float(\"gamma\", 0.1, 1.0, log=True),\n",
    "        # 'num_parallel_tree': trial.suggest_int(\"num_parallel_tree\", 1, 500) 추가하면 느려짐.\n",
    "        'n_jobs': '-1'\n",
    "    }\n",
    "    model = xgb.XGBRegressor(**param)  \n",
    "    \n",
    "    model.fit(train_x,train_y,eval_set=[(test_x,test_y)],early_stopping_rounds=120,verbose=100)\n",
    "    \n",
    "    preds = model.predict(test_x)\n",
    "    # squared=False면 rmse 반환\n",
    "    rmse = mean_squared_error(test_y, preds,squared=False)\n",
    "    \n",
    "    return rmse"
   ]
  },
  {
   "cell_type": "code",
   "execution_count": 110,
   "metadata": {
    "id": "2zZvcjJMVcIr",
    "scrolled": true
   },
   "outputs": [
    {
     "name": "stderr",
     "output_type": "stream",
     "text": [
      "\u001b[32m[I 2022-11-21 16:41:43,219]\u001b[0m A new study created in memory with name: no-name-8ceddb24-c3d9-4d73-8994-d9a49162d705\u001b[0m\n"
     ]
    },
    {
     "name": "stdout",
     "output_type": "stream",
     "text": [
      "[0]\tvalidation_0-rmse:19.37455\n",
      "[100]\tvalidation_0-rmse:6.02785\n",
      "[200]\tvalidation_0-rmse:5.80499\n",
      "[300]\tvalidation_0-rmse:5.76744\n",
      "[400]\tvalidation_0-rmse:5.74937\n",
      "[499]\tvalidation_0-rmse:5.72778\n"
     ]
    },
    {
     "name": "stderr",
     "output_type": "stream",
     "text": [
      "\u001b[32m[I 2022-11-21 16:41:46,148]\u001b[0m Trial 0 finished with value: 5.72777968732942 and parameters: {'max_depth': 4, 'learning_rate': 0.6443618768676314, 'colsample_bytree': 0.8547033171971303, 'colsample_bylevel': 0.597313946005657, 'colsample_bynode': 0.4599656103964078, 'reg_lambda': 0.15356267583742284, 'reg_alpha': 0.2031653246285643, 'subsample': 0.6, 'min_child_weight': 44, 'gamma': 0.1779416726170944}. Best is trial 0 with value: 5.72777968732942.\u001b[0m\n"
     ]
    },
    {
     "name": "stdout",
     "output_type": "stream",
     "text": [
      "[0]\tvalidation_0-rmse:38.05084\n",
      "[100]\tvalidation_0-rmse:6.38692\n",
      "[200]\tvalidation_0-rmse:5.98623\n",
      "[300]\tvalidation_0-rmse:5.84790\n",
      "[400]\tvalidation_0-rmse:5.71018\n",
      "[499]\tvalidation_0-rmse:5.64205\n"
     ]
    },
    {
     "name": "stderr",
     "output_type": "stream",
     "text": [
      "\u001b[32m[I 2022-11-21 16:41:49,314]\u001b[0m Trial 1 finished with value: 5.642048644528307 and parameters: {'max_depth': 28, 'learning_rate': 0.1833243530646681, 'colsample_bytree': 0.4383554269849113, 'colsample_bylevel': 0.36544789623157936, 'colsample_bynode': 0.41625987189904057, 'reg_lambda': 0.02056332713768481, 'reg_alpha': 0.19827990722110467, 'subsample': 0.85, 'min_child_weight': 66, 'gamma': 0.15304289739607838}. Best is trial 1 with value: 5.642048644528307.\u001b[0m\n"
     ]
    },
    {
     "name": "stdout",
     "output_type": "stream",
     "text": [
      "[0]\tvalidation_0-rmse:24.33259\n",
      "[100]\tvalidation_0-rmse:5.70025\n",
      "[155]\tvalidation_0-rmse:5.79524\n"
     ]
    },
    {
     "name": "stderr",
     "output_type": "stream",
     "text": [
      "\u001b[32m[I 2022-11-21 16:41:52,925]\u001b[0m Trial 2 finished with value: 5.517662776266832 and parameters: {'max_depth': 24, 'learning_rate': 0.4873762638629911, 'colsample_bytree': 0.6732739234003494, 'colsample_bylevel': 0.9170480008046504, 'colsample_bynode': 0.7881233219762642, 'reg_lambda': 0.9212156074791437, 'reg_alpha': 0.13614666605879577, 'subsample': 0.8, 'min_child_weight': 91, 'gamma': 0.5084156075028892}. Best is trial 2 with value: 5.517662776266832.\u001b[0m\n"
     ]
    },
    {
     "name": "stdout",
     "output_type": "stream",
     "text": [
      "[0]\tvalidation_0-rmse:44.98874\n",
      "[100]\tvalidation_0-rmse:18.50005\n",
      "[200]\tvalidation_0-rmse:9.49288\n",
      "[300]\tvalidation_0-rmse:6.97814\n",
      "[400]\tvalidation_0-rmse:6.28177\n",
      "[499]\tvalidation_0-rmse:6.02451\n"
     ]
    },
    {
     "name": "stderr",
     "output_type": "stream",
     "text": [
      "\u001b[32m[I 2022-11-21 16:41:59,941]\u001b[0m Trial 3 finished with value: 6.024510298926118 and parameters: {'max_depth': 22, 'learning_rate': 0.009839260653344199, 'colsample_bytree': 0.7687989510719591, 'colsample_bylevel': 0.4309032977229297, 'colsample_bynode': 0.37298156067791755, 'reg_lambda': 0.6308912515492222, 'reg_alpha': 0.13750475578120952, 'subsample': 0.8, 'min_child_weight': 111, 'gamma': 0.10673668568638499}. Best is trial 2 with value: 5.517662776266832.\u001b[0m\n"
     ]
    },
    {
     "name": "stdout",
     "output_type": "stream",
     "text": [
      "[0]\tvalidation_0-rmse:12.40954\n",
      "[100]\tvalidation_0-rmse:6.31195\n",
      "[130]\tvalidation_0-rmse:6.39358\n"
     ]
    },
    {
     "name": "stderr",
     "output_type": "stream",
     "text": [
      "\u001b[32m[I 2022-11-21 16:42:02,981]\u001b[0m Trial 4 finished with value: 5.785785364889174 and parameters: {'max_depth': 18, 'learning_rate': 0.7785432987270283, 'colsample_bytree': 0.5423927840293619, 'colsample_bylevel': 0.5651146756568146, 'colsample_bynode': 0.9533707093188191, 'reg_lambda': 0.6499492296944491, 'reg_alpha': 0.09642183274573915, 'subsample': 0.85, 'min_child_weight': 41, 'gamma': 0.1680247980985922}. Best is trial 2 with value: 5.517662776266832.\u001b[0m\n"
     ]
    },
    {
     "name": "stdout",
     "output_type": "stream",
     "text": [
      "[0]\tvalidation_0-rmse:19.41019\n",
      "[100]\tvalidation_0-rmse:6.12268\n",
      "[129]\tvalidation_0-rmse:6.21899\n"
     ]
    },
    {
     "name": "stderr",
     "output_type": "stream",
     "text": [
      "\u001b[32m[I 2022-11-21 16:42:04,923]\u001b[0m Trial 5 finished with value: 5.6923585557903245 and parameters: {'max_depth': 11, 'learning_rate': 0.6144030328435971, 'colsample_bytree': 0.9588133484563155, 'colsample_bylevel': 0.4461814340746487, 'colsample_bynode': 0.4859736522798703, 'reg_lambda': 0.29584775990314527, 'reg_alpha': 0.011232956633471852, 'subsample': 0.8, 'min_child_weight': 5, 'gamma': 0.846126400390852}. Best is trial 2 with value: 5.517662776266832.\u001b[0m\n"
     ]
    },
    {
     "name": "stdout",
     "output_type": "stream",
     "text": [
      "[0]\tvalidation_0-rmse:39.79768\n",
      "[100]\tvalidation_0-rmse:5.55146\n",
      "[200]\tvalidation_0-rmse:5.40514\n",
      "[300]\tvalidation_0-rmse:5.36679\n",
      "[400]\tvalidation_0-rmse:5.35420\n",
      "[499]\tvalidation_0-rmse:5.35318\n"
     ]
    },
    {
     "name": "stderr",
     "output_type": "stream",
     "text": [
      "\u001b[32m[I 2022-11-21 16:42:12,580]\u001b[0m Trial 6 finished with value: 5.3502313021948344 and parameters: {'max_depth': 16, 'learning_rate': 0.1301254839025431, 'colsample_bytree': 0.6154343035414626, 'colsample_bylevel': 0.7641496770780035, 'colsample_bynode': 0.3303859102939399, 'reg_lambda': 0.10332478691203723, 'reg_alpha': 0.09223635930309049, 'subsample': 0.65, 'min_child_weight': 105, 'gamma': 0.672966311188589}. Best is trial 6 with value: 5.3502313021948344.\u001b[0m\n"
     ]
    },
    {
     "name": "stdout",
     "output_type": "stream",
     "text": [
      "[0]\tvalidation_0-rmse:24.97255\n",
      "[100]\tvalidation_0-rmse:5.54950\n",
      "[165]\tvalidation_0-rmse:5.62434\n"
     ]
    },
    {
     "name": "stderr",
     "output_type": "stream",
     "text": [
      "\u001b[32m[I 2022-11-21 16:42:14,721]\u001b[0m Trial 7 finished with value: 5.472214534176608 and parameters: {'max_depth': 12, 'learning_rate': 0.4740460646091679, 'colsample_bytree': 0.5939142451036223, 'colsample_bylevel': 0.47829537065030714, 'colsample_bynode': 0.5493446278736551, 'reg_lambda': 0.048450887929633285, 'reg_alpha': 0.5410527188744331, 'subsample': 0.9, 'min_child_weight': 42, 'gamma': 0.4779415431628278}. Best is trial 6 with value: 5.3502313021948344.\u001b[0m\n"
     ]
    },
    {
     "name": "stdout",
     "output_type": "stream",
     "text": [
      "[0]\tvalidation_0-rmse:29.21577\n",
      "[100]\tvalidation_0-rmse:5.46978\n",
      "[168]\tvalidation_0-rmse:5.53842\n"
     ]
    },
    {
     "name": "stderr",
     "output_type": "stream",
     "text": [
      "\u001b[32m[I 2022-11-21 16:42:17,859]\u001b[0m Trial 8 finished with value: 5.43045751026563 and parameters: {'max_depth': 25, 'learning_rate': 0.3716720817003068, 'colsample_bytree': 0.6659453321631967, 'colsample_bylevel': 0.3144553465730754, 'colsample_bynode': 0.7428257626548365, 'reg_lambda': 0.03565583126721831, 'reg_alpha': 0.05480565402963139, 'subsample': 0.95, 'min_child_weight': 84, 'gamma': 0.4968726961568082}. Best is trial 6 with value: 5.3502313021948344.\u001b[0m\n"
     ]
    },
    {
     "name": "stdout",
     "output_type": "stream",
     "text": [
      "[0]\tvalidation_0-rmse:20.29460\n",
      "[100]\tvalidation_0-rmse:5.80663\n",
      "[152]\tvalidation_0-rmse:5.90593\n"
     ]
    },
    {
     "name": "stderr",
     "output_type": "stream",
     "text": [
      "\u001b[32m[I 2022-11-21 16:42:21,498]\u001b[0m Trial 9 finished with value: 5.681258553673166 and parameters: {'max_depth': 21, 'learning_rate': 0.5838813283179781, 'colsample_bytree': 0.6689469217596921, 'colsample_bylevel': 0.9660405344645517, 'colsample_bynode': 0.9760094111436268, 'reg_lambda': 0.01535220404530663, 'reg_alpha': 0.11389043896833806, 'subsample': 0.7, 'min_child_weight': 122, 'gamma': 0.3825741822322438}. Best is trial 6 with value: 5.3502313021948344.\u001b[0m\n"
     ]
    },
    {
     "name": "stdout",
     "output_type": "stream",
     "text": [
      "[0]\tvalidation_0-rmse:36.99898\n",
      "[100]\tvalidation_0-rmse:8.98520\n",
      "[200]\tvalidation_0-rmse:8.16929\n",
      "[300]\tvalidation_0-rmse:7.76868\n",
      "[400]\tvalidation_0-rmse:7.51091\n",
      "[499]\tvalidation_0-rmse:7.32628\n"
     ]
    },
    {
     "name": "stderr",
     "output_type": "stream",
     "text": [
      "\u001b[32m[I 2022-11-21 16:42:23,912]\u001b[0m Trial 10 finished with value: 7.326280646423267 and parameters: {'max_depth': 2, 'learning_rate': 0.2108375373953688, 'colsample_bytree': 0.3151231157859163, 'colsample_bylevel': 0.8066616491082705, 'colsample_bynode': 0.3155930863634944, 'reg_lambda': 0.11207631823337039, 'reg_alpha': 0.025385573142317132, 'subsample': 0.6, 'min_child_weight': 96, 'gamma': 0.9787101973472362}. Best is trial 6 with value: 5.3502313021948344.\u001b[0m\n"
     ]
    },
    {
     "name": "stdout",
     "output_type": "stream",
     "text": [
      "[0]\tvalidation_0-rmse:32.06388\n",
      "[100]\tvalidation_0-rmse:5.39953\n",
      "[165]\tvalidation_0-rmse:5.46093\n"
     ]
    },
    {
     "name": "stderr",
     "output_type": "stream",
     "text": [
      "\u001b[32m[I 2022-11-21 16:42:27,683]\u001b[0m Trial 11 finished with value: 5.323365956962113 and parameters: {'max_depth': 30, 'learning_rate': 0.3041172858070025, 'colsample_bytree': 0.50914697478058, 'colsample_bylevel': 0.7514115708695837, 'colsample_bynode': 0.7016494832249646, 'reg_lambda': 0.043772884349013344, 'reg_alpha': 0.041004017756752775, 'subsample': 1.0, 'min_child_weight': 78, 'gamma': 0.6658935565215419}. Best is trial 11 with value: 5.323365956962113.\u001b[0m\n"
     ]
    },
    {
     "name": "stdout",
     "output_type": "stream",
     "text": [
      "[0]\tvalidation_0-rmse:45.21922\n",
      "[100]\tvalidation_0-rmse:29.56487\n",
      "[200]\tvalidation_0-rmse:19.67437\n",
      "[300]\tvalidation_0-rmse:13.54426\n",
      "[400]\tvalidation_0-rmse:9.88446\n",
      "[499]\tvalidation_0-rmse:7.80836\n"
     ]
    },
    {
     "name": "stderr",
     "output_type": "stream",
     "text": [
      "\u001b[32m[I 2022-11-21 16:42:35,700]\u001b[0m Trial 12 finished with value: 7.808355729576687 and parameters: {'max_depth': 30, 'learning_rate': 0.004436987293495731, 'colsample_bytree': 0.47629920869704734, 'colsample_bylevel': 0.7484903860032408, 'colsample_bynode': 0.645787574913234, 'reg_lambda': 0.05690801710114662, 'reg_alpha': 0.03346744202926111, 'subsample': 1.0, 'min_child_weight': 69, 'gamma': 0.6407781029649174}. Best is trial 11 with value: 5.323365956962113.\u001b[0m\n"
     ]
    },
    {
     "name": "stdout",
     "output_type": "stream",
     "text": [
      "[0]\tvalidation_0-rmse:34.53473\n",
      "[100]\tvalidation_0-rmse:5.48692\n",
      "[200]\tvalidation_0-rmse:5.41953\n",
      "[300]\tvalidation_0-rmse:5.42957\n",
      "[350]\tvalidation_0-rmse:5.44215\n"
     ]
    },
    {
     "name": "stderr",
     "output_type": "stream",
     "text": [
      "\u001b[32m[I 2022-11-21 16:42:40,432]\u001b[0m Trial 13 finished with value: 5.415694554293229 and parameters: {'max_depth': 14, 'learning_rate': 0.25188466473640087, 'colsample_bytree': 0.3765173717937237, 'colsample_bylevel': 0.7210808197498131, 'colsample_bynode': 0.617783779612103, 'reg_lambda': 0.20016783812211766, 'reg_alpha': 0.47767590586244435, 'subsample': 0.7, 'min_child_weight': 105, 'gamma': 0.27505569165706767}. Best is trial 11 with value: 5.323365956962113.\u001b[0m\n"
     ]
    },
    {
     "name": "stdout",
     "output_type": "stream",
     "text": [
      "[0]\tvalidation_0-rmse:30.78987\n",
      "[100]\tvalidation_0-rmse:5.57131\n",
      "[200]\tvalidation_0-rmse:5.48027\n",
      "[300]\tvalidation_0-rmse:5.46537\n",
      "[400]\tvalidation_0-rmse:5.47324\n",
      "[467]\tvalidation_0-rmse:5.47982\n"
     ]
    },
    {
     "name": "stderr",
     "output_type": "stream",
     "text": [
      "\u001b[32m[I 2022-11-21 16:42:45,063]\u001b[0m Trial 14 finished with value: 5.455556948032832 and parameters: {'max_depth': 8, 'learning_rate': 0.3381365393205502, 'colsample_bytree': 0.5085359215308983, 'colsample_bylevel': 0.852866764297466, 'colsample_bynode': 0.8073572175078347, 'reg_lambda': 0.0657268021928819, 'reg_alpha': 0.04832181764282991, 'subsample': 0.7, 'min_child_weight': 123, 'gamma': 0.6854144629665683}. Best is trial 11 with value: 5.323365956962113.\u001b[0m\n"
     ]
    },
    {
     "name": "stdout",
     "output_type": "stream",
     "text": [
      "[0]\tvalidation_0-rmse:40.80578\n",
      "[100]\tvalidation_0-rmse:5.28767\n",
      "[200]\tvalidation_0-rmse:5.24302\n",
      "[300]\tvalidation_0-rmse:5.25389\n",
      "[333]\tvalidation_0-rmse:5.26680\n"
     ]
    },
    {
     "name": "stderr",
     "output_type": "stream",
     "text": [
      "\u001b[32m[I 2022-11-21 16:42:50,934]\u001b[0m Trial 15 finished with value: 5.240079931757308 and parameters: {'max_depth': 18, 'learning_rate': 0.10458164576834184, 'colsample_bytree': 0.7795656535986142, 'colsample_bylevel': 0.67431422304976, 'colsample_bynode': 0.7086506913177681, 'reg_lambda': 0.027151996556925864, 'reg_alpha': 0.01803581477389336, 'subsample': 1.0, 'min_child_weight': 79, 'gamma': 0.2922804050903445}. Best is trial 15 with value: 5.240079931757308.\u001b[0m\n"
     ]
    },
    {
     "name": "stdout",
     "output_type": "stream",
     "text": [
      "[0]\tvalidation_0-rmse:8.36163\n",
      "[100]\tvalidation_0-rmse:6.33039\n",
      "[132]\tvalidation_0-rmse:6.41288\n"
     ]
    },
    {
     "name": "stderr",
     "output_type": "stream",
     "text": [
      "\u001b[32m[I 2022-11-21 16:42:53,883]\u001b[0m Trial 16 finished with value: 5.925882112130938 and parameters: {'max_depth': 19, 'learning_rate': 0.900514940916308, 'colsample_bytree': 0.7616462896915343, 'colsample_bylevel': 0.6601589217870198, 'colsample_bynode': 0.8666331401990258, 'reg_lambda': 0.010540996120121288, 'reg_alpha': 0.014297165821230048, 'subsample': 1.0, 'min_child_weight': 77, 'gamma': 0.2695024837782803}. Best is trial 15 with value: 5.240079931757308.\u001b[0m\n"
     ]
    },
    {
     "name": "stdout",
     "output_type": "stream",
     "text": [
      "[0]\tvalidation_0-rmse:29.51595\n",
      "[100]\tvalidation_0-rmse:5.59398\n",
      "[146]\tvalidation_0-rmse:5.66086\n"
     ]
    },
    {
     "name": "stderr",
     "output_type": "stream",
     "text": [
      "\u001b[32m[I 2022-11-21 16:42:58,052]\u001b[0m Trial 17 finished with value: 5.401330452978368 and parameters: {'max_depth': 27, 'learning_rate': 0.361111364217844, 'colsample_bytree': 0.8939087440631641, 'colsample_bylevel': 0.6625897471566108, 'colsample_bynode': 0.7177565329961828, 'reg_lambda': 0.02951714495702335, 'reg_alpha': 0.018066869959208746, 'subsample': 0.95, 'min_child_weight': 56, 'gamma': 0.35745378140395645}. Best is trial 15 with value: 5.240079931757308.\u001b[0m\n"
     ]
    },
    {
     "name": "stdout",
     "output_type": "stream",
     "text": [
      "[0]\tvalidation_0-rmse:43.11961\n",
      "[100]\tvalidation_0-rmse:5.74708\n",
      "[200]\tvalidation_0-rmse:5.44069\n",
      "[300]\tvalidation_0-rmse:5.32635\n",
      "[400]\tvalidation_0-rmse:5.26456\n",
      "[499]\tvalidation_0-rmse:5.23140\n"
     ]
    },
    {
     "name": "stderr",
     "output_type": "stream",
     "text": [
      "\u001b[32m[I 2022-11-21 16:43:03,142]\u001b[0m Trial 18 finished with value: 5.231399017814562 and parameters: {'max_depth': 8, 'learning_rate': 0.05247391376697802, 'colsample_bytree': 0.8004506306159268, 'colsample_bylevel': 0.5548682982823542, 'colsample_bynode': 0.5750684953445468, 'reg_lambda': 0.023699970275604772, 'reg_alpha': 0.026365042517537025, 'subsample': 0.95, 'min_child_weight': 5, 'gamma': 0.22733670754104243}. Best is trial 18 with value: 5.231399017814562.\u001b[0m\n"
     ]
    },
    {
     "name": "stdout",
     "output_type": "stream",
     "text": [
      "[0]\tvalidation_0-rmse:41.26188\n",
      "[100]\tvalidation_0-rmse:5.79207\n",
      "[200]\tvalidation_0-rmse:5.46792\n",
      "[300]\tvalidation_0-rmse:5.35429\n",
      "[400]\tvalidation_0-rmse:5.29153\n",
      "[499]\tvalidation_0-rmse:5.27409\n"
     ]
    },
    {
     "name": "stderr",
     "output_type": "stream",
     "text": [
      "\u001b[32m[I 2022-11-21 16:43:07,538]\u001b[0m Trial 19 finished with value: 5.273337754599907 and parameters: {'max_depth': 7, 'learning_rate': 0.09641659985578016, 'colsample_bytree': 0.766583914838648, 'colsample_bylevel': 0.5324816474009655, 'colsample_bynode': 0.5611723068624547, 'reg_lambda': 0.02061975242659782, 'reg_alpha': 0.025351601707340674, 'subsample': 0.9, 'min_child_weight': 4, 'gamma': 0.23136110340539662}. Best is trial 18 with value: 5.231399017814562.\u001b[0m\n"
     ]
    },
    {
     "name": "stdout",
     "output_type": "stream",
     "text": [
      "Number of finished trials: 20\n",
      "Best trial: {'max_depth': 8, 'learning_rate': 0.05247391376697802, 'colsample_bytree': 0.8004506306159268, 'colsample_bylevel': 0.5548682982823542, 'colsample_bynode': 0.5750684953445468, 'reg_lambda': 0.023699970275604772, 'reg_alpha': 0.026365042517537025, 'subsample': 0.95, 'min_child_weight': 5, 'gamma': 0.22733670754104243}\n"
     ]
    }
   ],
   "source": [
    "study = optuna.create_study(direction='minimize')\n",
    "study.optimize(objective, n_trials=20)\n",
    "print('Number of finished trials:', len(study.trials))\n",
    "print('Best trial:', study.best_trial.params)"
   ]
  },
  {
   "cell_type": "code",
   "execution_count": null,
   "metadata": {
    "id": "FXabl008zMHd"
   },
   "outputs": [],
   "source": [
    "optuna.visualization.plot_optimization_history(study)"
   ]
  },
  {
   "cell_type": "code",
   "execution_count": null,
   "metadata": {
    "id": "JN_Cbd-ozPmL"
   },
   "outputs": [],
   "source": [
    "optuna.visualization.plot_param_importances(study)"
   ]
  },
  {
   "cell_type": "code",
   "execution_count": null,
   "metadata": {
    "id": "wuLEHXMiK0cN"
   },
   "outputs": [],
   "source": [
    "study.best_params"
   ]
  },
  {
   "cell_type": "code",
   "execution_count": null,
   "metadata": {
    "id": "_MIiL0nyHeMv"
   },
   "outputs": [],
   "source": [
    "xgbR = xgb.XGBRegressor(**study.best_trial.params, n_estimators=2500)"
   ]
  },
  {
   "cell_type": "code",
   "execution_count": null,
   "metadata": {
    "id": "kU4UoMAyHPPB"
   },
   "outputs": [],
   "source": [
    "xgbR.fit(x_train, y_train, eval_set=[(x_test ,y_test)], early_stopping_rounds=220, eval_metric='mae')"
   ]
  },
  {
   "cell_type": "code",
   "execution_count": null,
   "metadata": {
    "id": "QNZtrQH3gPSo"
   },
   "outputs": [],
   "source": [
    "xgb_pred = xgbR.predict(x_encoding)\n",
    "\n",
    "\n",
    "print('MAE: {}'.format(mean_absolute_error(y_encoding, xgb_pred)))\n",
    "print('r2_score: {}'.format(r2_score(y_encoding, xgb_pred)))"
   ]
  },
  {
   "cell_type": "code",
   "execution_count": null,
   "metadata": {
    "id": "G4Bgvpewfsl2"
   },
   "outputs": [],
   "source": [
    "xgb_tune_submit_pred = xgbR.predict(test2)"
   ]
  },
  {
   "cell_type": "code",
   "execution_count": null,
   "metadata": {
    "id": "r3YEV607dxSm"
   },
   "outputs": [],
   "source": [
    "#y_pred2 = rftest\n",
    "y_pred2 = xgb_tune_submit_pred\n",
    "y_pred2 = pd.DataFrame(y_pred2)\n",
    "y_pred2.columns = ['target']\n",
    "sample_submission = pd.read_csv('/content/drive/MyDrive/MYJ/open/sample_submission.csv')\n",
    "sample_submission.drop('target', axis=1, inplace=True)\n",
    "sub = pd.concat([sample_submission, y_pred2], axis=1)"
   ]
  },
  {
   "cell_type": "code",
   "execution_count": null,
   "metadata": {
    "id": "d1mbQxNQ51ze"
   },
   "outputs": [],
   "source": [
    "print(sub.isnull().sum())\n",
    "print(sub.head())"
   ]
  },
  {
   "cell_type": "code",
   "execution_count": null,
   "metadata": {
    "id": "HZuMGDQt56Ew"
   },
   "outputs": [],
   "source": [
    "sub.to_csv(\"xgb.csv\", index = False)"
   ]
  },
  {
   "cell_type": "markdown",
   "metadata": {
    "id": "oP8Llb__En3C"
   },
   "source": [
    "### LGBM"
   ]
  },
  {
   "cell_type": "code",
   "execution_count": 125,
   "metadata": {
    "id": "pRxfA5VRVcIs"
   },
   "outputs": [],
   "source": [
    "def RMSE(y, y_pred):\n",
    "    rmse = mean_squared_error(y, y_pred) ** 0.5\n",
    "    return rmse\n",
    "\n",
    "random_state=9\n",
    "np.random.seed(9)\n",
    "\n",
    "def objective(trial):\n",
    "\n",
    "    train_x, test_x, train_y, test_y = train_test_split(x_encoding, y_encoding, random_state=random_state, test_size=0.2)\n",
    "    dtrain = lgb.Dataset(train_x, label=train_y)\n",
    "    dval = lgb.Dataset(test_x, label=test_y)\n",
    "    params = {\n",
    "        'objective': 'regression',\n",
    "        'metric': 'RMSE',\n",
    "        'force_row_wise': True,\n",
    "        'random_state': random_state,\n",
    "        'early_stopping_round': 60,\n",
    "        #'categorical_feature' : cat_feature,\n",
    "        #'tree_learner': 'voting',\n",
    "        'tree_learner': trial.suggest_categorical('tree_learner', ['serial', 'feature', 'data', 'voting']),\n",
    "        'learning_rate': trial.suggest_uniform('learning_rate', 0.01, 0.1),\n",
    "        'lambda_l1': trial.suggest_loguniform('lambda_l1', 1e-8, 1.0),\n",
    "        'lambda_l2': trial.suggest_loguniform('lambda_l2', 1e-8, 1.0),\n",
    "        'num_leaves': trial.suggest_int('num_leaves', 32, 512),\n",
    "        'feature_fraction': trial.suggest_uniform('feature_fraction', 0.3, 1.0),\n",
    "        'bagging_fraction': trial.suggest_uniform('bagging_fraction', 0.3, 1.0),\n",
    "        'bagging_freq': trial.suggest_int('bagging_freq', 1, 32),\n",
    "        'min_child_samples': trial.suggest_int('min_child_samples', 2, 128),\n",
    "        'min_gain_to_split' : trial.suggest_discrete_uniform('min_gain_to_split', 0.1, 5, 0.01),\n",
    "        'max_depth': trial.suggest_int('max_depth',2, 64),\n",
    "        'max_bin': trial.suggest_int('max_bin', 32, 255),      \n",
    "        #'min_data_in_leaf': trial.suggest_int('min_data_in_leaf', 1, 256),\n",
    "        'min_data_in_bin': trial.suggest_int('min_data_in_bin', 1, 256),\n",
    "        #'device': 'gpu',\n",
    "        #'gpu_device_id': 0,\n",
    "        'verbose': -1\n",
    "        \n",
    "    }\n",
    " \n",
    "    gbm = lgb.train(params, dtrain, 3500, dval, verbose_eval=1000)\n",
    "    preds = gbm.predict(test_x)\n",
    "    rmse = mean_squared_error(test_y, preds, squared=False)\n",
    "    \n",
    "    return rmse"
   ]
  },
  {
   "cell_type": "code",
   "execution_count": 126,
   "metadata": {
    "colab": {
     "base_uri": "https://localhost:8080/"
    },
    "id": "Sf8xMynVVcIs",
    "outputId": "2f2ca26e-38ba-41ca-8ef7-45a7307d5811",
    "scrolled": true
   },
   "outputs": [
    {
     "name": "stderr",
     "output_type": "stream",
     "text": [
      "\u001b[32m[I 2022-11-21 16:57:12,796]\u001b[0m A new study created in memory with name: no-name-d9fe8e3a-0253-4bbe-90b3-e10a629528c4\u001b[0m\n"
     ]
    },
    {
     "name": "stdout",
     "output_type": "stream",
     "text": [
      "Training until validation scores don't improve for 60 rounds\n",
      "Early stopping, best iteration is:\n",
      "[600]\tvalid_0's rmse: 5.40428\n"
     ]
    },
    {
     "name": "stderr",
     "output_type": "stream",
     "text": [
      "\u001b[32m[I 2022-11-21 16:57:16,128]\u001b[0m Trial 0 finished with value: 5.404277392257727 and parameters: {'tree_learner': 'serial', 'learning_rate': 0.0459196116173005, 'lambda_l1': 1.4123534940795678e-08, 'lambda_l2': 0.00042183451821010964, 'num_leaves': 253, 'feature_fraction': 0.7265005431895152, 'bagging_fraction': 0.3877810623649288, 'bagging_freq': 15, 'min_child_samples': 72, 'min_gain_to_split': 1.1300000000000001, 'max_depth': 52, 'max_bin': 247, 'min_data_in_bin': 242}. Best is trial 0 with value: 5.404277392257727.\u001b[0m\n"
     ]
    },
    {
     "name": "stdout",
     "output_type": "stream",
     "text": [
      "Training until validation scores don't improve for 60 rounds\n",
      "[1000]\tvalid_0's rmse: 5.56906\n",
      "Early stopping, best iteration is:\n",
      "[1925]\tvalid_0's rmse: 5.51927\n"
     ]
    },
    {
     "name": "stderr",
     "output_type": "stream",
     "text": [
      "\u001b[32m[I 2022-11-21 16:57:24,502]\u001b[0m Trial 1 finished with value: 5.519366496953844 and parameters: {'tree_learner': 'serial', 'learning_rate': 0.01112338505490904, 'lambda_l1': 1.5486735010923864e-07, 'lambda_l2': 0.0003937890273101513, 'num_leaves': 467, 'feature_fraction': 0.41110835337151236, 'bagging_fraction': 0.9729676944933421, 'bagging_freq': 2, 'min_child_samples': 80, 'min_gain_to_split': 4.21, 'max_depth': 11, 'max_bin': 41, 'min_data_in_bin': 173}. Best is trial 0 with value: 5.404277392257727.\u001b[0m\n"
     ]
    },
    {
     "name": "stdout",
     "output_type": "stream",
     "text": [
      "Training until validation scores don't improve for 60 rounds\n"
     ]
    },
    {
     "name": "stderr",
     "output_type": "stream",
     "text": [
      "\u001b[32m[I 2022-11-21 16:57:26,585]\u001b[0m Trial 2 finished with value: 5.41506460360334 and parameters: {'tree_learner': 'serial', 'learning_rate': 0.05750544972745388, 'lambda_l1': 2.2195303971552342e-07, 'lambda_l2': 0.0018033851241884974, 'num_leaves': 97, 'feature_fraction': 0.6270257746760326, 'bagging_fraction': 0.6599080349112596, 'bagging_freq': 2, 'min_child_samples': 14, 'min_gain_to_split': 3.16, 'max_depth': 60, 'max_bin': 52, 'min_data_in_bin': 108}. Best is trial 0 with value: 5.404277392257727.\u001b[0m\n"
     ]
    },
    {
     "name": "stdout",
     "output_type": "stream",
     "text": [
      "Early stopping, best iteration is:\n",
      "[511]\tvalid_0's rmse: 5.41506\n",
      "Training until validation scores don't improve for 60 rounds\n"
     ]
    },
    {
     "name": "stderr",
     "output_type": "stream",
     "text": [
      "\u001b[32m[I 2022-11-21 16:57:29,130]\u001b[0m Trial 3 finished with value: 5.3643227049516815 and parameters: {'tree_learner': 'feature', 'learning_rate': 0.08175043656836092, 'lambda_l1': 0.0005681036746657102, 'lambda_l2': 0.00017461566227311963, 'num_leaves': 456, 'feature_fraction': 0.6194038571498512, 'bagging_fraction': 0.5911628496065703, 'bagging_freq': 11, 'min_child_samples': 70, 'min_gain_to_split': 2.5100000000000002, 'max_depth': 52, 'max_bin': 166, 'min_data_in_bin': 151}. Best is trial 3 with value: 5.3643227049516815.\u001b[0m\n"
     ]
    },
    {
     "name": "stdout",
     "output_type": "stream",
     "text": [
      "Early stopping, best iteration is:\n",
      "[250]\tvalid_0's rmse: 5.36432\n",
      "Training until validation scores don't improve for 60 rounds\n"
     ]
    },
    {
     "name": "stderr",
     "output_type": "stream",
     "text": [
      "\u001b[32m[I 2022-11-21 16:57:31,711]\u001b[0m Trial 4 finished with value: 5.333458526753935 and parameters: {'tree_learner': 'serial', 'learning_rate': 0.08611782872852561, 'lambda_l1': 0.002655772788681825, 'lambda_l2': 0.06380853887744492, 'num_leaves': 279, 'feature_fraction': 0.4533239987621932, 'bagging_fraction': 0.5777044568471181, 'bagging_freq': 28, 'min_child_samples': 72, 'min_gain_to_split': 2.19, 'max_depth': 52, 'max_bin': 202, 'min_data_in_bin': 55}. Best is trial 4 with value: 5.333458526753935.\u001b[0m\n"
     ]
    },
    {
     "name": "stdout",
     "output_type": "stream",
     "text": [
      "Early stopping, best iteration is:\n",
      "[283]\tvalid_0's rmse: 5.33346\n",
      "Training until validation scores don't improve for 60 rounds\n",
      "[1000]\tvalid_0's rmse: 6.16675\n",
      "[2000]\tvalid_0's rmse: 5.85509\n",
      "[3000]\tvalid_0's rmse: 5.75068\n",
      "Early stopping, best iteration is:\n",
      "[3131]\tvalid_0's rmse: 5.73225\n"
     ]
    },
    {
     "name": "stderr",
     "output_type": "stream",
     "text": [
      "\u001b[32m[I 2022-11-21 16:57:34,657]\u001b[0m Trial 5 finished with value: 5.7322500538636785 and parameters: {'tree_learner': 'serial', 'learning_rate': 0.03252281469484933, 'lambda_l1': 8.16546664791496e-05, 'lambda_l2': 0.0008705707052729509, 'num_leaves': 257, 'feature_fraction': 0.8039689699934771, 'bagging_fraction': 0.36858567248185037, 'bagging_freq': 31, 'min_child_samples': 46, 'min_gain_to_split': 0.75, 'max_depth': 4, 'max_bin': 180, 'min_data_in_bin': 162}. Best is trial 4 with value: 5.333458526753935.\u001b[0m\n"
     ]
    },
    {
     "name": "stdout",
     "output_type": "stream",
     "text": [
      "Training until validation scores don't improve for 60 rounds\n"
     ]
    },
    {
     "name": "stderr",
     "output_type": "stream",
     "text": [
      "\u001b[32m[I 2022-11-21 16:57:37,050]\u001b[0m Trial 6 finished with value: 5.335413385155354 and parameters: {'tree_learner': 'serial', 'learning_rate': 0.08885456583562629, 'lambda_l1': 0.00021123790661528523, 'lambda_l2': 1.926795403099064e-08, 'num_leaves': 362, 'feature_fraction': 0.31203745920545084, 'bagging_fraction': 0.48794044879377574, 'bagging_freq': 1, 'min_child_samples': 81, 'min_gain_to_split': 1.77, 'max_depth': 14, 'max_bin': 248, 'min_data_in_bin': 137}. Best is trial 4 with value: 5.333458526753935.\u001b[0m\n"
     ]
    },
    {
     "name": "stdout",
     "output_type": "stream",
     "text": [
      "Early stopping, best iteration is:\n",
      "[398]\tvalid_0's rmse: 5.33541\n",
      "Training until validation scores don't improve for 60 rounds\n",
      "Early stopping, best iteration is:\n",
      "[795]\tvalid_0's rmse: 5.28765\n"
     ]
    },
    {
     "name": "stderr",
     "output_type": "stream",
     "text": [
      "\u001b[32m[I 2022-11-21 16:57:47,388]\u001b[0m Trial 7 finished with value: 5.287651060239178 and parameters: {'tree_learner': 'serial', 'learning_rate': 0.016593807203190158, 'lambda_l1': 0.006468629325366902, 'lambda_l2': 0.07112145858884693, 'num_leaves': 342, 'feature_fraction': 0.9257119139579175, 'bagging_fraction': 0.872657511189898, 'bagging_freq': 12, 'min_child_samples': 69, 'min_gain_to_split': 4.239999999999999, 'max_depth': 28, 'max_bin': 134, 'min_data_in_bin': 197}. Best is trial 7 with value: 5.287651060239178.\u001b[0m\n"
     ]
    },
    {
     "name": "stdout",
     "output_type": "stream",
     "text": [
      "Training until validation scores don't improve for 60 rounds\n",
      "[1000]\tvalid_0's rmse: 5.5127\n",
      "Early stopping, best iteration is:\n",
      "[976]\tvalid_0's rmse: 5.51216\n"
     ]
    },
    {
     "name": "stderr",
     "output_type": "stream",
     "text": [
      "\u001b[32m[I 2022-11-21 16:57:49,012]\u001b[0m Trial 8 finished with value: 5.512156479225682 and parameters: {'tree_learner': 'feature', 'learning_rate': 0.0805635559894849, 'lambda_l1': 0.4060420702916257, 'lambda_l2': 0.004963338412018516, 'num_leaves': 35, 'feature_fraction': 0.46129952733093305, 'bagging_fraction': 0.9245985716390726, 'bagging_freq': 19, 'min_child_samples': 42, 'min_gain_to_split': 1.2200000000000002, 'max_depth': 9, 'max_bin': 57, 'min_data_in_bin': 74}. Best is trial 7 with value: 5.287651060239178.\u001b[0m\n"
     ]
    },
    {
     "name": "stdout",
     "output_type": "stream",
     "text": [
      "Training until validation scores don't improve for 60 rounds\n"
     ]
    },
    {
     "name": "stderr",
     "output_type": "stream",
     "text": [
      "\u001b[32m[I 2022-11-21 16:57:52,269]\u001b[0m Trial 9 finished with value: 5.287211596672692 and parameters: {'tree_learner': 'voting', 'learning_rate': 0.061025479706295856, 'lambda_l1': 0.2918125221348246, 'lambda_l2': 0.0035583403847631433, 'num_leaves': 495, 'feature_fraction': 0.793092609503502, 'bagging_fraction': 0.628295540699348, 'bagging_freq': 30, 'min_child_samples': 14, 'min_gain_to_split': 0.44000000000000006, 'max_depth': 56, 'max_bin': 159, 'min_data_in_bin': 94}. Best is trial 9 with value: 5.287211596672692.\u001b[0m\n"
     ]
    },
    {
     "name": "stdout",
     "output_type": "stream",
     "text": [
      "Early stopping, best iteration is:\n",
      "[152]\tvalid_0's rmse: 5.28721\n",
      "Training until validation scores don't improve for 60 rounds\n"
     ]
    },
    {
     "name": "stderr",
     "output_type": "stream",
     "text": [
      "\u001b[32m[I 2022-11-21 16:57:55,589]\u001b[0m Trial 10 finished with value: 5.397266258220815 and parameters: {'tree_learner': 'voting', 'learning_rate': 0.06255655593348422, 'lambda_l1': 0.6460647924407731, 'lambda_l2': 1.2734284452962082e-06, 'num_leaves': 507, 'feature_fraction': 0.9259025515400294, 'bagging_fraction': 0.7484009271931477, 'bagging_freq': 24, 'min_child_samples': 126, 'min_gain_to_split': 0.1, 'max_depth': 34, 'max_bin': 110, 'min_data_in_bin': 17}. Best is trial 9 with value: 5.287211596672692.\u001b[0m\n"
     ]
    },
    {
     "name": "stdout",
     "output_type": "stream",
     "text": [
      "Early stopping, best iteration is:\n",
      "[425]\tvalid_0's rmse: 5.39727\n",
      "Training until validation scores don't improve for 60 rounds\n",
      "Early stopping, best iteration is:\n",
      "[475]\tvalid_0's rmse: 5.2389\n"
     ]
    },
    {
     "name": "stderr",
     "output_type": "stream",
     "text": [
      "\u001b[32m[I 2022-11-21 16:58:01,657]\u001b[0m Trial 11 finished with value: 5.238900111477606 and parameters: {'tree_learner': 'voting', 'learning_rate': 0.020218153608767386, 'lambda_l1': 0.020672546770527045, 'lambda_l2': 0.8595772979389757, 'num_leaves': 375, 'feature_fraction': 0.9821777697579215, 'bagging_fraction': 0.7961015421209218, 'bagging_freq': 11, 'min_child_samples': 4, 'min_gain_to_split': 4.89, 'max_depth': 31, 'max_bin': 117, 'min_data_in_bin': 221}. Best is trial 11 with value: 5.238900111477606.\u001b[0m\n"
     ]
    },
    {
     "name": "stdout",
     "output_type": "stream",
     "text": [
      "Training until validation scores don't improve for 60 rounds\n"
     ]
    },
    {
     "name": "stderr",
     "output_type": "stream",
     "text": [
      "\u001b[32m[I 2022-11-21 16:58:05,195]\u001b[0m Trial 12 finished with value: 5.336262750581526 and parameters: {'tree_learner': 'voting', 'learning_rate': 0.03461203300733276, 'lambda_l1': 0.04396760809371894, 'lambda_l2': 0.5215435934106608, 'num_leaves': 400, 'feature_fraction': 0.9975449103234368, 'bagging_fraction': 0.7557679184071311, 'bagging_freq': 9, 'min_child_samples': 2, 'min_gain_to_split': 3.3800000000000003, 'max_depth': 35, 'max_bin': 92, 'min_data_in_bin': 256}. Best is trial 11 with value: 5.238900111477606.\u001b[0m\n"
     ]
    },
    {
     "name": "stdout",
     "output_type": "stream",
     "text": [
      "Early stopping, best iteration is:\n",
      "[234]\tvalid_0's rmse: 5.33626\n",
      "Training until validation scores don't improve for 60 rounds\n"
     ]
    },
    {
     "name": "stderr",
     "output_type": "stream",
     "text": [
      "\u001b[32m[I 2022-11-21 16:58:07,870]\u001b[0m Trial 13 finished with value: 5.299108392522431 and parameters: {'tree_learner': 'data', 'learning_rate': 0.06836610816300998, 'lambda_l1': 0.030432716512529854, 'lambda_l2': 7.505484834329382e-06, 'num_leaves': 391, 'feature_fraction': 0.8138386758727921, 'bagging_fraction': 0.7812887718760604, 'bagging_freq': 22, 'min_child_samples': 25, 'min_gain_to_split': 4.84, 'max_depth': 27, 'max_bin': 136, 'min_data_in_bin': 98}. Best is trial 11 with value: 5.238900111477606.\u001b[0m\n"
     ]
    },
    {
     "name": "stdout",
     "output_type": "stream",
     "text": [
      "Early stopping, best iteration is:\n",
      "[161]\tvalid_0's rmse: 5.29911\n",
      "Training until validation scores don't improve for 60 rounds\n",
      "Early stopping, best iteration is:\n",
      "[213]\tvalid_0's rmse: 5.42739\n"
     ]
    },
    {
     "name": "stderr",
     "output_type": "stream",
     "text": [
      "\u001b[32m[I 2022-11-21 16:58:11,574]\u001b[0m Trial 14 finished with value: 5.427387715810148 and parameters: {'tree_learner': 'voting', 'learning_rate': 0.04270680788356912, 'lambda_l1': 6.2615707704506825e-06, 'lambda_l2': 0.5434769485118383, 'num_leaves': 502, 'feature_fraction': 0.8431095751315338, 'bagging_fraction': 0.6677971923206704, 'bagging_freq': 7, 'min_child_samples': 36, 'min_gain_to_split': 3.39, 'max_depth': 42, 'max_bin': 94, 'min_data_in_bin': 212}. Best is trial 11 with value: 5.238900111477606.\u001b[0m\n"
     ]
    },
    {
     "name": "stdout",
     "output_type": "stream",
     "text": [
      "Training until validation scores don't improve for 60 rounds\n",
      "Early stopping, best iteration is:\n",
      "[939]\tvalid_0's rmse: 5.17501\n"
     ]
    },
    {
     "name": "stderr",
     "output_type": "stream",
     "text": [
      "\u001b[32m[I 2022-11-21 16:58:17,762]\u001b[0m Trial 15 finished with value: 5.175007096781394 and parameters: {'tree_learner': 'voting', 'learning_rate': 0.025297998303428056, 'lambda_l1': 0.08448600883931463, 'lambda_l2': 0.021563795528176177, 'num_leaves': 164, 'feature_fraction': 0.7091467311957964, 'bagging_fraction': 0.8186552225362468, 'bagging_freq': 16, 'min_child_samples': 3, 'min_gain_to_split': 4.989999999999999, 'max_depth': 21, 'max_bin': 206, 'min_data_in_bin': 32}. Best is trial 15 with value: 5.175007096781394.\u001b[0m\n"
     ]
    },
    {
     "name": "stdout",
     "output_type": "stream",
     "text": [
      "Training until validation scores don't improve for 60 rounds\n",
      "[1000]\tvalid_0's rmse: 5.26913\n",
      "Early stopping, best iteration is:\n",
      "[1220]\tvalid_0's rmse: 5.25803\n"
     ]
    },
    {
     "name": "stderr",
     "output_type": "stream",
     "text": [
      "\u001b[32m[I 2022-11-21 16:58:26,706]\u001b[0m Trial 16 finished with value: 5.258028313375255 and parameters: {'tree_learner': 'voting', 'learning_rate': 0.023410990199323745, 'lambda_l1': 0.036456012432648864, 'lambda_l2': 0.030777325980091433, 'num_leaves': 173, 'feature_fraction': 0.567772789413549, 'bagging_fraction': 0.84648245036026, 'bagging_freq': 17, 'min_child_samples': 113, 'min_gain_to_split': 4.9399999999999995, 'max_depth': 20, 'max_bin': 212, 'min_data_in_bin': 9}. Best is trial 15 with value: 5.175007096781394.\u001b[0m\n"
     ]
    },
    {
     "name": "stdout",
     "output_type": "stream",
     "text": [
      "Training until validation scores don't improve for 60 rounds\n",
      "Early stopping, best iteration is:\n",
      "[888]\tvalid_0's rmse: 5.16255\n"
     ]
    },
    {
     "name": "stderr",
     "output_type": "stream",
     "text": [
      "\u001b[32m[I 2022-11-21 16:58:33,489]\u001b[0m Trial 17 finished with value: 5.162546810643352 and parameters: {'tree_learner': 'data', 'learning_rate': 0.024615487883134196, 'lambda_l1': 2.2662011478951003e-05, 'lambda_l2': 0.9318335002171536, 'num_leaves': 173, 'feature_fraction': 0.7060642959586534, 'bagging_fraction': 0.8274497790690366, 'bagging_freq': 6, 'min_child_samples': 4, 'min_gain_to_split': 4.06, 'max_depth': 21, 'max_bin': 206, 'min_data_in_bin': 46}. Best is trial 17 with value: 5.162546810643352.\u001b[0m\n"
     ]
    },
    {
     "name": "stdout",
     "output_type": "stream",
     "text": [
      "Training until validation scores don't improve for 60 rounds\n",
      "Early stopping, best iteration is:\n",
      "[582]\tvalid_0's rmse: 5.23658\n"
     ]
    },
    {
     "name": "stderr",
     "output_type": "stream",
     "text": [
      "\u001b[32m[I 2022-11-21 16:58:37,411]\u001b[0m Trial 18 finished with value: 5.236575216150533 and parameters: {'tree_learner': 'data', 'learning_rate': 0.02883744442228025, 'lambda_l1': 8.987144821927305e-06, 'lambda_l2': 0.014430239222700644, 'num_leaves': 163, 'feature_fraction': 0.6887508187372159, 'bagging_fraction': 0.9886066407443006, 'bagging_freq': 5, 'min_child_samples': 53, 'min_gain_to_split': 4.1499999999999995, 'max_depth': 21, 'max_bin': 220, 'min_data_in_bin': 41}. Best is trial 17 with value: 5.162546810643352.\u001b[0m\n"
     ]
    },
    {
     "name": "stdout",
     "output_type": "stream",
     "text": [
      "Training until validation scores don't improve for 60 rounds\n"
     ]
    },
    {
     "name": "stderr",
     "output_type": "stream",
     "text": [
      "\u001b[32m[I 2022-11-21 16:58:40,849]\u001b[0m Trial 19 finished with value: 5.222802585254002 and parameters: {'tree_learner': 'data', 'learning_rate': 0.04387826749255918, 'lambda_l1': 2.150610982520211e-05, 'lambda_l2': 1.365717208446473e-05, 'num_leaves': 174, 'feature_fraction': 0.7325344670126286, 'bagging_fraction': 0.8717582266802937, 'bagging_freq': 15, 'min_child_samples': 29, 'min_gain_to_split': 4.03, 'max_depth': 41, 'max_bin': 189, 'min_data_in_bin': 34}. Best is trial 17 with value: 5.162546810643352.\u001b[0m\n"
     ]
    },
    {
     "name": "stdout",
     "output_type": "stream",
     "text": [
      "Early stopping, best iteration is:\n",
      "[404]\tvalid_0's rmse: 5.2228\n",
      "Training until validation scores don't improve for 60 rounds\n",
      "[1000]\tvalid_0's rmse: 5.45168\n",
      "[2000]\tvalid_0's rmse: 5.31273\n",
      "[3000]\tvalid_0's rmse: 5.28266\n",
      "Early stopping, best iteration is:\n",
      "[3151]\tvalid_0's rmse: 5.27839\n"
     ]
    },
    {
     "name": "stderr",
     "output_type": "stream",
     "text": [
      "\u001b[32m[I 2022-11-21 16:58:57,709]\u001b[0m Trial 20 finished with value: 5.27838681465424 and parameters: {'tree_learner': 'data', 'learning_rate': 0.011113444380733695, 'lambda_l1': 1.1572562030220995e-06, 'lambda_l2': 0.16570285613598318, 'num_leaves': 110, 'feature_fraction': 0.610078990178867, 'bagging_fraction': 0.7228372200093526, 'bagging_freq': 23, 'min_child_samples': 99, 'min_gain_to_split': 3.06, 'max_depth': 20, 'max_bin': 225, 'min_data_in_bin': 69}. Best is trial 17 with value: 5.162546810643352.\u001b[0m\n"
     ]
    },
    {
     "name": "stdout",
     "output_type": "stream",
     "text": [
      "Training until validation scores don't improve for 60 rounds\n"
     ]
    },
    {
     "name": "stderr",
     "output_type": "stream",
     "text": [
      "\u001b[32m[I 2022-11-21 16:59:00,872]\u001b[0m Trial 21 finished with value: 5.2131790827856 and parameters: {'tree_learner': 'data', 'learning_rate': 0.04506010801783705, 'lambda_l1': 2.1332426052294625e-05, 'lambda_l2': 2.1916193109752935e-05, 'num_leaves': 187, 'feature_fraction': 0.7415025226027556, 'bagging_fraction': 0.8805412747798512, 'bagging_freq': 15, 'min_child_samples': 27, 'min_gain_to_split': 3.91, 'max_depth': 38, 'max_bin': 183, 'min_data_in_bin': 24}. Best is trial 17 with value: 5.162546810643352.\u001b[0m\n"
     ]
    },
    {
     "name": "stdout",
     "output_type": "stream",
     "text": [
      "Early stopping, best iteration is:\n",
      "[328]\tvalid_0's rmse: 5.21318\n",
      "Training until validation scores don't improve for 60 rounds\n"
     ]
    },
    {
     "name": "stderr",
     "output_type": "stream",
     "text": [
      "\u001b[32m[I 2022-11-21 16:59:04,280]\u001b[0m Trial 22 finished with value: 5.191839548845924 and parameters: {'tree_learner': 'data', 'learning_rate': 0.050577547595843826, 'lambda_l1': 6.56990695394208e-05, 'lambda_l2': 2.38020932807339e-05, 'num_leaves': 213, 'feature_fraction': 0.538304105655022, 'bagging_fraction': 0.9076104122073657, 'bagging_freq': 20, 'min_child_samples': 16, 'min_gain_to_split': 3.73, 'max_depth': 40, 'max_bin': 189, 'min_data_in_bin': 3}. Best is trial 17 with value: 5.162546810643352.\u001b[0m\n"
     ]
    },
    {
     "name": "stdout",
     "output_type": "stream",
     "text": [
      "Early stopping, best iteration is:\n",
      "[352]\tvalid_0's rmse: 5.19184\n",
      "Training until validation scores don't improve for 60 rounds\n",
      "Early stopping, best iteration is:\n",
      "[480]\tvalid_0's rmse: 5.16097\n"
     ]
    },
    {
     "name": "stderr",
     "output_type": "stream",
     "text": [
      "\u001b[32m[I 2022-11-21 16:59:08,872]\u001b[0m Trial 23 finished with value: 5.160971239946674 and parameters: {'tree_learner': 'data', 'learning_rate': 0.036858783107973414, 'lambda_l1': 0.0008810357016906994, 'lambda_l2': 1.0901079823674582e-06, 'num_leaves': 228, 'feature_fraction': 0.5481678720495614, 'bagging_fraction': 0.8219873399891556, 'bagging_freq': 20, 'min_child_samples': 15, 'min_gain_to_split': 4.55, 'max_depth': 26, 'max_bin': 200, 'min_data_in_bin': 4}. Best is trial 23 with value: 5.160971239946674.\u001b[0m\n"
     ]
    },
    {
     "name": "stdout",
     "output_type": "stream",
     "text": [
      "Training until validation scores don't improve for 60 rounds\n",
      "Early stopping, best iteration is:\n",
      "[753]\tvalid_0's rmse: 5.18916\n"
     ]
    },
    {
     "name": "stderr",
     "output_type": "stream",
     "text": [
      "\u001b[32m[I 2022-11-21 16:59:13,342]\u001b[0m Trial 24 finished with value: 5.18915802142063 and parameters: {'tree_learner': 'data', 'learning_rate': 0.03650540368986821, 'lambda_l1': 0.0007383271371038872, 'lambda_l2': 2.095879599383884e-07, 'num_leaves': 118, 'feature_fraction': 0.5440517601493096, 'bagging_fraction': 0.8067244524199835, 'bagging_freq': 26, 'min_child_samples': 3, 'min_gain_to_split': 4.58, 'max_depth': 24, 'max_bin': 234, 'min_data_in_bin': 52}. Best is trial 23 with value: 5.160971239946674.\u001b[0m\n"
     ]
    },
    {
     "name": "stdout",
     "output_type": "stream",
     "text": [
      "Best Value: 5.160971239946674\n",
      "Best trial: {'tree_learner': 'data', 'learning_rate': 0.036858783107973414, 'lambda_l1': 0.0008810357016906994, 'lambda_l2': 1.0901079823674582e-06, 'num_leaves': 228, 'feature_fraction': 0.5481678720495614, 'bagging_fraction': 0.8219873399891556, 'bagging_freq': 20, 'min_child_samples': 15, 'min_gain_to_split': 4.55, 'max_depth': 26, 'max_bin': 200, 'min_data_in_bin': 4}\n"
     ]
    }
   ],
   "source": [
    "study = optuna.create_study(direction='minimize')\n",
    "study.optimize(objective, n_trials=25)\n",
    "\n",
    "print('Best Value:', study.best_value)\n",
    "print('Best trial:', study.best_trial.params)"
   ]
  },
  {
   "cell_type": "code",
   "execution_count": 127,
   "metadata": {
    "colab": {
     "base_uri": "https://localhost:8080/",
     "height": 542
    },
    "id": "mYVJ0fGNVcIs",
    "outputId": "9ecfc5de-285b-4590-bcbf-c4f6e01cf099"
   },
   "outputs": [
    {
     "data": {
      "application/vnd.plotly.v1+json": {
       "config": {
        "plotlyServerURL": "https://plot.ly"
       },
       "data": [
        {
         "cliponaxis": false,
         "hovertemplate": [
          "lambda_l1 (FloatDistribution): 0.0001104988922849021<extra></extra>",
          "lambda_l2 (FloatDistribution): 0.000581798695265901<extra></extra>",
          "feature_fraction (FloatDistribution): 0.008191680480571232<extra></extra>",
          "tree_learner (CategoricalDistribution): 0.010177938735704897<extra></extra>",
          "min_child_samples (IntDistribution): 0.019251429320125916<extra></extra>",
          "min_gain_to_split (FloatDistribution): 0.0390502117914477<extra></extra>",
          "num_leaves (IntDistribution): 0.0434732365937933<extra></extra>",
          "bagging_freq (IntDistribution): 0.047372560447894695<extra></extra>",
          "learning_rate (FloatDistribution): 0.0540232315741937<extra></extra>",
          "min_data_in_bin (IntDistribution): 0.07714039250693812<extra></extra>",
          "bagging_fraction (FloatDistribution): 0.11947978395309333<extra></extra>",
          "max_bin (IntDistribution): 0.16979159672962876<extra></extra>",
          "max_depth (IntDistribution): 0.41135564027905736<extra></extra>"
         ],
         "marker": {
          "color": "rgb(66,146,198)"
         },
         "orientation": "h",
         "text": [
          "<0.01",
          "<0.01",
          "<0.01",
          "0.01",
          "0.02",
          "0.04",
          "0.04",
          "0.05",
          "0.05",
          "0.08",
          "0.12",
          "0.17",
          "0.41"
         ],
         "textposition": "outside",
         "type": "bar",
         "x": [
          0.0001104988922849021,
          0.000581798695265901,
          0.008191680480571232,
          0.010177938735704897,
          0.019251429320125916,
          0.0390502117914477,
          0.0434732365937933,
          0.047372560447894695,
          0.0540232315741937,
          0.07714039250693812,
          0.11947978395309333,
          0.16979159672962876,
          0.41135564027905736
         ],
         "y": [
          "lambda_l1",
          "lambda_l2",
          "feature_fraction",
          "tree_learner",
          "min_child_samples",
          "min_gain_to_split",
          "num_leaves",
          "bagging_freq",
          "learning_rate",
          "min_data_in_bin",
          "bagging_fraction",
          "max_bin",
          "max_depth"
         ]
        }
       ],
       "layout": {
        "showlegend": false,
        "template": {
         "data": {
          "bar": [
           {
            "error_x": {
             "color": "#2a3f5f"
            },
            "error_y": {
             "color": "#2a3f5f"
            },
            "marker": {
             "line": {
              "color": "#E5ECF6",
              "width": 0.5
             },
             "pattern": {
              "fillmode": "overlay",
              "size": 10,
              "solidity": 0.2
             }
            },
            "type": "bar"
           }
          ],
          "barpolar": [
           {
            "marker": {
             "line": {
              "color": "#E5ECF6",
              "width": 0.5
             },
             "pattern": {
              "fillmode": "overlay",
              "size": 10,
              "solidity": 0.2
             }
            },
            "type": "barpolar"
           }
          ],
          "carpet": [
           {
            "aaxis": {
             "endlinecolor": "#2a3f5f",
             "gridcolor": "white",
             "linecolor": "white",
             "minorgridcolor": "white",
             "startlinecolor": "#2a3f5f"
            },
            "baxis": {
             "endlinecolor": "#2a3f5f",
             "gridcolor": "white",
             "linecolor": "white",
             "minorgridcolor": "white",
             "startlinecolor": "#2a3f5f"
            },
            "type": "carpet"
           }
          ],
          "choropleth": [
           {
            "colorbar": {
             "outlinewidth": 0,
             "ticks": ""
            },
            "type": "choropleth"
           }
          ],
          "contour": [
           {
            "colorbar": {
             "outlinewidth": 0,
             "ticks": ""
            },
            "colorscale": [
             [
              0,
              "#0d0887"
             ],
             [
              0.1111111111111111,
              "#46039f"
             ],
             [
              0.2222222222222222,
              "#7201a8"
             ],
             [
              0.3333333333333333,
              "#9c179e"
             ],
             [
              0.4444444444444444,
              "#bd3786"
             ],
             [
              0.5555555555555556,
              "#d8576b"
             ],
             [
              0.6666666666666666,
              "#ed7953"
             ],
             [
              0.7777777777777778,
              "#fb9f3a"
             ],
             [
              0.8888888888888888,
              "#fdca26"
             ],
             [
              1,
              "#f0f921"
             ]
            ],
            "type": "contour"
           }
          ],
          "contourcarpet": [
           {
            "colorbar": {
             "outlinewidth": 0,
             "ticks": ""
            },
            "type": "contourcarpet"
           }
          ],
          "heatmap": [
           {
            "colorbar": {
             "outlinewidth": 0,
             "ticks": ""
            },
            "colorscale": [
             [
              0,
              "#0d0887"
             ],
             [
              0.1111111111111111,
              "#46039f"
             ],
             [
              0.2222222222222222,
              "#7201a8"
             ],
             [
              0.3333333333333333,
              "#9c179e"
             ],
             [
              0.4444444444444444,
              "#bd3786"
             ],
             [
              0.5555555555555556,
              "#d8576b"
             ],
             [
              0.6666666666666666,
              "#ed7953"
             ],
             [
              0.7777777777777778,
              "#fb9f3a"
             ],
             [
              0.8888888888888888,
              "#fdca26"
             ],
             [
              1,
              "#f0f921"
             ]
            ],
            "type": "heatmap"
           }
          ],
          "heatmapgl": [
           {
            "colorbar": {
             "outlinewidth": 0,
             "ticks": ""
            },
            "colorscale": [
             [
              0,
              "#0d0887"
             ],
             [
              0.1111111111111111,
              "#46039f"
             ],
             [
              0.2222222222222222,
              "#7201a8"
             ],
             [
              0.3333333333333333,
              "#9c179e"
             ],
             [
              0.4444444444444444,
              "#bd3786"
             ],
             [
              0.5555555555555556,
              "#d8576b"
             ],
             [
              0.6666666666666666,
              "#ed7953"
             ],
             [
              0.7777777777777778,
              "#fb9f3a"
             ],
             [
              0.8888888888888888,
              "#fdca26"
             ],
             [
              1,
              "#f0f921"
             ]
            ],
            "type": "heatmapgl"
           }
          ],
          "histogram": [
           {
            "marker": {
             "pattern": {
              "fillmode": "overlay",
              "size": 10,
              "solidity": 0.2
             }
            },
            "type": "histogram"
           }
          ],
          "histogram2d": [
           {
            "colorbar": {
             "outlinewidth": 0,
             "ticks": ""
            },
            "colorscale": [
             [
              0,
              "#0d0887"
             ],
             [
              0.1111111111111111,
              "#46039f"
             ],
             [
              0.2222222222222222,
              "#7201a8"
             ],
             [
              0.3333333333333333,
              "#9c179e"
             ],
             [
              0.4444444444444444,
              "#bd3786"
             ],
             [
              0.5555555555555556,
              "#d8576b"
             ],
             [
              0.6666666666666666,
              "#ed7953"
             ],
             [
              0.7777777777777778,
              "#fb9f3a"
             ],
             [
              0.8888888888888888,
              "#fdca26"
             ],
             [
              1,
              "#f0f921"
             ]
            ],
            "type": "histogram2d"
           }
          ],
          "histogram2dcontour": [
           {
            "colorbar": {
             "outlinewidth": 0,
             "ticks": ""
            },
            "colorscale": [
             [
              0,
              "#0d0887"
             ],
             [
              0.1111111111111111,
              "#46039f"
             ],
             [
              0.2222222222222222,
              "#7201a8"
             ],
             [
              0.3333333333333333,
              "#9c179e"
             ],
             [
              0.4444444444444444,
              "#bd3786"
             ],
             [
              0.5555555555555556,
              "#d8576b"
             ],
             [
              0.6666666666666666,
              "#ed7953"
             ],
             [
              0.7777777777777778,
              "#fb9f3a"
             ],
             [
              0.8888888888888888,
              "#fdca26"
             ],
             [
              1,
              "#f0f921"
             ]
            ],
            "type": "histogram2dcontour"
           }
          ],
          "mesh3d": [
           {
            "colorbar": {
             "outlinewidth": 0,
             "ticks": ""
            },
            "type": "mesh3d"
           }
          ],
          "parcoords": [
           {
            "line": {
             "colorbar": {
              "outlinewidth": 0,
              "ticks": ""
             }
            },
            "type": "parcoords"
           }
          ],
          "pie": [
           {
            "automargin": true,
            "type": "pie"
           }
          ],
          "scatter": [
           {
            "fillpattern": {
             "fillmode": "overlay",
             "size": 10,
             "solidity": 0.2
            },
            "type": "scatter"
           }
          ],
          "scatter3d": [
           {
            "line": {
             "colorbar": {
              "outlinewidth": 0,
              "ticks": ""
             }
            },
            "marker": {
             "colorbar": {
              "outlinewidth": 0,
              "ticks": ""
             }
            },
            "type": "scatter3d"
           }
          ],
          "scattercarpet": [
           {
            "marker": {
             "colorbar": {
              "outlinewidth": 0,
              "ticks": ""
             }
            },
            "type": "scattercarpet"
           }
          ],
          "scattergeo": [
           {
            "marker": {
             "colorbar": {
              "outlinewidth": 0,
              "ticks": ""
             }
            },
            "type": "scattergeo"
           }
          ],
          "scattergl": [
           {
            "marker": {
             "colorbar": {
              "outlinewidth": 0,
              "ticks": ""
             }
            },
            "type": "scattergl"
           }
          ],
          "scattermapbox": [
           {
            "marker": {
             "colorbar": {
              "outlinewidth": 0,
              "ticks": ""
             }
            },
            "type": "scattermapbox"
           }
          ],
          "scatterpolar": [
           {
            "marker": {
             "colorbar": {
              "outlinewidth": 0,
              "ticks": ""
             }
            },
            "type": "scatterpolar"
           }
          ],
          "scatterpolargl": [
           {
            "marker": {
             "colorbar": {
              "outlinewidth": 0,
              "ticks": ""
             }
            },
            "type": "scatterpolargl"
           }
          ],
          "scatterternary": [
           {
            "marker": {
             "colorbar": {
              "outlinewidth": 0,
              "ticks": ""
             }
            },
            "type": "scatterternary"
           }
          ],
          "surface": [
           {
            "colorbar": {
             "outlinewidth": 0,
             "ticks": ""
            },
            "colorscale": [
             [
              0,
              "#0d0887"
             ],
             [
              0.1111111111111111,
              "#46039f"
             ],
             [
              0.2222222222222222,
              "#7201a8"
             ],
             [
              0.3333333333333333,
              "#9c179e"
             ],
             [
              0.4444444444444444,
              "#bd3786"
             ],
             [
              0.5555555555555556,
              "#d8576b"
             ],
             [
              0.6666666666666666,
              "#ed7953"
             ],
             [
              0.7777777777777778,
              "#fb9f3a"
             ],
             [
              0.8888888888888888,
              "#fdca26"
             ],
             [
              1,
              "#f0f921"
             ]
            ],
            "type": "surface"
           }
          ],
          "table": [
           {
            "cells": {
             "fill": {
              "color": "#EBF0F8"
             },
             "line": {
              "color": "white"
             }
            },
            "header": {
             "fill": {
              "color": "#C8D4E3"
             },
             "line": {
              "color": "white"
             }
            },
            "type": "table"
           }
          ]
         },
         "layout": {
          "annotationdefaults": {
           "arrowcolor": "#2a3f5f",
           "arrowhead": 0,
           "arrowwidth": 1
          },
          "autotypenumbers": "strict",
          "coloraxis": {
           "colorbar": {
            "outlinewidth": 0,
            "ticks": ""
           }
          },
          "colorscale": {
           "diverging": [
            [
             0,
             "#8e0152"
            ],
            [
             0.1,
             "#c51b7d"
            ],
            [
             0.2,
             "#de77ae"
            ],
            [
             0.3,
             "#f1b6da"
            ],
            [
             0.4,
             "#fde0ef"
            ],
            [
             0.5,
             "#f7f7f7"
            ],
            [
             0.6,
             "#e6f5d0"
            ],
            [
             0.7,
             "#b8e186"
            ],
            [
             0.8,
             "#7fbc41"
            ],
            [
             0.9,
             "#4d9221"
            ],
            [
             1,
             "#276419"
            ]
           ],
           "sequential": [
            [
             0,
             "#0d0887"
            ],
            [
             0.1111111111111111,
             "#46039f"
            ],
            [
             0.2222222222222222,
             "#7201a8"
            ],
            [
             0.3333333333333333,
             "#9c179e"
            ],
            [
             0.4444444444444444,
             "#bd3786"
            ],
            [
             0.5555555555555556,
             "#d8576b"
            ],
            [
             0.6666666666666666,
             "#ed7953"
            ],
            [
             0.7777777777777778,
             "#fb9f3a"
            ],
            [
             0.8888888888888888,
             "#fdca26"
            ],
            [
             1,
             "#f0f921"
            ]
           ],
           "sequentialminus": [
            [
             0,
             "#0d0887"
            ],
            [
             0.1111111111111111,
             "#46039f"
            ],
            [
             0.2222222222222222,
             "#7201a8"
            ],
            [
             0.3333333333333333,
             "#9c179e"
            ],
            [
             0.4444444444444444,
             "#bd3786"
            ],
            [
             0.5555555555555556,
             "#d8576b"
            ],
            [
             0.6666666666666666,
             "#ed7953"
            ],
            [
             0.7777777777777778,
             "#fb9f3a"
            ],
            [
             0.8888888888888888,
             "#fdca26"
            ],
            [
             1,
             "#f0f921"
            ]
           ]
          },
          "colorway": [
           "#636efa",
           "#EF553B",
           "#00cc96",
           "#ab63fa",
           "#FFA15A",
           "#19d3f3",
           "#FF6692",
           "#B6E880",
           "#FF97FF",
           "#FECB52"
          ],
          "font": {
           "color": "#2a3f5f"
          },
          "geo": {
           "bgcolor": "white",
           "lakecolor": "white",
           "landcolor": "#E5ECF6",
           "showlakes": true,
           "showland": true,
           "subunitcolor": "white"
          },
          "hoverlabel": {
           "align": "left"
          },
          "hovermode": "closest",
          "mapbox": {
           "style": "light"
          },
          "paper_bgcolor": "white",
          "plot_bgcolor": "#E5ECF6",
          "polar": {
           "angularaxis": {
            "gridcolor": "white",
            "linecolor": "white",
            "ticks": ""
           },
           "bgcolor": "#E5ECF6",
           "radialaxis": {
            "gridcolor": "white",
            "linecolor": "white",
            "ticks": ""
           }
          },
          "scene": {
           "xaxis": {
            "backgroundcolor": "#E5ECF6",
            "gridcolor": "white",
            "gridwidth": 2,
            "linecolor": "white",
            "showbackground": true,
            "ticks": "",
            "zerolinecolor": "white"
           },
           "yaxis": {
            "backgroundcolor": "#E5ECF6",
            "gridcolor": "white",
            "gridwidth": 2,
            "linecolor": "white",
            "showbackground": true,
            "ticks": "",
            "zerolinecolor": "white"
           },
           "zaxis": {
            "backgroundcolor": "#E5ECF6",
            "gridcolor": "white",
            "gridwidth": 2,
            "linecolor": "white",
            "showbackground": true,
            "ticks": "",
            "zerolinecolor": "white"
           }
          },
          "shapedefaults": {
           "line": {
            "color": "#2a3f5f"
           }
          },
          "ternary": {
           "aaxis": {
            "gridcolor": "white",
            "linecolor": "white",
            "ticks": ""
           },
           "baxis": {
            "gridcolor": "white",
            "linecolor": "white",
            "ticks": ""
           },
           "bgcolor": "#E5ECF6",
           "caxis": {
            "gridcolor": "white",
            "linecolor": "white",
            "ticks": ""
           }
          },
          "title": {
           "x": 0.05
          },
          "xaxis": {
           "automargin": true,
           "gridcolor": "white",
           "linecolor": "white",
           "ticks": "",
           "title": {
            "standoff": 15
           },
           "zerolinecolor": "white",
           "zerolinewidth": 2
          },
          "yaxis": {
           "automargin": true,
           "gridcolor": "white",
           "linecolor": "white",
           "ticks": "",
           "title": {
            "standoff": 15
           },
           "zerolinecolor": "white",
           "zerolinewidth": 2
          }
         }
        },
        "title": {
         "text": "Hyperparameter Importances"
        },
        "xaxis": {
         "title": {
          "text": "Importance for Objective Value"
         }
        },
        "yaxis": {
         "title": {
          "text": "Hyperparameter"
         }
        }
       }
      },
      "text/html": [
       "<div>                            <div id=\"8e609d1b-f33e-4083-9247-19cc64468479\" class=\"plotly-graph-div\" style=\"height:525px; width:100%;\"></div>            <script type=\"text/javascript\">                require([\"plotly\"], function(Plotly) {                    window.PLOTLYENV=window.PLOTLYENV || {};                                    if (document.getElementById(\"8e609d1b-f33e-4083-9247-19cc64468479\")) {                    Plotly.newPlot(                        \"8e609d1b-f33e-4083-9247-19cc64468479\",                        [{\"cliponaxis\":false,\"hovertemplate\":[\"lambda_l1 (FloatDistribution): 0.0001104988922849021<extra></extra>\",\"lambda_l2 (FloatDistribution): 0.000581798695265901<extra></extra>\",\"feature_fraction (FloatDistribution): 0.008191680480571232<extra></extra>\",\"tree_learner (CategoricalDistribution): 0.010177938735704897<extra></extra>\",\"min_child_samples (IntDistribution): 0.019251429320125916<extra></extra>\",\"min_gain_to_split (FloatDistribution): 0.0390502117914477<extra></extra>\",\"num_leaves (IntDistribution): 0.0434732365937933<extra></extra>\",\"bagging_freq (IntDistribution): 0.047372560447894695<extra></extra>\",\"learning_rate (FloatDistribution): 0.0540232315741937<extra></extra>\",\"min_data_in_bin (IntDistribution): 0.07714039250693812<extra></extra>\",\"bagging_fraction (FloatDistribution): 0.11947978395309333<extra></extra>\",\"max_bin (IntDistribution): 0.16979159672962876<extra></extra>\",\"max_depth (IntDistribution): 0.41135564027905736<extra></extra>\"],\"marker\":{\"color\":\"rgb(66,146,198)\"},\"orientation\":\"h\",\"text\":[\"<0.01\",\"<0.01\",\"<0.01\",\"0.01\",\"0.02\",\"0.04\",\"0.04\",\"0.05\",\"0.05\",\"0.08\",\"0.12\",\"0.17\",\"0.41\"],\"textposition\":\"outside\",\"x\":[0.0001104988922849021,0.000581798695265901,0.008191680480571232,0.010177938735704897,0.019251429320125916,0.0390502117914477,0.0434732365937933,0.047372560447894695,0.0540232315741937,0.07714039250693812,0.11947978395309333,0.16979159672962876,0.41135564027905736],\"y\":[\"lambda_l1\",\"lambda_l2\",\"feature_fraction\",\"tree_learner\",\"min_child_samples\",\"min_gain_to_split\",\"num_leaves\",\"bagging_freq\",\"learning_rate\",\"min_data_in_bin\",\"bagging_fraction\",\"max_bin\",\"max_depth\"],\"type\":\"bar\"}],                        {\"showlegend\":false,\"title\":{\"text\":\"Hyperparameter Importances\"},\"xaxis\":{\"title\":{\"text\":\"Importance for Objective Value\"}},\"yaxis\":{\"title\":{\"text\":\"Hyperparameter\"}},\"template\":{\"data\":{\"histogram2dcontour\":[{\"type\":\"histogram2dcontour\",\"colorbar\":{\"outlinewidth\":0,\"ticks\":\"\"},\"colorscale\":[[0.0,\"#0d0887\"],[0.1111111111111111,\"#46039f\"],[0.2222222222222222,\"#7201a8\"],[0.3333333333333333,\"#9c179e\"],[0.4444444444444444,\"#bd3786\"],[0.5555555555555556,\"#d8576b\"],[0.6666666666666666,\"#ed7953\"],[0.7777777777777778,\"#fb9f3a\"],[0.8888888888888888,\"#fdca26\"],[1.0,\"#f0f921\"]]}],\"choropleth\":[{\"type\":\"choropleth\",\"colorbar\":{\"outlinewidth\":0,\"ticks\":\"\"}}],\"histogram2d\":[{\"type\":\"histogram2d\",\"colorbar\":{\"outlinewidth\":0,\"ticks\":\"\"},\"colorscale\":[[0.0,\"#0d0887\"],[0.1111111111111111,\"#46039f\"],[0.2222222222222222,\"#7201a8\"],[0.3333333333333333,\"#9c179e\"],[0.4444444444444444,\"#bd3786\"],[0.5555555555555556,\"#d8576b\"],[0.6666666666666666,\"#ed7953\"],[0.7777777777777778,\"#fb9f3a\"],[0.8888888888888888,\"#fdca26\"],[1.0,\"#f0f921\"]]}],\"heatmap\":[{\"type\":\"heatmap\",\"colorbar\":{\"outlinewidth\":0,\"ticks\":\"\"},\"colorscale\":[[0.0,\"#0d0887\"],[0.1111111111111111,\"#46039f\"],[0.2222222222222222,\"#7201a8\"],[0.3333333333333333,\"#9c179e\"],[0.4444444444444444,\"#bd3786\"],[0.5555555555555556,\"#d8576b\"],[0.6666666666666666,\"#ed7953\"],[0.7777777777777778,\"#fb9f3a\"],[0.8888888888888888,\"#fdca26\"],[1.0,\"#f0f921\"]]}],\"heatmapgl\":[{\"type\":\"heatmapgl\",\"colorbar\":{\"outlinewidth\":0,\"ticks\":\"\"},\"colorscale\":[[0.0,\"#0d0887\"],[0.1111111111111111,\"#46039f\"],[0.2222222222222222,\"#7201a8\"],[0.3333333333333333,\"#9c179e\"],[0.4444444444444444,\"#bd3786\"],[0.5555555555555556,\"#d8576b\"],[0.6666666666666666,\"#ed7953\"],[0.7777777777777778,\"#fb9f3a\"],[0.8888888888888888,\"#fdca26\"],[1.0,\"#f0f921\"]]}],\"contourcarpet\":[{\"type\":\"contourcarpet\",\"colorbar\":{\"outlinewidth\":0,\"ticks\":\"\"}}],\"contour\":[{\"type\":\"contour\",\"colorbar\":{\"outlinewidth\":0,\"ticks\":\"\"},\"colorscale\":[[0.0,\"#0d0887\"],[0.1111111111111111,\"#46039f\"],[0.2222222222222222,\"#7201a8\"],[0.3333333333333333,\"#9c179e\"],[0.4444444444444444,\"#bd3786\"],[0.5555555555555556,\"#d8576b\"],[0.6666666666666666,\"#ed7953\"],[0.7777777777777778,\"#fb9f3a\"],[0.8888888888888888,\"#fdca26\"],[1.0,\"#f0f921\"]]}],\"surface\":[{\"type\":\"surface\",\"colorbar\":{\"outlinewidth\":0,\"ticks\":\"\"},\"colorscale\":[[0.0,\"#0d0887\"],[0.1111111111111111,\"#46039f\"],[0.2222222222222222,\"#7201a8\"],[0.3333333333333333,\"#9c179e\"],[0.4444444444444444,\"#bd3786\"],[0.5555555555555556,\"#d8576b\"],[0.6666666666666666,\"#ed7953\"],[0.7777777777777778,\"#fb9f3a\"],[0.8888888888888888,\"#fdca26\"],[1.0,\"#f0f921\"]]}],\"mesh3d\":[{\"type\":\"mesh3d\",\"colorbar\":{\"outlinewidth\":0,\"ticks\":\"\"}}],\"scatter\":[{\"fillpattern\":{\"fillmode\":\"overlay\",\"size\":10,\"solidity\":0.2},\"type\":\"scatter\"}],\"parcoords\":[{\"type\":\"parcoords\",\"line\":{\"colorbar\":{\"outlinewidth\":0,\"ticks\":\"\"}}}],\"scatterpolargl\":[{\"type\":\"scatterpolargl\",\"marker\":{\"colorbar\":{\"outlinewidth\":0,\"ticks\":\"\"}}}],\"bar\":[{\"error_x\":{\"color\":\"#2a3f5f\"},\"error_y\":{\"color\":\"#2a3f5f\"},\"marker\":{\"line\":{\"color\":\"#E5ECF6\",\"width\":0.5},\"pattern\":{\"fillmode\":\"overlay\",\"size\":10,\"solidity\":0.2}},\"type\":\"bar\"}],\"scattergeo\":[{\"type\":\"scattergeo\",\"marker\":{\"colorbar\":{\"outlinewidth\":0,\"ticks\":\"\"}}}],\"scatterpolar\":[{\"type\":\"scatterpolar\",\"marker\":{\"colorbar\":{\"outlinewidth\":0,\"ticks\":\"\"}}}],\"histogram\":[{\"marker\":{\"pattern\":{\"fillmode\":\"overlay\",\"size\":10,\"solidity\":0.2}},\"type\":\"histogram\"}],\"scattergl\":[{\"type\":\"scattergl\",\"marker\":{\"colorbar\":{\"outlinewidth\":0,\"ticks\":\"\"}}}],\"scatter3d\":[{\"type\":\"scatter3d\",\"line\":{\"colorbar\":{\"outlinewidth\":0,\"ticks\":\"\"}},\"marker\":{\"colorbar\":{\"outlinewidth\":0,\"ticks\":\"\"}}}],\"scattermapbox\":[{\"type\":\"scattermapbox\",\"marker\":{\"colorbar\":{\"outlinewidth\":0,\"ticks\":\"\"}}}],\"scatterternary\":[{\"type\":\"scatterternary\",\"marker\":{\"colorbar\":{\"outlinewidth\":0,\"ticks\":\"\"}}}],\"scattercarpet\":[{\"type\":\"scattercarpet\",\"marker\":{\"colorbar\":{\"outlinewidth\":0,\"ticks\":\"\"}}}],\"carpet\":[{\"aaxis\":{\"endlinecolor\":\"#2a3f5f\",\"gridcolor\":\"white\",\"linecolor\":\"white\",\"minorgridcolor\":\"white\",\"startlinecolor\":\"#2a3f5f\"},\"baxis\":{\"endlinecolor\":\"#2a3f5f\",\"gridcolor\":\"white\",\"linecolor\":\"white\",\"minorgridcolor\":\"white\",\"startlinecolor\":\"#2a3f5f\"},\"type\":\"carpet\"}],\"table\":[{\"cells\":{\"fill\":{\"color\":\"#EBF0F8\"},\"line\":{\"color\":\"white\"}},\"header\":{\"fill\":{\"color\":\"#C8D4E3\"},\"line\":{\"color\":\"white\"}},\"type\":\"table\"}],\"barpolar\":[{\"marker\":{\"line\":{\"color\":\"#E5ECF6\",\"width\":0.5},\"pattern\":{\"fillmode\":\"overlay\",\"size\":10,\"solidity\":0.2}},\"type\":\"barpolar\"}],\"pie\":[{\"automargin\":true,\"type\":\"pie\"}]},\"layout\":{\"autotypenumbers\":\"strict\",\"colorway\":[\"#636efa\",\"#EF553B\",\"#00cc96\",\"#ab63fa\",\"#FFA15A\",\"#19d3f3\",\"#FF6692\",\"#B6E880\",\"#FF97FF\",\"#FECB52\"],\"font\":{\"color\":\"#2a3f5f\"},\"hovermode\":\"closest\",\"hoverlabel\":{\"align\":\"left\"},\"paper_bgcolor\":\"white\",\"plot_bgcolor\":\"#E5ECF6\",\"polar\":{\"bgcolor\":\"#E5ECF6\",\"angularaxis\":{\"gridcolor\":\"white\",\"linecolor\":\"white\",\"ticks\":\"\"},\"radialaxis\":{\"gridcolor\":\"white\",\"linecolor\":\"white\",\"ticks\":\"\"}},\"ternary\":{\"bgcolor\":\"#E5ECF6\",\"aaxis\":{\"gridcolor\":\"white\",\"linecolor\":\"white\",\"ticks\":\"\"},\"baxis\":{\"gridcolor\":\"white\",\"linecolor\":\"white\",\"ticks\":\"\"},\"caxis\":{\"gridcolor\":\"white\",\"linecolor\":\"white\",\"ticks\":\"\"}},\"coloraxis\":{\"colorbar\":{\"outlinewidth\":0,\"ticks\":\"\"}},\"colorscale\":{\"sequential\":[[0.0,\"#0d0887\"],[0.1111111111111111,\"#46039f\"],[0.2222222222222222,\"#7201a8\"],[0.3333333333333333,\"#9c179e\"],[0.4444444444444444,\"#bd3786\"],[0.5555555555555556,\"#d8576b\"],[0.6666666666666666,\"#ed7953\"],[0.7777777777777778,\"#fb9f3a\"],[0.8888888888888888,\"#fdca26\"],[1.0,\"#f0f921\"]],\"sequentialminus\":[[0.0,\"#0d0887\"],[0.1111111111111111,\"#46039f\"],[0.2222222222222222,\"#7201a8\"],[0.3333333333333333,\"#9c179e\"],[0.4444444444444444,\"#bd3786\"],[0.5555555555555556,\"#d8576b\"],[0.6666666666666666,\"#ed7953\"],[0.7777777777777778,\"#fb9f3a\"],[0.8888888888888888,\"#fdca26\"],[1.0,\"#f0f921\"]],\"diverging\":[[0,\"#8e0152\"],[0.1,\"#c51b7d\"],[0.2,\"#de77ae\"],[0.3,\"#f1b6da\"],[0.4,\"#fde0ef\"],[0.5,\"#f7f7f7\"],[0.6,\"#e6f5d0\"],[0.7,\"#b8e186\"],[0.8,\"#7fbc41\"],[0.9,\"#4d9221\"],[1,\"#276419\"]]},\"xaxis\":{\"gridcolor\":\"white\",\"linecolor\":\"white\",\"ticks\":\"\",\"title\":{\"standoff\":15},\"zerolinecolor\":\"white\",\"automargin\":true,\"zerolinewidth\":2},\"yaxis\":{\"gridcolor\":\"white\",\"linecolor\":\"white\",\"ticks\":\"\",\"title\":{\"standoff\":15},\"zerolinecolor\":\"white\",\"automargin\":true,\"zerolinewidth\":2},\"scene\":{\"xaxis\":{\"backgroundcolor\":\"#E5ECF6\",\"gridcolor\":\"white\",\"linecolor\":\"white\",\"showbackground\":true,\"ticks\":\"\",\"zerolinecolor\":\"white\",\"gridwidth\":2},\"yaxis\":{\"backgroundcolor\":\"#E5ECF6\",\"gridcolor\":\"white\",\"linecolor\":\"white\",\"showbackground\":true,\"ticks\":\"\",\"zerolinecolor\":\"white\",\"gridwidth\":2},\"zaxis\":{\"backgroundcolor\":\"#E5ECF6\",\"gridcolor\":\"white\",\"linecolor\":\"white\",\"showbackground\":true,\"ticks\":\"\",\"zerolinecolor\":\"white\",\"gridwidth\":2}},\"shapedefaults\":{\"line\":{\"color\":\"#2a3f5f\"}},\"annotationdefaults\":{\"arrowcolor\":\"#2a3f5f\",\"arrowhead\":0,\"arrowwidth\":1},\"geo\":{\"bgcolor\":\"white\",\"landcolor\":\"#E5ECF6\",\"subunitcolor\":\"white\",\"showland\":true,\"showlakes\":true,\"lakecolor\":\"white\"},\"title\":{\"x\":0.05},\"mapbox\":{\"style\":\"light\"}}}},                        {\"responsive\": true}                    ).then(function(){\n",
       "                            \n",
       "var gd = document.getElementById('8e609d1b-f33e-4083-9247-19cc64468479');\n",
       "var x = new MutationObserver(function (mutations, observer) {{\n",
       "        var display = window.getComputedStyle(gd).display;\n",
       "        if (!display || display === 'none') {{\n",
       "            console.log([gd, 'removed!']);\n",
       "            Plotly.purge(gd);\n",
       "            observer.disconnect();\n",
       "        }}\n",
       "}});\n",
       "\n",
       "// Listen for the removal of the full notebook cells\n",
       "var notebookContainer = gd.closest('#notebook-container');\n",
       "if (notebookContainer) {{\n",
       "    x.observe(notebookContainer, {childList: true});\n",
       "}}\n",
       "\n",
       "// Listen for the clearing of the current output cell\n",
       "var outputEl = gd.closest('.output');\n",
       "if (outputEl) {{\n",
       "    x.observe(outputEl, {childList: true});\n",
       "}}\n",
       "\n",
       "                        })                };                });            </script>        </div>"
      ]
     },
     "metadata": {},
     "output_type": "display_data"
    }
   ],
   "source": [
    "# 하이퍼파라미터별 중요도를 확인할 수 있는 그래프\n",
    "optuna.visualization.plot_param_importances(study)"
   ]
  },
  {
   "cell_type": "code",
   "execution_count": 128,
   "metadata": {
    "colab": {
     "base_uri": "https://localhost:8080/",
     "height": 542
    },
    "id": "rGwp__vzVcIs",
    "outputId": "57559a0b-2536-435f-def8-5b2b883350f0"
   },
   "outputs": [
    {
     "data": {
      "application/vnd.plotly.v1+json": {
       "config": {
        "plotlyServerURL": "https://plot.ly"
       },
       "data": [
        {
         "mode": "markers",
         "name": "Objective Value",
         "type": "scatter",
         "x": [
          0,
          1,
          2,
          3,
          4,
          5,
          6,
          7,
          8,
          9,
          10,
          11,
          12,
          13,
          14,
          15,
          16,
          17,
          18,
          19,
          20,
          21,
          22,
          23,
          24
         ],
         "y": [
          5.404277392257727,
          5.519366496953844,
          5.41506460360334,
          5.3643227049516815,
          5.333458526753935,
          5.7322500538636785,
          5.335413385155354,
          5.287651060239178,
          5.512156479225682,
          5.287211596672692,
          5.397266258220815,
          5.238900111477606,
          5.336262750581526,
          5.299108392522431,
          5.427387715810148,
          5.175007096781394,
          5.258028313375255,
          5.162546810643352,
          5.236575216150533,
          5.222802585254002,
          5.27838681465424,
          5.2131790827856,
          5.191839548845924,
          5.160971239946674,
          5.18915802142063
         ]
        },
        {
         "name": "Best Value",
         "type": "scatter",
         "x": [
          0,
          1,
          2,
          3,
          4,
          5,
          6,
          7,
          8,
          9,
          10,
          11,
          12,
          13,
          14,
          15,
          16,
          17,
          18,
          19,
          20,
          21,
          22,
          23,
          24
         ],
         "y": [
          5.404277392257727,
          5.404277392257727,
          5.404277392257727,
          5.3643227049516815,
          5.333458526753935,
          5.333458526753935,
          5.333458526753935,
          5.287651060239178,
          5.287651060239178,
          5.287211596672692,
          5.287211596672692,
          5.238900111477606,
          5.238900111477606,
          5.238900111477606,
          5.238900111477606,
          5.175007096781394,
          5.175007096781394,
          5.162546810643352,
          5.162546810643352,
          5.162546810643352,
          5.162546810643352,
          5.162546810643352,
          5.162546810643352,
          5.160971239946674,
          5.160971239946674
         ]
        }
       ],
       "layout": {
        "template": {
         "data": {
          "bar": [
           {
            "error_x": {
             "color": "#2a3f5f"
            },
            "error_y": {
             "color": "#2a3f5f"
            },
            "marker": {
             "line": {
              "color": "#E5ECF6",
              "width": 0.5
             },
             "pattern": {
              "fillmode": "overlay",
              "size": 10,
              "solidity": 0.2
             }
            },
            "type": "bar"
           }
          ],
          "barpolar": [
           {
            "marker": {
             "line": {
              "color": "#E5ECF6",
              "width": 0.5
             },
             "pattern": {
              "fillmode": "overlay",
              "size": 10,
              "solidity": 0.2
             }
            },
            "type": "barpolar"
           }
          ],
          "carpet": [
           {
            "aaxis": {
             "endlinecolor": "#2a3f5f",
             "gridcolor": "white",
             "linecolor": "white",
             "minorgridcolor": "white",
             "startlinecolor": "#2a3f5f"
            },
            "baxis": {
             "endlinecolor": "#2a3f5f",
             "gridcolor": "white",
             "linecolor": "white",
             "minorgridcolor": "white",
             "startlinecolor": "#2a3f5f"
            },
            "type": "carpet"
           }
          ],
          "choropleth": [
           {
            "colorbar": {
             "outlinewidth": 0,
             "ticks": ""
            },
            "type": "choropleth"
           }
          ],
          "contour": [
           {
            "colorbar": {
             "outlinewidth": 0,
             "ticks": ""
            },
            "colorscale": [
             [
              0,
              "#0d0887"
             ],
             [
              0.1111111111111111,
              "#46039f"
             ],
             [
              0.2222222222222222,
              "#7201a8"
             ],
             [
              0.3333333333333333,
              "#9c179e"
             ],
             [
              0.4444444444444444,
              "#bd3786"
             ],
             [
              0.5555555555555556,
              "#d8576b"
             ],
             [
              0.6666666666666666,
              "#ed7953"
             ],
             [
              0.7777777777777778,
              "#fb9f3a"
             ],
             [
              0.8888888888888888,
              "#fdca26"
             ],
             [
              1,
              "#f0f921"
             ]
            ],
            "type": "contour"
           }
          ],
          "contourcarpet": [
           {
            "colorbar": {
             "outlinewidth": 0,
             "ticks": ""
            },
            "type": "contourcarpet"
           }
          ],
          "heatmap": [
           {
            "colorbar": {
             "outlinewidth": 0,
             "ticks": ""
            },
            "colorscale": [
             [
              0,
              "#0d0887"
             ],
             [
              0.1111111111111111,
              "#46039f"
             ],
             [
              0.2222222222222222,
              "#7201a8"
             ],
             [
              0.3333333333333333,
              "#9c179e"
             ],
             [
              0.4444444444444444,
              "#bd3786"
             ],
             [
              0.5555555555555556,
              "#d8576b"
             ],
             [
              0.6666666666666666,
              "#ed7953"
             ],
             [
              0.7777777777777778,
              "#fb9f3a"
             ],
             [
              0.8888888888888888,
              "#fdca26"
             ],
             [
              1,
              "#f0f921"
             ]
            ],
            "type": "heatmap"
           }
          ],
          "heatmapgl": [
           {
            "colorbar": {
             "outlinewidth": 0,
             "ticks": ""
            },
            "colorscale": [
             [
              0,
              "#0d0887"
             ],
             [
              0.1111111111111111,
              "#46039f"
             ],
             [
              0.2222222222222222,
              "#7201a8"
             ],
             [
              0.3333333333333333,
              "#9c179e"
             ],
             [
              0.4444444444444444,
              "#bd3786"
             ],
             [
              0.5555555555555556,
              "#d8576b"
             ],
             [
              0.6666666666666666,
              "#ed7953"
             ],
             [
              0.7777777777777778,
              "#fb9f3a"
             ],
             [
              0.8888888888888888,
              "#fdca26"
             ],
             [
              1,
              "#f0f921"
             ]
            ],
            "type": "heatmapgl"
           }
          ],
          "histogram": [
           {
            "marker": {
             "pattern": {
              "fillmode": "overlay",
              "size": 10,
              "solidity": 0.2
             }
            },
            "type": "histogram"
           }
          ],
          "histogram2d": [
           {
            "colorbar": {
             "outlinewidth": 0,
             "ticks": ""
            },
            "colorscale": [
             [
              0,
              "#0d0887"
             ],
             [
              0.1111111111111111,
              "#46039f"
             ],
             [
              0.2222222222222222,
              "#7201a8"
             ],
             [
              0.3333333333333333,
              "#9c179e"
             ],
             [
              0.4444444444444444,
              "#bd3786"
             ],
             [
              0.5555555555555556,
              "#d8576b"
             ],
             [
              0.6666666666666666,
              "#ed7953"
             ],
             [
              0.7777777777777778,
              "#fb9f3a"
             ],
             [
              0.8888888888888888,
              "#fdca26"
             ],
             [
              1,
              "#f0f921"
             ]
            ],
            "type": "histogram2d"
           }
          ],
          "histogram2dcontour": [
           {
            "colorbar": {
             "outlinewidth": 0,
             "ticks": ""
            },
            "colorscale": [
             [
              0,
              "#0d0887"
             ],
             [
              0.1111111111111111,
              "#46039f"
             ],
             [
              0.2222222222222222,
              "#7201a8"
             ],
             [
              0.3333333333333333,
              "#9c179e"
             ],
             [
              0.4444444444444444,
              "#bd3786"
             ],
             [
              0.5555555555555556,
              "#d8576b"
             ],
             [
              0.6666666666666666,
              "#ed7953"
             ],
             [
              0.7777777777777778,
              "#fb9f3a"
             ],
             [
              0.8888888888888888,
              "#fdca26"
             ],
             [
              1,
              "#f0f921"
             ]
            ],
            "type": "histogram2dcontour"
           }
          ],
          "mesh3d": [
           {
            "colorbar": {
             "outlinewidth": 0,
             "ticks": ""
            },
            "type": "mesh3d"
           }
          ],
          "parcoords": [
           {
            "line": {
             "colorbar": {
              "outlinewidth": 0,
              "ticks": ""
             }
            },
            "type": "parcoords"
           }
          ],
          "pie": [
           {
            "automargin": true,
            "type": "pie"
           }
          ],
          "scatter": [
           {
            "fillpattern": {
             "fillmode": "overlay",
             "size": 10,
             "solidity": 0.2
            },
            "type": "scatter"
           }
          ],
          "scatter3d": [
           {
            "line": {
             "colorbar": {
              "outlinewidth": 0,
              "ticks": ""
             }
            },
            "marker": {
             "colorbar": {
              "outlinewidth": 0,
              "ticks": ""
             }
            },
            "type": "scatter3d"
           }
          ],
          "scattercarpet": [
           {
            "marker": {
             "colorbar": {
              "outlinewidth": 0,
              "ticks": ""
             }
            },
            "type": "scattercarpet"
           }
          ],
          "scattergeo": [
           {
            "marker": {
             "colorbar": {
              "outlinewidth": 0,
              "ticks": ""
             }
            },
            "type": "scattergeo"
           }
          ],
          "scattergl": [
           {
            "marker": {
             "colorbar": {
              "outlinewidth": 0,
              "ticks": ""
             }
            },
            "type": "scattergl"
           }
          ],
          "scattermapbox": [
           {
            "marker": {
             "colorbar": {
              "outlinewidth": 0,
              "ticks": ""
             }
            },
            "type": "scattermapbox"
           }
          ],
          "scatterpolar": [
           {
            "marker": {
             "colorbar": {
              "outlinewidth": 0,
              "ticks": ""
             }
            },
            "type": "scatterpolar"
           }
          ],
          "scatterpolargl": [
           {
            "marker": {
             "colorbar": {
              "outlinewidth": 0,
              "ticks": ""
             }
            },
            "type": "scatterpolargl"
           }
          ],
          "scatterternary": [
           {
            "marker": {
             "colorbar": {
              "outlinewidth": 0,
              "ticks": ""
             }
            },
            "type": "scatterternary"
           }
          ],
          "surface": [
           {
            "colorbar": {
             "outlinewidth": 0,
             "ticks": ""
            },
            "colorscale": [
             [
              0,
              "#0d0887"
             ],
             [
              0.1111111111111111,
              "#46039f"
             ],
             [
              0.2222222222222222,
              "#7201a8"
             ],
             [
              0.3333333333333333,
              "#9c179e"
             ],
             [
              0.4444444444444444,
              "#bd3786"
             ],
             [
              0.5555555555555556,
              "#d8576b"
             ],
             [
              0.6666666666666666,
              "#ed7953"
             ],
             [
              0.7777777777777778,
              "#fb9f3a"
             ],
             [
              0.8888888888888888,
              "#fdca26"
             ],
             [
              1,
              "#f0f921"
             ]
            ],
            "type": "surface"
           }
          ],
          "table": [
           {
            "cells": {
             "fill": {
              "color": "#EBF0F8"
             },
             "line": {
              "color": "white"
             }
            },
            "header": {
             "fill": {
              "color": "#C8D4E3"
             },
             "line": {
              "color": "white"
             }
            },
            "type": "table"
           }
          ]
         },
         "layout": {
          "annotationdefaults": {
           "arrowcolor": "#2a3f5f",
           "arrowhead": 0,
           "arrowwidth": 1
          },
          "autotypenumbers": "strict",
          "coloraxis": {
           "colorbar": {
            "outlinewidth": 0,
            "ticks": ""
           }
          },
          "colorscale": {
           "diverging": [
            [
             0,
             "#8e0152"
            ],
            [
             0.1,
             "#c51b7d"
            ],
            [
             0.2,
             "#de77ae"
            ],
            [
             0.3,
             "#f1b6da"
            ],
            [
             0.4,
             "#fde0ef"
            ],
            [
             0.5,
             "#f7f7f7"
            ],
            [
             0.6,
             "#e6f5d0"
            ],
            [
             0.7,
             "#b8e186"
            ],
            [
             0.8,
             "#7fbc41"
            ],
            [
             0.9,
             "#4d9221"
            ],
            [
             1,
             "#276419"
            ]
           ],
           "sequential": [
            [
             0,
             "#0d0887"
            ],
            [
             0.1111111111111111,
             "#46039f"
            ],
            [
             0.2222222222222222,
             "#7201a8"
            ],
            [
             0.3333333333333333,
             "#9c179e"
            ],
            [
             0.4444444444444444,
             "#bd3786"
            ],
            [
             0.5555555555555556,
             "#d8576b"
            ],
            [
             0.6666666666666666,
             "#ed7953"
            ],
            [
             0.7777777777777778,
             "#fb9f3a"
            ],
            [
             0.8888888888888888,
             "#fdca26"
            ],
            [
             1,
             "#f0f921"
            ]
           ],
           "sequentialminus": [
            [
             0,
             "#0d0887"
            ],
            [
             0.1111111111111111,
             "#46039f"
            ],
            [
             0.2222222222222222,
             "#7201a8"
            ],
            [
             0.3333333333333333,
             "#9c179e"
            ],
            [
             0.4444444444444444,
             "#bd3786"
            ],
            [
             0.5555555555555556,
             "#d8576b"
            ],
            [
             0.6666666666666666,
             "#ed7953"
            ],
            [
             0.7777777777777778,
             "#fb9f3a"
            ],
            [
             0.8888888888888888,
             "#fdca26"
            ],
            [
             1,
             "#f0f921"
            ]
           ]
          },
          "colorway": [
           "#636efa",
           "#EF553B",
           "#00cc96",
           "#ab63fa",
           "#FFA15A",
           "#19d3f3",
           "#FF6692",
           "#B6E880",
           "#FF97FF",
           "#FECB52"
          ],
          "font": {
           "color": "#2a3f5f"
          },
          "geo": {
           "bgcolor": "white",
           "lakecolor": "white",
           "landcolor": "#E5ECF6",
           "showlakes": true,
           "showland": true,
           "subunitcolor": "white"
          },
          "hoverlabel": {
           "align": "left"
          },
          "hovermode": "closest",
          "mapbox": {
           "style": "light"
          },
          "paper_bgcolor": "white",
          "plot_bgcolor": "#E5ECF6",
          "polar": {
           "angularaxis": {
            "gridcolor": "white",
            "linecolor": "white",
            "ticks": ""
           },
           "bgcolor": "#E5ECF6",
           "radialaxis": {
            "gridcolor": "white",
            "linecolor": "white",
            "ticks": ""
           }
          },
          "scene": {
           "xaxis": {
            "backgroundcolor": "#E5ECF6",
            "gridcolor": "white",
            "gridwidth": 2,
            "linecolor": "white",
            "showbackground": true,
            "ticks": "",
            "zerolinecolor": "white"
           },
           "yaxis": {
            "backgroundcolor": "#E5ECF6",
            "gridcolor": "white",
            "gridwidth": 2,
            "linecolor": "white",
            "showbackground": true,
            "ticks": "",
            "zerolinecolor": "white"
           },
           "zaxis": {
            "backgroundcolor": "#E5ECF6",
            "gridcolor": "white",
            "gridwidth": 2,
            "linecolor": "white",
            "showbackground": true,
            "ticks": "",
            "zerolinecolor": "white"
           }
          },
          "shapedefaults": {
           "line": {
            "color": "#2a3f5f"
           }
          },
          "ternary": {
           "aaxis": {
            "gridcolor": "white",
            "linecolor": "white",
            "ticks": ""
           },
           "baxis": {
            "gridcolor": "white",
            "linecolor": "white",
            "ticks": ""
           },
           "bgcolor": "#E5ECF6",
           "caxis": {
            "gridcolor": "white",
            "linecolor": "white",
            "ticks": ""
           }
          },
          "title": {
           "x": 0.05
          },
          "xaxis": {
           "automargin": true,
           "gridcolor": "white",
           "linecolor": "white",
           "ticks": "",
           "title": {
            "standoff": 15
           },
           "zerolinecolor": "white",
           "zerolinewidth": 2
          },
          "yaxis": {
           "automargin": true,
           "gridcolor": "white",
           "linecolor": "white",
           "ticks": "",
           "title": {
            "standoff": 15
           },
           "zerolinecolor": "white",
           "zerolinewidth": 2
          }
         }
        },
        "title": {
         "text": "Optimization History Plot"
        },
        "xaxis": {
         "title": {
          "text": "Trial"
         }
        },
        "yaxis": {
         "title": {
          "text": "Objective Value"
         }
        }
       }
      },
      "text/html": [
       "<div>                            <div id=\"90ffc220-fbae-4d62-a1af-6b73168a9915\" class=\"plotly-graph-div\" style=\"height:525px; width:100%;\"></div>            <script type=\"text/javascript\">                require([\"plotly\"], function(Plotly) {                    window.PLOTLYENV=window.PLOTLYENV || {};                                    if (document.getElementById(\"90ffc220-fbae-4d62-a1af-6b73168a9915\")) {                    Plotly.newPlot(                        \"90ffc220-fbae-4d62-a1af-6b73168a9915\",                        [{\"mode\":\"markers\",\"name\":\"Objective Value\",\"x\":[0,1,2,3,4,5,6,7,8,9,10,11,12,13,14,15,16,17,18,19,20,21,22,23,24],\"y\":[5.404277392257727,5.519366496953844,5.41506460360334,5.3643227049516815,5.333458526753935,5.7322500538636785,5.335413385155354,5.287651060239178,5.512156479225682,5.287211596672692,5.397266258220815,5.238900111477606,5.336262750581526,5.299108392522431,5.427387715810148,5.175007096781394,5.258028313375255,5.162546810643352,5.236575216150533,5.222802585254002,5.27838681465424,5.2131790827856,5.191839548845924,5.160971239946674,5.18915802142063],\"type\":\"scatter\"},{\"name\":\"Best Value\",\"x\":[0,1,2,3,4,5,6,7,8,9,10,11,12,13,14,15,16,17,18,19,20,21,22,23,24],\"y\":[5.404277392257727,5.404277392257727,5.404277392257727,5.3643227049516815,5.333458526753935,5.333458526753935,5.333458526753935,5.287651060239178,5.287651060239178,5.287211596672692,5.287211596672692,5.238900111477606,5.238900111477606,5.238900111477606,5.238900111477606,5.175007096781394,5.175007096781394,5.162546810643352,5.162546810643352,5.162546810643352,5.162546810643352,5.162546810643352,5.162546810643352,5.160971239946674,5.160971239946674],\"type\":\"scatter\"}],                        {\"title\":{\"text\":\"Optimization History Plot\"},\"xaxis\":{\"title\":{\"text\":\"Trial\"}},\"yaxis\":{\"title\":{\"text\":\"Objective Value\"}},\"template\":{\"data\":{\"histogram2dcontour\":[{\"type\":\"histogram2dcontour\",\"colorbar\":{\"outlinewidth\":0,\"ticks\":\"\"},\"colorscale\":[[0.0,\"#0d0887\"],[0.1111111111111111,\"#46039f\"],[0.2222222222222222,\"#7201a8\"],[0.3333333333333333,\"#9c179e\"],[0.4444444444444444,\"#bd3786\"],[0.5555555555555556,\"#d8576b\"],[0.6666666666666666,\"#ed7953\"],[0.7777777777777778,\"#fb9f3a\"],[0.8888888888888888,\"#fdca26\"],[1.0,\"#f0f921\"]]}],\"choropleth\":[{\"type\":\"choropleth\",\"colorbar\":{\"outlinewidth\":0,\"ticks\":\"\"}}],\"histogram2d\":[{\"type\":\"histogram2d\",\"colorbar\":{\"outlinewidth\":0,\"ticks\":\"\"},\"colorscale\":[[0.0,\"#0d0887\"],[0.1111111111111111,\"#46039f\"],[0.2222222222222222,\"#7201a8\"],[0.3333333333333333,\"#9c179e\"],[0.4444444444444444,\"#bd3786\"],[0.5555555555555556,\"#d8576b\"],[0.6666666666666666,\"#ed7953\"],[0.7777777777777778,\"#fb9f3a\"],[0.8888888888888888,\"#fdca26\"],[1.0,\"#f0f921\"]]}],\"heatmap\":[{\"type\":\"heatmap\",\"colorbar\":{\"outlinewidth\":0,\"ticks\":\"\"},\"colorscale\":[[0.0,\"#0d0887\"],[0.1111111111111111,\"#46039f\"],[0.2222222222222222,\"#7201a8\"],[0.3333333333333333,\"#9c179e\"],[0.4444444444444444,\"#bd3786\"],[0.5555555555555556,\"#d8576b\"],[0.6666666666666666,\"#ed7953\"],[0.7777777777777778,\"#fb9f3a\"],[0.8888888888888888,\"#fdca26\"],[1.0,\"#f0f921\"]]}],\"heatmapgl\":[{\"type\":\"heatmapgl\",\"colorbar\":{\"outlinewidth\":0,\"ticks\":\"\"},\"colorscale\":[[0.0,\"#0d0887\"],[0.1111111111111111,\"#46039f\"],[0.2222222222222222,\"#7201a8\"],[0.3333333333333333,\"#9c179e\"],[0.4444444444444444,\"#bd3786\"],[0.5555555555555556,\"#d8576b\"],[0.6666666666666666,\"#ed7953\"],[0.7777777777777778,\"#fb9f3a\"],[0.8888888888888888,\"#fdca26\"],[1.0,\"#f0f921\"]]}],\"contourcarpet\":[{\"type\":\"contourcarpet\",\"colorbar\":{\"outlinewidth\":0,\"ticks\":\"\"}}],\"contour\":[{\"type\":\"contour\",\"colorbar\":{\"outlinewidth\":0,\"ticks\":\"\"},\"colorscale\":[[0.0,\"#0d0887\"],[0.1111111111111111,\"#46039f\"],[0.2222222222222222,\"#7201a8\"],[0.3333333333333333,\"#9c179e\"],[0.4444444444444444,\"#bd3786\"],[0.5555555555555556,\"#d8576b\"],[0.6666666666666666,\"#ed7953\"],[0.7777777777777778,\"#fb9f3a\"],[0.8888888888888888,\"#fdca26\"],[1.0,\"#f0f921\"]]}],\"surface\":[{\"type\":\"surface\",\"colorbar\":{\"outlinewidth\":0,\"ticks\":\"\"},\"colorscale\":[[0.0,\"#0d0887\"],[0.1111111111111111,\"#46039f\"],[0.2222222222222222,\"#7201a8\"],[0.3333333333333333,\"#9c179e\"],[0.4444444444444444,\"#bd3786\"],[0.5555555555555556,\"#d8576b\"],[0.6666666666666666,\"#ed7953\"],[0.7777777777777778,\"#fb9f3a\"],[0.8888888888888888,\"#fdca26\"],[1.0,\"#f0f921\"]]}],\"mesh3d\":[{\"type\":\"mesh3d\",\"colorbar\":{\"outlinewidth\":0,\"ticks\":\"\"}}],\"scatter\":[{\"fillpattern\":{\"fillmode\":\"overlay\",\"size\":10,\"solidity\":0.2},\"type\":\"scatter\"}],\"parcoords\":[{\"type\":\"parcoords\",\"line\":{\"colorbar\":{\"outlinewidth\":0,\"ticks\":\"\"}}}],\"scatterpolargl\":[{\"type\":\"scatterpolargl\",\"marker\":{\"colorbar\":{\"outlinewidth\":0,\"ticks\":\"\"}}}],\"bar\":[{\"error_x\":{\"color\":\"#2a3f5f\"},\"error_y\":{\"color\":\"#2a3f5f\"},\"marker\":{\"line\":{\"color\":\"#E5ECF6\",\"width\":0.5},\"pattern\":{\"fillmode\":\"overlay\",\"size\":10,\"solidity\":0.2}},\"type\":\"bar\"}],\"scattergeo\":[{\"type\":\"scattergeo\",\"marker\":{\"colorbar\":{\"outlinewidth\":0,\"ticks\":\"\"}}}],\"scatterpolar\":[{\"type\":\"scatterpolar\",\"marker\":{\"colorbar\":{\"outlinewidth\":0,\"ticks\":\"\"}}}],\"histogram\":[{\"marker\":{\"pattern\":{\"fillmode\":\"overlay\",\"size\":10,\"solidity\":0.2}},\"type\":\"histogram\"}],\"scattergl\":[{\"type\":\"scattergl\",\"marker\":{\"colorbar\":{\"outlinewidth\":0,\"ticks\":\"\"}}}],\"scatter3d\":[{\"type\":\"scatter3d\",\"line\":{\"colorbar\":{\"outlinewidth\":0,\"ticks\":\"\"}},\"marker\":{\"colorbar\":{\"outlinewidth\":0,\"ticks\":\"\"}}}],\"scattermapbox\":[{\"type\":\"scattermapbox\",\"marker\":{\"colorbar\":{\"outlinewidth\":0,\"ticks\":\"\"}}}],\"scatterternary\":[{\"type\":\"scatterternary\",\"marker\":{\"colorbar\":{\"outlinewidth\":0,\"ticks\":\"\"}}}],\"scattercarpet\":[{\"type\":\"scattercarpet\",\"marker\":{\"colorbar\":{\"outlinewidth\":0,\"ticks\":\"\"}}}],\"carpet\":[{\"aaxis\":{\"endlinecolor\":\"#2a3f5f\",\"gridcolor\":\"white\",\"linecolor\":\"white\",\"minorgridcolor\":\"white\",\"startlinecolor\":\"#2a3f5f\"},\"baxis\":{\"endlinecolor\":\"#2a3f5f\",\"gridcolor\":\"white\",\"linecolor\":\"white\",\"minorgridcolor\":\"white\",\"startlinecolor\":\"#2a3f5f\"},\"type\":\"carpet\"}],\"table\":[{\"cells\":{\"fill\":{\"color\":\"#EBF0F8\"},\"line\":{\"color\":\"white\"}},\"header\":{\"fill\":{\"color\":\"#C8D4E3\"},\"line\":{\"color\":\"white\"}},\"type\":\"table\"}],\"barpolar\":[{\"marker\":{\"line\":{\"color\":\"#E5ECF6\",\"width\":0.5},\"pattern\":{\"fillmode\":\"overlay\",\"size\":10,\"solidity\":0.2}},\"type\":\"barpolar\"}],\"pie\":[{\"automargin\":true,\"type\":\"pie\"}]},\"layout\":{\"autotypenumbers\":\"strict\",\"colorway\":[\"#636efa\",\"#EF553B\",\"#00cc96\",\"#ab63fa\",\"#FFA15A\",\"#19d3f3\",\"#FF6692\",\"#B6E880\",\"#FF97FF\",\"#FECB52\"],\"font\":{\"color\":\"#2a3f5f\"},\"hovermode\":\"closest\",\"hoverlabel\":{\"align\":\"left\"},\"paper_bgcolor\":\"white\",\"plot_bgcolor\":\"#E5ECF6\",\"polar\":{\"bgcolor\":\"#E5ECF6\",\"angularaxis\":{\"gridcolor\":\"white\",\"linecolor\":\"white\",\"ticks\":\"\"},\"radialaxis\":{\"gridcolor\":\"white\",\"linecolor\":\"white\",\"ticks\":\"\"}},\"ternary\":{\"bgcolor\":\"#E5ECF6\",\"aaxis\":{\"gridcolor\":\"white\",\"linecolor\":\"white\",\"ticks\":\"\"},\"baxis\":{\"gridcolor\":\"white\",\"linecolor\":\"white\",\"ticks\":\"\"},\"caxis\":{\"gridcolor\":\"white\",\"linecolor\":\"white\",\"ticks\":\"\"}},\"coloraxis\":{\"colorbar\":{\"outlinewidth\":0,\"ticks\":\"\"}},\"colorscale\":{\"sequential\":[[0.0,\"#0d0887\"],[0.1111111111111111,\"#46039f\"],[0.2222222222222222,\"#7201a8\"],[0.3333333333333333,\"#9c179e\"],[0.4444444444444444,\"#bd3786\"],[0.5555555555555556,\"#d8576b\"],[0.6666666666666666,\"#ed7953\"],[0.7777777777777778,\"#fb9f3a\"],[0.8888888888888888,\"#fdca26\"],[1.0,\"#f0f921\"]],\"sequentialminus\":[[0.0,\"#0d0887\"],[0.1111111111111111,\"#46039f\"],[0.2222222222222222,\"#7201a8\"],[0.3333333333333333,\"#9c179e\"],[0.4444444444444444,\"#bd3786\"],[0.5555555555555556,\"#d8576b\"],[0.6666666666666666,\"#ed7953\"],[0.7777777777777778,\"#fb9f3a\"],[0.8888888888888888,\"#fdca26\"],[1.0,\"#f0f921\"]],\"diverging\":[[0,\"#8e0152\"],[0.1,\"#c51b7d\"],[0.2,\"#de77ae\"],[0.3,\"#f1b6da\"],[0.4,\"#fde0ef\"],[0.5,\"#f7f7f7\"],[0.6,\"#e6f5d0\"],[0.7,\"#b8e186\"],[0.8,\"#7fbc41\"],[0.9,\"#4d9221\"],[1,\"#276419\"]]},\"xaxis\":{\"gridcolor\":\"white\",\"linecolor\":\"white\",\"ticks\":\"\",\"title\":{\"standoff\":15},\"zerolinecolor\":\"white\",\"automargin\":true,\"zerolinewidth\":2},\"yaxis\":{\"gridcolor\":\"white\",\"linecolor\":\"white\",\"ticks\":\"\",\"title\":{\"standoff\":15},\"zerolinecolor\":\"white\",\"automargin\":true,\"zerolinewidth\":2},\"scene\":{\"xaxis\":{\"backgroundcolor\":\"#E5ECF6\",\"gridcolor\":\"white\",\"linecolor\":\"white\",\"showbackground\":true,\"ticks\":\"\",\"zerolinecolor\":\"white\",\"gridwidth\":2},\"yaxis\":{\"backgroundcolor\":\"#E5ECF6\",\"gridcolor\":\"white\",\"linecolor\":\"white\",\"showbackground\":true,\"ticks\":\"\",\"zerolinecolor\":\"white\",\"gridwidth\":2},\"zaxis\":{\"backgroundcolor\":\"#E5ECF6\",\"gridcolor\":\"white\",\"linecolor\":\"white\",\"showbackground\":true,\"ticks\":\"\",\"zerolinecolor\":\"white\",\"gridwidth\":2}},\"shapedefaults\":{\"line\":{\"color\":\"#2a3f5f\"}},\"annotationdefaults\":{\"arrowcolor\":\"#2a3f5f\",\"arrowhead\":0,\"arrowwidth\":1},\"geo\":{\"bgcolor\":\"white\",\"landcolor\":\"#E5ECF6\",\"subunitcolor\":\"white\",\"showland\":true,\"showlakes\":true,\"lakecolor\":\"white\"},\"title\":{\"x\":0.05},\"mapbox\":{\"style\":\"light\"}}}},                        {\"responsive\": true}                    ).then(function(){\n",
       "                            \n",
       "var gd = document.getElementById('90ffc220-fbae-4d62-a1af-6b73168a9915');\n",
       "var x = new MutationObserver(function (mutations, observer) {{\n",
       "        var display = window.getComputedStyle(gd).display;\n",
       "        if (!display || display === 'none') {{\n",
       "            console.log([gd, 'removed!']);\n",
       "            Plotly.purge(gd);\n",
       "            observer.disconnect();\n",
       "        }}\n",
       "}});\n",
       "\n",
       "// Listen for the removal of the full notebook cells\n",
       "var notebookContainer = gd.closest('#notebook-container');\n",
       "if (notebookContainer) {{\n",
       "    x.observe(notebookContainer, {childList: true});\n",
       "}}\n",
       "\n",
       "// Listen for the clearing of the current output cell\n",
       "var outputEl = gd.closest('.output');\n",
       "if (outputEl) {{\n",
       "    x.observe(outputEl, {childList: true});\n",
       "}}\n",
       "\n",
       "                        })                };                });            </script>        </div>"
      ]
     },
     "metadata": {},
     "output_type": "display_data"
    }
   ],
   "source": [
    "# 하이퍼파라미터 최적화 과정을 확인\n",
    "optuna.visualization.plot_optimization_history(study)"
   ]
  },
  {
   "cell_type": "code",
   "execution_count": 129,
   "metadata": {
    "id": "OBxvN8LTVcIs"
   },
   "outputs": [
    {
     "data": {
      "text/plain": [
       "\"\\nprint(study.best_params)\\nprint('---------------------')\\nprint(study.best_value)\\n\""
      ]
     },
     "execution_count": 129,
     "metadata": {},
     "output_type": "execute_result"
    }
   ],
   "source": [
    "'''\n",
    "print(study.best_params)\n",
    "print('---------------------')\n",
    "print(study.best_value)\n",
    "'''"
   ]
  },
  {
   "cell_type": "code",
   "execution_count": 130,
   "metadata": {
    "id": "5ZLmqOW8VcIs"
   },
   "outputs": [
    {
     "data": {
      "text/plain": [
       "{'tree_learner': 'data',\n",
       " 'learning_rate': 0.036858783107973414,\n",
       " 'lambda_l1': 0.0008810357016906994,\n",
       " 'lambda_l2': 1.0901079823674582e-06,\n",
       " 'num_leaves': 228,\n",
       " 'feature_fraction': 0.5481678720495614,\n",
       " 'bagging_fraction': 0.8219873399891556,\n",
       " 'bagging_freq': 20,\n",
       " 'min_child_samples': 15,\n",
       " 'min_gain_to_split': 4.55,\n",
       " 'max_depth': 26,\n",
       " 'max_bin': 200,\n",
       " 'min_data_in_bin': 4}"
      ]
     },
     "execution_count": 130,
     "metadata": {},
     "output_type": "execute_result"
    }
   ],
   "source": [
    "params = study.best_params\n",
    "params"
   ]
  },
  {
   "cell_type": "code",
   "execution_count": 131,
   "metadata": {},
   "outputs": [],
   "source": [
    "train_x, test_x, train_y, test_y = train_test_split(x_final, y, random_state=random_state, test_size=0.05)"
   ]
  },
  {
   "cell_type": "code",
   "execution_count": 132,
   "metadata": {
    "id": "39XRd6m_VcIt"
   },
   "outputs": [
    {
     "name": "stdout",
     "output_type": "stream",
     "text": [
      "[LightGBM] [Warning] feature_fraction is set=0.5481678720495614, colsample_bytree=1.0 will be ignored. Current value: feature_fraction=0.5481678720495614\n",
      "[LightGBM] [Warning] min_gain_to_split is set=4.55, min_split_gain=0.0 will be ignored. Current value: min_gain_to_split=4.55\n",
      "[LightGBM] [Warning] lambda_l1 is set=0.0008810357016906994, reg_alpha=0.0 will be ignored. Current value: lambda_l1=0.0008810357016906994\n",
      "[LightGBM] [Warning] bagging_fraction is set=0.8219873399891556, subsample=1.0 will be ignored. Current value: bagging_fraction=0.8219873399891556\n",
      "[LightGBM] [Warning] lambda_l2 is set=1.0901079823674582e-06, reg_lambda=0.0 will be ignored. Current value: lambda_l2=1.0901079823674582e-06\n",
      "[LightGBM] [Warning] bagging_freq is set=20, subsample_freq=0 will be ignored. Current value: bagging_freq=20\n",
      "[LightGBM] [Warning] early_stopping_round is set=50, early_stopping_rounds=50 will be ignored. Current value: early_stopping_round=50\n",
      "[50]\tvalid_0's l1: 4.90731\n",
      "[100]\tvalid_0's l1: 3.92826\n",
      "[150]\tvalid_0's l1: 3.70305\n",
      "[200]\tvalid_0's l1: 3.57853\n",
      "[250]\tvalid_0's l1: 3.49579\n",
      "[300]\tvalid_0's l1: 3.43879\n",
      "[350]\tvalid_0's l1: 3.40487\n",
      "[400]\tvalid_0's l1: 3.37846\n",
      "[450]\tvalid_0's l1: 3.35689\n",
      "[500]\tvalid_0's l1: 3.34056\n",
      "[550]\tvalid_0's l1: 3.32478\n",
      "[600]\tvalid_0's l1: 3.30697\n",
      "[650]\tvalid_0's l1: 3.29233\n",
      "[700]\tvalid_0's l1: 3.28221\n",
      "[750]\tvalid_0's l1: 3.26926\n",
      "[800]\tvalid_0's l1: 3.25877\n",
      "[850]\tvalid_0's l1: 3.24954\n",
      "[900]\tvalid_0's l1: 3.2392\n",
      "[950]\tvalid_0's l1: 3.22996\n",
      "[1000]\tvalid_0's l1: 3.22427\n",
      "[1050]\tvalid_0's l1: 3.21607\n",
      "[1100]\tvalid_0's l1: 3.20847\n",
      "[1150]\tvalid_0's l1: 3.20156\n",
      "[1200]\tvalid_0's l1: 3.19512\n",
      "[1250]\tvalid_0's l1: 3.18993\n",
      "[1300]\tvalid_0's l1: 3.18312\n",
      "[1350]\tvalid_0's l1: 3.17807\n",
      "[1400]\tvalid_0's l1: 3.17317\n",
      "[1450]\tvalid_0's l1: 3.16699\n",
      "[1500]\tvalid_0's l1: 3.16271\n",
      "[1550]\tvalid_0's l1: 3.15907\n",
      "[1600]\tvalid_0's l1: 3.15475\n",
      "[1650]\tvalid_0's l1: 3.15016\n",
      "[1700]\tvalid_0's l1: 3.14653\n",
      "[1750]\tvalid_0's l1: 3.14344\n",
      "[1800]\tvalid_0's l1: 3.14028\n",
      "[1850]\tvalid_0's l1: 3.1373\n",
      "[1900]\tvalid_0's l1: 3.13508\n",
      "[1950]\tvalid_0's l1: 3.13211\n",
      "[2000]\tvalid_0's l1: 3.12954\n",
      "[2050]\tvalid_0's l1: 3.12608\n",
      "[2100]\tvalid_0's l1: 3.12315\n",
      "[2150]\tvalid_0's l1: 3.11995\n",
      "[2200]\tvalid_0's l1: 3.11815\n",
      "[2250]\tvalid_0's l1: 3.11623\n",
      "[2300]\tvalid_0's l1: 3.1143\n",
      "[2350]\tvalid_0's l1: 3.11166\n",
      "[2400]\tvalid_0's l1: 3.10968\n",
      "[2450]\tvalid_0's l1: 3.10814\n",
      "[2500]\tvalid_0's l1: 3.10642\n"
     ]
    },
    {
     "data": {
      "text/plain": [
       "LGBMRegressor(bagging_fraction=0.8219873399891556, bagging_freq=20,\n",
       "              early_stopping_rounds=50, feature_fraction=0.5481678720495614,\n",
       "              lambda_l1=0.0008810357016906994, lambda_l2=1.0901079823674582e-06,\n",
       "              learning_rate=0.036858783107973414, max_bin=200, max_depth=26,\n",
       "              metric='MAE', min_child_samples=15, min_data_in_bin=4,\n",
       "              min_gain_to_split=4.55, n_estimators=2500, num_leaves=228,\n",
       "              tree_learner='data')"
      ]
     },
     "execution_count": 132,
     "metadata": {},
     "output_type": "execute_result"
    }
   ],
   "source": [
    "lgbm = lgb.LGBMRegressor(**params, n_estimators=2500, metric='MAE', early_stopping_rounds=50) #device='gpu')\n",
    "lgbm.fit(train_x, train_y, eval_set=(test_x, test_y), eval_metric='MAE', verbose=50)"
   ]
  },
  {
   "cell_type": "code",
   "execution_count": 133,
   "metadata": {},
   "outputs": [
    {
     "data": {
      "text/plain": [
       "Text(0.5, 1.0, 'Feature Importance')"
      ]
     },
     "execution_count": 133,
     "metadata": {},
     "output_type": "execute_result"
    },
    {
     "data": {
      "image/png": "[encoded data removed]",
      "text/plain": [
       "<Figure size 1200x600 with 1 Axes>"
      ]
     },
     "metadata": {},
     "output_type": "display_data"
    }
   ],
   "source": [
    "feature_importance = lgbm.feature_importances_\n",
    "sorted_idx = np.argsort(feature_importance)\n",
    "fig = plt.figure(figsize=(12, 6))\n",
    "plt.barh(range(len(sorted_idx)), feature_importance[sorted_idx], align='center')\n",
    "plt.yticks(range(len(sorted_idx)), np.array(x_train.columns)[sorted_idx])\n",
    "plt.title('Feature Importance')"
   ]
  },
  {
   "cell_type": "markdown",
   "metadata": {},
   "source": [
    "## Submission"
   ]
  },
  {
   "cell_type": "code",
   "execution_count": 134,
   "metadata": {},
   "outputs": [
    {
     "data": {
      "text/plain": [
       "['lgbm_tune_model1103.pkl']"
      ]
     },
     "execution_count": 134,
     "metadata": {},
     "output_type": "execute_result"
    }
   ],
   "source": [
    "import joblib\n",
    "\n",
    "#joblib.dump(lgbm, '/content/drive/MyDrive/MYJ/open/lgbm_tune_model3.pkl')\n",
    "joblib.dump(lgbm, 'lgbm_tune_model1103.pkl')\n",
    "#lgbm = joblib.load('lgbm_tune_model1031.pkl')"
   ]
  },
  {
   "cell_type": "code",
   "execution_count": 135,
   "metadata": {
    "colab": {
     "base_uri": "https://localhost:8080/"
    },
    "id": "xguN_Pp9VcIt",
    "outputId": "8819d53e-2306-41b0-8ab2-c15d20c352f8"
   },
   "outputs": [
    {
     "name": "stdout",
     "output_type": "stream",
     "text": [
      "id        0\n",
      "target    0\n",
      "dtype: int64\n",
      "            id     target\n",
      "0  TEST_000000  24.703936\n",
      "1  TEST_000001  43.918702\n",
      "2  TEST_000002  65.364437\n",
      "3  TEST_000003  38.225969\n",
      "4  TEST_000004  43.386948\n"
     ]
    }
   ],
   "source": [
    "lgbm_tune_submit_pred = lgbm.predict(test2)\n",
    "\n",
    "y_pred2 = lgbm_tune_submit_pred\n",
    "y_pred2 = pd.DataFrame(y_pred2)\n",
    "y_pred2.columns = ['target']\n",
    "sample_submission = pd.read_csv('sample_submission.csv')\n",
    "sample_submission.drop('target', axis=1, inplace=True)\n",
    "sub = pd.concat([sample_submission, y_pred2], axis=1)\n",
    "print(sub.isnull().sum())\n",
    "print(sub.head())\n",
    "sub.to_csv(\"submitlgbm1103.csv\", index = False)"
   ]
  },
  {
   "cell_type": "code",
   "execution_count": 136,
   "metadata": {},
   "outputs": [
    {
     "name": "stdout",
     "output_type": "stream",
     "text": [
      "id        4409976\n",
      "target          0\n",
      "dtype: int64\n",
      "            id     target\n",
      "0  TEST_000000  50.995526\n",
      "1  TEST_000001  25.291747\n",
      "2  TEST_000002  61.520971\n",
      "3  TEST_000003  20.254997\n",
      "4  TEST_000004  39.092213\n"
     ]
    }
   ],
   "source": [
    "# 오답 분석용\n",
    "lgbm_train_submit_pred = lgbm.predict(x_final)\n",
    "\n",
    "y_pred2 = lgbm_train_submit_pred\n",
    "y_pred2 = pd.DataFrame(y_pred2)\n",
    "y_pred2.columns = ['target']\n",
    "sample_submission = pd.read_csv('sample_submission.csv')\n",
    "sample_submission.drop('target', axis=1, inplace=True)\n",
    "sub = pd.concat([sample_submission, y_pred2], axis=1)\n",
    "print(sub.isnull().sum())\n",
    "print(sub.head())\n",
    "sub.to_csv(\"predictlgbm1103.csv\", index = False)"
   ]
  },
  {
   "cell_type": "markdown",
   "metadata": {
    "id": "T69xSq4aVcIu"
   },
   "source": [
    "### 랜덤포레스트"
   ]
  },
  {
   "cell_type": "code",
   "execution_count": null,
   "metadata": {
    "id": "_nuDfR23VcIu"
   },
   "outputs": [],
   "source": [
    "from sklearn.ensemble import RandomForestRegressor"
   ]
  },
  {
   "cell_type": "code",
   "execution_count": null,
   "metadata": {
    "id": "KKlF12wYVcIu"
   },
   "outputs": [],
   "source": [
    "rf = RandomForestRegressor(n_jobs=-1)\n",
    "rf.fit(x_final, y)"
   ]
  },
  {
   "cell_type": "code",
   "execution_count": null,
   "metadata": {
    "id": "6in5WL0rVcIu"
   },
   "outputs": [],
   "source": [
    "joblib.dump(rf, 'rf_train_model.pkl')"
   ]
  },
  {
   "cell_type": "code",
   "execution_count": null,
   "metadata": {
    "id": "fd0jLWKBVcIu"
   },
   "outputs": [],
   "source": [
    "rf_train_pred = rf.predict(x_final)"
   ]
  },
  {
   "cell_type": "code",
   "execution_count": null,
   "metadata": {
    "id": "f194WnL9VcIu"
   },
   "outputs": [],
   "source": [
    "mean_absolute_error(y, rf_train_pred)"
   ]
  },
  {
   "cell_type": "code",
   "execution_count": null,
   "metadata": {
    "id": "0yFN4xA9VcIu"
   },
   "outputs": [],
   "source": [
    "rftest = rf.predict(test2)"
   ]
  },
  {
   "cell_type": "markdown",
   "metadata": {
    "id": "WgH4SHabVcIu"
   },
   "source": [
    "## Extratrees"
   ]
  },
  {
   "cell_type": "code",
   "execution_count": 137,
   "metadata": {
    "id": "cs-099jXVcIu"
   },
   "outputs": [],
   "source": [
    "from sklearn.ensemble import ExtraTreesRegressor"
   ]
  },
  {
   "cell_type": "code",
   "execution_count": 138,
   "metadata": {
    "id": "WLmUBYS8VcIv"
   },
   "outputs": [],
   "source": [
    "x_train, x_test, y_train, y_test = train_test_split(x_encoding, y_encoding, test_size=0.25, random_state=9)"
   ]
  },
  {
   "cell_type": "code",
   "execution_count": 139,
   "metadata": {
    "id": "ktrlhj1jVcIv"
   },
   "outputs": [],
   "source": [
    "er = ExtraTreesRegressor()"
   ]
  },
  {
   "cell_type": "code",
   "execution_count": 140,
   "metadata": {
    "id": "ddGurfgCVcIv"
   },
   "outputs": [
    {
     "data": {
      "text/plain": [
       "ExtraTreesRegressor()"
      ]
     },
     "execution_count": 140,
     "metadata": {},
     "output_type": "execute_result"
    }
   ],
   "source": [
    "er.fit(x_train, y_train)"
   ]
  },
  {
   "cell_type": "code",
   "execution_count": 141,
   "metadata": {
    "id": "OnMYUSBEVcIv"
   },
   "outputs": [
    {
     "data": {
      "text/plain": [
       "3.8299104"
      ]
     },
     "execution_count": 141,
     "metadata": {},
     "output_type": "execute_result"
    }
   ],
   "source": [
    "erpredict = er.predict(x_test)\n",
    "mean_absolute_error(y_test, erpredict)"
   ]
  }
 ],
 "metadata": {
  "accelerator": "GPU",
  "colab": {
   "collapsed_sections": [
    "T69xSq4aVcIu",
    "WgH4SHabVcIu",
    "zG7U6u7eVcIv"
   ],
   "provenance": []
  },
  "gpuClass": "standard",
  "kernelspec": {
   "display_name": "test2",
   "language": "python",
   "name": "test2"
  },
  "language_info": {
   "codemirror_mode": {
    "name": "ipython",
    "version": 3
   },
   "file_extension": ".py",
   "mimetype": "text/x-python",
   "name": "python",
   "nbconvert_exporter": "python",
   "pygments_lexer": "ipython3",
   "version": "3.7.13"
  }
 },
 "nbformat": 4,
 "nbformat_minor": 1
}
